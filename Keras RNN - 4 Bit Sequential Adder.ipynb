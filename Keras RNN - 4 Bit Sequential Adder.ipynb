{
  "nbformat": 4,
  "nbformat_minor": 0,
  "metadata": {
    "colab": {
      "name": "Keras RNN - 4 Bit Sequential Adder.ipynb",
      "provenance": [],
      "collapsed_sections": []
    },
    "kernelspec": {
      "display_name": "Python 3",
      "language": "python",
      "name": "python3"
    }
  },
  "cells": [
    {
      "cell_type": "markdown",
      "metadata": {
        "id": "nj14GUg_IJn5",
        "colab_type": "text"
      },
      "source": [
        "# Params for Simple_RNN\n",
        "\n",
        "$params = cell\\times input\\_size + cell^2$\n",
        "\n",
        "$cell^2$ means cells are fullly connected to themselves   meaning?\n"
      ]
    },
    {
      "cell_type": "code",
      "metadata": {
        "id": "QdvTvWRxfX_v",
        "colab_type": "code",
        "colab": {}
      },
      "source": [
        "%tensorflow_version 1.x"
      ],
      "execution_count": 0,
      "outputs": []
    },
    {
      "cell_type": "code",
      "metadata": {
        "id": "g3B546nNeU1v",
        "colab_type": "code",
        "outputId": "9fff462c-67e2-46cd-b0f4-edbe1736854f",
        "colab": {
          "base_uri": "https://localhost:8080/",
          "height": 34
        }
      },
      "source": [
        "# colab.research.google.com\n",
        "import tensorflow as tf\n",
        "from tensorflow import keras\n",
        "from tensorflow.keras.layers import *\n",
        "import numpy as np\n",
        "\n",
        "'''\n",
        "# labs.cognitiveclass.ai\n",
        "import keras\n",
        "from keras.layers import *\n",
        "import numpy as np\n",
        "'''"
      ],
      "execution_count": 2,
      "outputs": [
        {
          "output_type": "execute_result",
          "data": {
            "text/plain": [
              "'\\n# labs.cognitiveclass.ai\\nimport keras\\nfrom keras.layers import *\\nimport numpy as np\\n'"
            ]
          },
          "metadata": {
            "tags": []
          },
          "execution_count": 2
        }
      ]
    },
    {
      "cell_type": "markdown",
      "metadata": {
        "id": "sDdCJYo7FU9x",
        "colab_type": "text"
      },
      "source": [
        "# Prepare Training Data"
      ]
    },
    {
      "cell_type": "code",
      "metadata": {
        "id": "2M99I2BMqVa7",
        "colab_type": "code",
        "outputId": "c0a57410-1d9b-418a-a3b5-e8647906cf1b",
        "colab": {
          "base_uri": "https://localhost:8080/",
          "height": 86
        }
      },
      "source": [
        "BIT = 4\n",
        "\n",
        "def get_bit(n, bit):\n",
        "    a = []\n",
        "    for i in range(bit):\n",
        "        a.append(n & 1)\n",
        "        n >>= 1\n",
        "    return a\n",
        "  \n",
        "for i in range(4):\n",
        "    print(get_bit(i, BIT))\n"
      ],
      "execution_count": 3,
      "outputs": [
        {
          "output_type": "stream",
          "text": [
            "[0, 0, 0, 0]\n",
            "[1, 0, 0, 0]\n",
            "[0, 1, 0, 0]\n",
            "[1, 1, 0, 0]\n"
          ],
          "name": "stdout"
        }
      ]
    },
    {
      "cell_type": "code",
      "metadata": {
        "id": "sVict41CGJkp",
        "colab_type": "code",
        "colab": {}
      },
      "source": [
        "time_steps = BIT\n",
        "\n",
        "x = []\n",
        "y = []\n",
        "for i in range(2**time_steps):\n",
        "    for j in range(2**time_steps):\n",
        "        i_b = get_bit(i, time_steps)\n",
        "        j_b = get_bit(j, time_steps)\n",
        "        x.append([[i_b[i], j_b[i]] for i in range(time_steps)])\n",
        "        y.append([get_bit(i+j, time_steps)[-1]])"
      ],
      "execution_count": 0,
      "outputs": []
    },
    {
      "cell_type": "code",
      "metadata": {
        "id": "SaXWeduuLhWO",
        "colab_type": "code",
        "outputId": "2a928a92-7262-4fda-9757-424354c50039",
        "colab": {
          "base_uri": "https://localhost:8080/",
          "height": 34
        }
      },
      "source": [
        "x = np.array(x)\n",
        "x.shape"
      ],
      "execution_count": 5,
      "outputs": [
        {
          "output_type": "execute_result",
          "data": {
            "text/plain": [
              "(256, 4, 2)"
            ]
          },
          "metadata": {
            "tags": []
          },
          "execution_count": 5
        }
      ]
    },
    {
      "cell_type": "code",
      "metadata": {
        "id": "VWuM0_izM54I",
        "colab_type": "code",
        "outputId": "c801bdae-05b9-43c7-ff25-19036c565169",
        "colab": {
          "base_uri": "https://localhost:8080/",
          "height": 34
        }
      },
      "source": [
        "y = np.array(y)\n",
        "y.shape"
      ],
      "execution_count": 6,
      "outputs": [
        {
          "output_type": "execute_result",
          "data": {
            "text/plain": [
              "(256, 1)"
            ]
          },
          "metadata": {
            "tags": []
          },
          "execution_count": 6
        }
      ]
    },
    {
      "cell_type": "markdown",
      "metadata": {
        "id": "vqhytUJVNFCz",
        "colab_type": "text"
      },
      "source": [
        "# Train"
      ]
    },
    {
      "cell_type": "code",
      "metadata": {
        "id": "hAGB0b4oNBgI",
        "colab_type": "code",
        "outputId": "67ed3c41-8271-46f3-c6ae-bb0c19f02e2c",
        "colab": {
          "base_uri": "https://localhost:8080/",
          "height": 296
        }
      },
      "source": [
        "cell = 8\n",
        "input_size = 2\n",
        "time_steps = BIT    \n",
        "\n",
        "model = keras.Sequential([\n",
        "        SimpleRNN(cell, activation='relu', use_bias=False, input_shape=(time_steps, input_size)),\n",
        "        # LSTM(cell, activation='relu', use_bias=False, input_shape=(time_steps, input_size)),\n",
        "        Dense(1, activation='relu', use_bias=False)    \n",
        "])\n",
        "model.summary()"
      ],
      "execution_count": 7,
      "outputs": [
        {
          "output_type": "stream",
          "text": [
            "WARNING:tensorflow:From /usr/local/lib/python3.6/dist-packages/tensorflow_core/python/ops/resource_variable_ops.py:1630: calling BaseResourceVariable.__init__ (from tensorflow.python.ops.resource_variable_ops) with constraint is deprecated and will be removed in a future version.\n",
            "Instructions for updating:\n",
            "If using Keras pass *_constraint arguments to layers.\n",
            "Model: \"sequential\"\n",
            "_________________________________________________________________\n",
            "Layer (type)                 Output Shape              Param #   \n",
            "=================================================================\n",
            "simple_rnn (SimpleRNN)       (None, 8)                 80        \n",
            "_________________________________________________________________\n",
            "dense (Dense)                (None, 1)                 8         \n",
            "=================================================================\n",
            "Total params: 88\n",
            "Trainable params: 88\n",
            "Non-trainable params: 0\n",
            "_________________________________________________________________\n"
          ],
          "name": "stdout"
        }
      ]
    },
    {
      "cell_type": "code",
      "metadata": {
        "id": "zav8_lqVNfvD",
        "colab_type": "code",
        "colab": {}
      },
      "source": [
        "model.compile(optimizer='adam', #tf.keras.optimizers.RMSprop(learning_rate=0.1),\n",
        "              loss='binary_crossentropy',\n",
        "              metrics=['accuracy'])"
      ],
      "execution_count": 0,
      "outputs": []
    },
    {
      "cell_type": "code",
      "metadata": {
        "id": "2XhaP-FkNjdH",
        "colab_type": "code",
        "outputId": "ba9a257f-52b9-4dbb-b3c5-d5fa6f70376a",
        "colab": {
          "base_uri": "https://localhost:8080/",
          "height": 106
        }
      },
      "source": [
        "history = model.fit(x, y, epochs=2000, verbose=0)    \n",
        "print(history.history.keys())\n",
        "#model.fit(x, y, epochs=2000)    "
      ],
      "execution_count": 9,
      "outputs": [
        {
          "output_type": "stream",
          "text": [
            "WARNING:tensorflow:From /usr/local/lib/python3.6/dist-packages/tensorflow_core/python/ops/math_grad.py:1424: where (from tensorflow.python.ops.array_ops) is deprecated and will be removed in a future version.\n",
            "Instructions for updating:\n",
            "Use tf.where in 2.0, which has the same broadcast rule as np.where\n",
            "dict_keys(['loss', 'acc'])\n"
          ],
          "name": "stdout"
        }
      ]
    },
    {
      "cell_type": "code",
      "metadata": {
        "id": "sfwfJiKbQmoE",
        "colab_type": "code",
        "outputId": "527f98ca-77b2-4885-a93f-e06dc8987588",
        "colab": {
          "base_uri": "https://localhost:8080/",
          "height": 52
        }
      },
      "source": [
        "print(history.history['loss'][-1])\n",
        "print(history.history['acc'][-1])"
      ],
      "execution_count": 10,
      "outputs": [
        {
          "output_type": "stream",
          "text": [
            "0.001049817178682133\n",
            "1.0\n"
          ],
          "name": "stdout"
        }
      ]
    },
    {
      "cell_type": "markdown",
      "metadata": {
        "id": "plFcjtdYP0uG",
        "colab_type": "text"
      },
      "source": [
        "# Test"
      ]
    },
    {
      "cell_type": "code",
      "metadata": {
        "id": "tQUX0HR1rytu",
        "colab_type": "code",
        "outputId": "f52bd7d6-8a2e-464a-beb8-3309220cd8b9",
        "colab": {
          "base_uri": "https://localhost:8080/",
          "height": 34
        }
      },
      "source": [
        "a = model.predict_classes(x)\n",
        "all(a == y)"
      ],
      "execution_count": 11,
      "outputs": [
        {
          "output_type": "execute_result",
          "data": {
            "text/plain": [
              "True"
            ]
          },
          "metadata": {
            "tags": []
          },
          "execution_count": 11
        }
      ]
    },
    {
      "cell_type": "code",
      "metadata": {
        "id": "ajMFpfZUNqBz",
        "colab_type": "code",
        "colab": {}
      },
      "source": [
        "def add(a, b):\n",
        "  a = get_bit(a, BIT)\n",
        "  b = get_bit(b, BIT)\n",
        "  x = [[a[i], b[i]] for i in range(BIT)]\n",
        "  x = [[x]]\n",
        "  return model.predict_classes(x)[0][0]"
      ],
      "execution_count": 0,
      "outputs": []
    },
    {
      "cell_type": "code",
      "metadata": {
        "id": "LN-SVkgAPIcn",
        "colab_type": "code",
        "colab": {}
      },
      "source": [
        "assert add(9, 0) == 1\n",
        "assert add(14, 2) == 0 \n",
        "assert add(15, 7) == 0"
      ],
      "execution_count": 0,
      "outputs": []
    }
  ]
}
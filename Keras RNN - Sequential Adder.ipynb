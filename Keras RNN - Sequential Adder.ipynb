{
  "nbformat": 4,
  "nbformat_minor": 0,
  "metadata": {
    "colab": {
      "name": "Keras RNN - Sequential Adder.ipynb",
      "provenance": [],
      "collapsed_sections": []
    },
    "kernelspec": {
      "display_name": "Python 3",
      "language": "python",
      "name": "python3"
    }
  },
  "cells": [
    {
      "cell_type": "markdown",
      "metadata": {
        "id": "nj14GUg_IJn5",
        "colab_type": "text"
      },
      "source": [
        "# Params for Simple_RNN\n",
        "\n",
        "$params = cell\\times input\\_size + cell^2$\n",
        "\n",
        "$cell^2$ means cells are fullly connected to themselves   meaning?\n"
      ]
    },
    {
      "cell_type": "code",
      "metadata": {
        "id": "QdvTvWRxfX_v",
        "colab_type": "code",
        "colab": {}
      },
      "source": [
        "%tensorflow_version 1.x"
      ],
      "execution_count": 0,
      "outputs": []
    },
    {
      "cell_type": "code",
      "metadata": {
        "id": "g3B546nNeU1v",
        "colab_type": "code",
        "colab": {}
      },
      "source": [
        "# colab.research.google.com\n",
        "import tensorflow as tf\n",
        "from tensorflow import keras\n",
        "from tensorflow.keras.layers import *\n",
        "import numpy as np\n"
      ],
      "execution_count": 0,
      "outputs": []
    },
    {
      "cell_type": "code",
      "metadata": {
        "id": "wr3vGmw_GvVg",
        "colab_type": "code",
        "colab": {}
      },
      "source": [
        "def get_bit(n, bit):\n",
        "    a = []\n",
        "    for i in range(bit):\n",
        "        a.append(n & 1)\n",
        "        n >>= 1\n",
        "    return a"
      ],
      "execution_count": 0,
      "outputs": []
    },
    {
      "cell_type": "code",
      "metadata": {
        "id": "l2y5BsD0IUts",
        "colab_type": "code",
        "colab": {}
      },
      "source": [
        "import random\n",
        "\n",
        "def train_generator():\n",
        "    while True:\n",
        "      r1 = random.randrange(1024)\n",
        "      r2 = random.randrange(1024)\n",
        "      bit = max(r1.bit_length(), r2.bit_length(), ) + 1\n",
        "      a = get_bit(r1, bit)\n",
        "      b = get_bit(r2, bit)\n",
        "      c = get_bit(r1+r2, bit)\n",
        "      x = np.array([np.array([a[i], b[i]]) for i in range(bit)])\n",
        "      y = np.array([np.array([c[i]]) for i in range(bit)])\n",
        "      x = x.reshape(1, bit, 2)\n",
        "      y = y.reshape(1, bit, 1)\n",
        "      yield x, y\n"
      ],
      "execution_count": 0,
      "outputs": []
    },
    {
      "cell_type": "markdown",
      "metadata": {
        "id": "OYoBs3EHvRBY",
        "colab_type": "text"
      },
      "source": [
        "# Variable Length\n",
        "output for every input"
      ]
    },
    {
      "cell_type": "code",
      "metadata": {
        "id": "PiuchuqxvNtw",
        "colab_type": "code",
        "colab": {
          "base_uri": "https://localhost:8080/",
          "height": 288
        },
        "outputId": "dba60b60-de10-4307-b660-d7ac2281a275"
      },
      "source": [
        "cell = 16\n",
        "input_size = 2\n",
        "\n",
        "model = keras.Sequential([\n",
        "        SimpleRNN(cell, activation='relu', use_bias=False, input_shape=(None, input_size), return_sequences=True),\n",
        "        TimeDistributed(Dense(1, activation='relu', use_bias=False))\n",
        "])\n",
        "model.summary()"
      ],
      "execution_count": 5,
      "outputs": [
        {
          "output_type": "stream",
          "text": [
            "WARNING:tensorflow:From /usr/local/lib/python3.6/dist-packages/tensorflow_core/python/ops/resource_variable_ops.py:1630: calling BaseResourceVariable.__init__ (from tensorflow.python.ops.resource_variable_ops) with constraint is deprecated and will be removed in a future version.\n",
            "Instructions for updating:\n",
            "If using Keras pass *_constraint arguments to layers.\n",
            "Model: \"sequential\"\n",
            "_________________________________________________________________\n",
            "Layer (type)                 Output Shape              Param #   \n",
            "=================================================================\n",
            "simple_rnn (SimpleRNN)       (None, None, 16)          288       \n",
            "_________________________________________________________________\n",
            "time_distributed (TimeDistri (None, None, 1)           16        \n",
            "=================================================================\n",
            "Total params: 304\n",
            "Trainable params: 304\n",
            "Non-trainable params: 0\n",
            "_________________________________________________________________\n"
          ],
          "name": "stdout"
        }
      ]
    },
    {
      "cell_type": "code",
      "metadata": {
        "id": "KWB_luU_LfUd",
        "colab_type": "code",
        "colab": {}
      },
      "source": [
        "model.compile(optimizer='adam', #tf.keras.optimizers.RMSprop(learning_rate=0.1),\n",
        "              loss='binary_crossentropy',\n",
        "              metrics=['accuracy'])"
      ],
      "execution_count": 0,
      "outputs": []
    },
    {
      "cell_type": "code",
      "metadata": {
        "id": "G88FTBZr-FlJ",
        "colab_type": "code",
        "colab": {
          "base_uri": "https://localhost:8080/",
          "height": 773
        },
        "outputId": "1a4fd859-3209-4efb-e7ac-9904bea280b1"
      },
      "source": [
        "model.fit(train_generator(), epochs=20, steps_per_epoch=1000)"
      ],
      "execution_count": 7,
      "outputs": [
        {
          "output_type": "stream",
          "text": [
            "Epoch 1/20\n",
            "WARNING:tensorflow:From /usr/local/lib/python3.6/dist-packages/tensorflow_core/python/ops/math_grad.py:1424: where (from tensorflow.python.ops.array_ops) is deprecated and will be removed in a future version.\n",
            "Instructions for updating:\n",
            "Use tf.where in 2.0, which has the same broadcast rule as np.where\n",
            "1000/1000 [==============================] - 5s 5ms/step - loss: 3.1286 - acc: 0.5173\n",
            "Epoch 2/20\n",
            "1000/1000 [==============================] - 5s 5ms/step - loss: 1.2667 - acc: 0.4999\n",
            "Epoch 3/20\n",
            "1000/1000 [==============================] - 5s 5ms/step - loss: 1.1610 - acc: 0.5469\n",
            "Epoch 4/20\n",
            "1000/1000 [==============================] - 5s 5ms/step - loss: 1.0553 - acc: 0.6027\n",
            "Epoch 5/20\n",
            "1000/1000 [==============================] - 5s 5ms/step - loss: 0.9944 - acc: 0.6442\n",
            "Epoch 6/20\n",
            "1000/1000 [==============================] - 5s 5ms/step - loss: 0.7476 - acc: 0.7247\n",
            "Epoch 7/20\n",
            "1000/1000 [==============================] - 5s 5ms/step - loss: 0.3755 - acc: 0.8280\n",
            "Epoch 8/20\n",
            "1000/1000 [==============================] - 5s 5ms/step - loss: 0.2559 - acc: 0.9053\n",
            "Epoch 9/20\n",
            "1000/1000 [==============================] - 5s 5ms/step - loss: 0.1179 - acc: 0.9649\n",
            "Epoch 10/20\n",
            "1000/1000 [==============================] - 5s 5ms/step - loss: 0.0407 - acc: 0.9984\n",
            "Epoch 11/20\n",
            "1000/1000 [==============================] - 5s 5ms/step - loss: 0.0099 - acc: 1.0000\n",
            "Epoch 12/20\n",
            "1000/1000 [==============================] - 5s 5ms/step - loss: 0.0026 - acc: 1.0000\n",
            "Epoch 13/20\n",
            "1000/1000 [==============================] - 5s 5ms/step - loss: 6.6531e-04 - acc: 1.0000\n",
            "Epoch 14/20\n",
            "1000/1000 [==============================] - 5s 5ms/step - loss: 2.8706e-04 - acc: 1.0000\n",
            "Epoch 15/20\n",
            "1000/1000 [==============================] - 5s 5ms/step - loss: 2.8100e-04 - acc: 1.0000\n",
            "Epoch 16/20\n",
            "1000/1000 [==============================] - 5s 5ms/step - loss: 1.7878e-05 - acc: 1.0000\n",
            "Epoch 17/20\n",
            "1000/1000 [==============================] - 5s 5ms/step - loss: 3.3289e-04 - acc: 1.0000\n",
            "Epoch 18/20\n",
            "1000/1000 [==============================] - 5s 5ms/step - loss: 0.0000e+00 - acc: 1.0000\n",
            "Epoch 19/20\n",
            "1000/1000 [==============================] - 5s 5ms/step - loss: 1.1265e-04 - acc: 1.0000\n",
            "Epoch 20/20\n",
            "1000/1000 [==============================] - 4s 4ms/step - loss: 7.4765e-04 - acc: 1.0000\n"
          ],
          "name": "stdout"
        },
        {
          "output_type": "execute_result",
          "data": {
            "text/plain": [
              "<tensorflow.python.keras.callbacks.History at 0x7f39f41b16a0>"
            ]
          },
          "metadata": {
            "tags": []
          },
          "execution_count": 7
        }
      ]
    },
    {
      "cell_type": "markdown",
      "metadata": {
        "id": "MnD9TESTek1M",
        "colab_type": "text"
      },
      "source": [
        "# Test"
      ]
    },
    {
      "cell_type": "code",
      "metadata": {
        "id": "BljLLv4ma2eQ",
        "colab_type": "code",
        "colab": {
          "base_uri": "https://localhost:8080/",
          "height": 351
        },
        "outputId": "45791fa8-9cd7-4a57-d946-278f1777721b"
      },
      "source": [
        "x, y = next(train_generator())\n",
        "print(x)\n",
        "model.predict_classes(x)"
      ],
      "execution_count": 8,
      "outputs": [
        {
          "output_type": "stream",
          "text": [
            "[[[0 0]\n",
            "  [1 1]\n",
            "  [0 1]\n",
            "  [1 0]\n",
            "  [0 1]\n",
            "  [0 1]\n",
            "  [0 1]\n",
            "  [0 0]\n",
            "  [1 0]\n",
            "  [0 0]]]\n"
          ],
          "name": "stdout"
        },
        {
          "output_type": "execute_result",
          "data": {
            "text/plain": [
              "array([[[0],\n",
              "        [0],\n",
              "        [0],\n",
              "        [0],\n",
              "        [0],\n",
              "        [0],\n",
              "        [0],\n",
              "        [1],\n",
              "        [1],\n",
              "        [0]]], dtype=int32)"
            ]
          },
          "metadata": {
            "tags": []
          },
          "execution_count": 8
        }
      ]
    },
    {
      "cell_type": "code",
      "metadata": {
        "id": "LTb_u35h-aon",
        "colab_type": "code",
        "colab": {}
      },
      "source": [
        "def add(a, b):\n",
        "  bit = max(a.bit_length(), b.bit_length(), ) + 1\n",
        "  a = get_bit(a, bit)\n",
        "  b = get_bit(b, bit)\n",
        "  x = np.array([np.array([a[i], b[i]]) for i in range(bit)])\n",
        "  x = x.reshape(1, bit, 2)\n",
        "  a = model.predict_classes(x)\n",
        "  a = np.flip(a.reshape(a.size))\n",
        "  return int(\"\".join(str(x) for x in list(a)), 2) "
      ],
      "execution_count": 0,
      "outputs": []
    },
    {
      "cell_type": "code",
      "metadata": {
        "id": "jXQofsHx-qTx",
        "colab_type": "code",
        "colab": {
          "base_uri": "https://localhost:8080/",
          "height": 33
        },
        "outputId": "b7f231be-fad3-4102-bfc1-c8e80b291857"
      },
      "source": [
        "count = 0\n",
        "for _ in range(1000):\n",
        "  a = random.randrange(1000000000000)\n",
        "  b = random.randrange(1000000000000)\n",
        "  if add(a, b) != a + b:\n",
        "    count += 1\n",
        "print(count)"
      ],
      "execution_count": 10,
      "outputs": [
        {
          "output_type": "stream",
          "text": [
            "0\n"
          ],
          "name": "stdout"
        }
      ]
    },
    {
      "cell_type": "code",
      "metadata": {
        "id": "c2Yf89laiKbL",
        "colab_type": "code",
        "colab": {}
      },
      "source": [
        ""
      ],
      "execution_count": 0,
      "outputs": []
    }
  ]
}
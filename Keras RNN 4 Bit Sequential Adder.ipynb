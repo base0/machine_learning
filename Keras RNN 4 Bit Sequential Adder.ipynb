{
  "nbformat": 4,
  "nbformat_minor": 0,
  "metadata": {
    "colab": {
      "name": "Keras RNN - 4 Bit Sequential Adder.ipynb",
      "provenance": [],
      "collapsed_sections": []
    },
    "kernelspec": {
      "display_name": "Python 3",
      "language": "python",
      "name": "python3"
    }
  },
  "cells": [
    {
      "cell_type": "markdown",
      "metadata": {
        "id": "nj14GUg_IJn5",
        "colab_type": "text"
      },
      "source": [
        "# Params for Simple_RNN\n",
        "\n",
        "$params = cell\\times input\\_size + cell^2$\n",
        "\n",
        "$cell^2$ means cells are fullly connected to themselves   meaning?\n"
      ]
    },
    {
      "cell_type": "code",
      "metadata": {
        "id": "QdvTvWRxfX_v",
        "colab_type": "code",
        "colab": {}
      },
      "source": [
        "%tensorflow_version 1.x"
      ],
      "execution_count": 0,
      "outputs": []
    },
    {
      "cell_type": "code",
      "metadata": {
        "id": "g3B546nNeU1v",
        "colab_type": "code",
        "outputId": "142fc44f-37db-43eb-e1c2-63775c73a94e",
        "colab": {
          "base_uri": "https://localhost:8080/",
          "height": 34
        }
      },
      "source": [
        "# colab.research.google.com\n",
        "import tensorflow as tf\n",
        "from tensorflow import keras\n",
        "from tensorflow.keras.layers import *\n",
        "import numpy as np\n",
        "\n",
        "'''\n",
        "# labs.cognitiveclass.ai\n",
        "import keras\n",
        "from keras.layers import *\n",
        "import numpy as np\n",
        "'''"
      ],
      "execution_count": 27,
      "outputs": [
        {
          "output_type": "execute_result",
          "data": {
            "text/plain": [
              "'\\n# labs.cognitiveclass.ai\\nimport keras\\nfrom keras.layers import *\\nimport numpy as np\\n'"
            ]
          },
          "metadata": {
            "tags": []
          },
          "execution_count": 27
        }
      ]
    },
    {
      "cell_type": "code",
      "metadata": {
        "id": "ehDDVwPJIJn9",
        "colab_type": "code",
        "outputId": "d7ab4b7d-9e04-4be9-b2d0-489b0f37aee6",
        "colab": {
          "base_uri": "https://localhost:8080/",
          "height": 190
        }
      },
      "source": [
        "cell = 1\n",
        "input_size = 2\n",
        "time_steps = 1    \n",
        "\n",
        "model = keras.Sequential([\n",
        "        SimpleRNN(cell, activation='relu', use_bias=False, input_shape=(time_steps, input_size)),\n",
        "        #Dense(1, activation='relu', use_bias=False)    \n",
        "])\n",
        "model.summary()"
      ],
      "execution_count": 28,
      "outputs": [
        {
          "output_type": "stream",
          "text": [
            "Model: \"sequential_4\"\n",
            "_________________________________________________________________\n",
            "Layer (type)                 Output Shape              Param #   \n",
            "=================================================================\n",
            "simple_rnn_4 (SimpleRNN)     (None, 1)                 3         \n",
            "=================================================================\n",
            "Total params: 3\n",
            "Trainable params: 3\n",
            "Non-trainable params: 0\n",
            "_________________________________________________________________\n"
          ],
          "name": "stdout"
        }
      ]
    },
    {
      "cell_type": "code",
      "metadata": {
        "id": "-uJEFh0zeaWR",
        "colab_type": "code",
        "outputId": "60e10237-bef7-4fc5-db4c-878fde3957e7",
        "colab": {
          "base_uri": "https://localhost:8080/",
          "height": 52
        }
      },
      "source": [
        "model.get_weights()"
      ],
      "execution_count": 29,
      "outputs": [
        {
          "output_type": "execute_result",
          "data": {
            "text/plain": [
              "[array([[-0.26524425],\n",
              "        [ 1.0596277 ]], dtype=float32), array([[-1.]], dtype=float32)]"
            ]
          },
          "metadata": {
            "tags": []
          },
          "execution_count": 29
        }
      ]
    },
    {
      "cell_type": "code",
      "metadata": {
        "id": "5BT3rcR7SCna",
        "colab_type": "code",
        "colab": {}
      },
      "source": [
        "def to_npa_list(a):\n",
        "  return [np.array(i) for i in a]\n",
        "\n",
        "model.set_weights(to_npa_list([[[2],[3]],[[5]]]))\n"
      ],
      "execution_count": 0,
      "outputs": []
    },
    {
      "cell_type": "code",
      "metadata": {
        "id": "HdpRxMWKIJoC",
        "colab_type": "code",
        "colab": {
          "base_uri": "https://localhost:8080/",
          "height": 34
        },
        "outputId": "cfac9416-9da3-49d6-b5ab-c86808861c4b"
      },
      "source": [
        "x = np.array([1, 0])\n",
        "x = x.reshape(1,1,2)\n",
        "model.predict(x)"
      ],
      "execution_count": 31,
      "outputs": [
        {
          "output_type": "execute_result",
          "data": {
            "text/plain": [
              "array([[2.]], dtype=float32)"
            ]
          },
          "metadata": {
            "tags": []
          },
          "execution_count": 31
        }
      ]
    },
    {
      "cell_type": "markdown",
      "metadata": {
        "id": "jrtJJe5me3Kc",
        "colab_type": "text"
      },
      "source": [
        "# 2 timesteps"
      ]
    },
    {
      "cell_type": "code",
      "metadata": {
        "id": "yl5SufjKIJoF",
        "colab_type": "code",
        "colab": {
          "base_uri": "https://localhost:8080/",
          "height": 190
        },
        "outputId": "2b514232-489e-4e47-beec-2d6e1c18f98c"
      },
      "source": [
        "cell = 1\n",
        "input_size = 2\n",
        "time_steps = 2    \n",
        "\n",
        "model = keras.Sequential([\n",
        "        SimpleRNN(cell, activation='relu', use_bias=False, input_shape=(time_steps, input_size)),\n",
        "        #Dense(1, activation='relu', use_bias=False)    \n",
        "])\n",
        "model.summary()"
      ],
      "execution_count": 32,
      "outputs": [
        {
          "output_type": "stream",
          "text": [
            "Model: \"sequential_5\"\n",
            "_________________________________________________________________\n",
            "Layer (type)                 Output Shape              Param #   \n",
            "=================================================================\n",
            "simple_rnn_5 (SimpleRNN)     (None, 1)                 3         \n",
            "=================================================================\n",
            "Total params: 3\n",
            "Trainable params: 3\n",
            "Non-trainable params: 0\n",
            "_________________________________________________________________\n"
          ],
          "name": "stdout"
        }
      ]
    },
    {
      "cell_type": "code",
      "metadata": {
        "id": "MaQCf9J6Ziyn",
        "colab_type": "code",
        "colab": {}
      },
      "source": [
        "model.set_weights(to_npa_list([[[2],[3]],[[5]]]))"
      ],
      "execution_count": 0,
      "outputs": []
    },
    {
      "cell_type": "code",
      "metadata": {
        "id": "KYKGGlZxer9s",
        "colab_type": "code",
        "colab": {
          "base_uri": "https://localhost:8080/",
          "height": 69
        },
        "outputId": "ee781a97-3e03-4b57-d647-40f2ec818309"
      },
      "source": [
        "x = np.array([1, 0, 0, 0])\n",
        "x = x.reshape(1,2,2)\n",
        "print(x)\n",
        "model.predict(x)"
      ],
      "execution_count": 34,
      "outputs": [
        {
          "output_type": "stream",
          "text": [
            "[[[1 0]\n",
            "  [0 0]]]\n"
          ],
          "name": "stdout"
        },
        {
          "output_type": "execute_result",
          "data": {
            "text/plain": [
              "array([[10.]], dtype=float32)"
            ]
          },
          "metadata": {
            "tags": []
          },
          "execution_count": 34
        }
      ]
    },
    {
      "cell_type": "code",
      "metadata": {
        "id": "fNTgsMrIfHJn",
        "colab_type": "code",
        "colab": {
          "base_uri": "https://localhost:8080/",
          "height": 69
        },
        "outputId": "83b5003c-ab5b-4693-cae3-8f46bcb8c3dc"
      },
      "source": [
        "x = np.array([1, 0, 1, 0])\n",
        "x = x.reshape(1,2,2)\n",
        "print(x)\n",
        "model.predict(x)"
      ],
      "execution_count": 35,
      "outputs": [
        {
          "output_type": "stream",
          "text": [
            "[[[1 0]\n",
            "  [1 0]]]\n"
          ],
          "name": "stdout"
        },
        {
          "output_type": "execute_result",
          "data": {
            "text/plain": [
              "array([[12.]], dtype=float32)"
            ]
          },
          "metadata": {
            "tags": []
          },
          "execution_count": 35
        }
      ]
    },
    {
      "cell_type": "code",
      "metadata": {
        "id": "5wMpdQ3DfUOF",
        "colab_type": "code",
        "colab": {
          "base_uri": "https://localhost:8080/",
          "height": 69
        },
        "outputId": "ec546040-1a1f-41e5-af6c-098bc2b1f90d"
      },
      "source": [
        "x = np.array([1, 0, 0, 1])\n",
        "x = x.reshape(1,2,2)\n",
        "print(x)\n",
        "model.predict(x)"
      ],
      "execution_count": 36,
      "outputs": [
        {
          "output_type": "stream",
          "text": [
            "[[[1 0]\n",
            "  [0 1]]]\n"
          ],
          "name": "stdout"
        },
        {
          "output_type": "execute_result",
          "data": {
            "text/plain": [
              "array([[13.]], dtype=float32)"
            ]
          },
          "metadata": {
            "tags": []
          },
          "execution_count": 36
        }
      ]
    },
    {
      "cell_type": "markdown",
      "metadata": {
        "id": "44CfKJgRfdgM",
        "colab_type": "text"
      },
      "source": [
        "# 3 timesteps"
      ]
    },
    {
      "cell_type": "code",
      "metadata": {
        "id": "-E3Qhk7cffKr",
        "colab_type": "code",
        "colab": {
          "base_uri": "https://localhost:8080/",
          "height": 190
        },
        "outputId": "9cd8b3a6-e761-4942-b844-40401492f2ca"
      },
      "source": [
        "cell = 1\n",
        "input_size = 2\n",
        "time_steps = 3    \n",
        "\n",
        "model = keras.Sequential([\n",
        "        SimpleRNN(cell, activation='relu', use_bias=False, input_shape=(time_steps, input_size)),\n",
        "        #Dense(1, activation='relu', use_bias=False)    \n",
        "])\n",
        "model.summary()"
      ],
      "execution_count": 37,
      "outputs": [
        {
          "output_type": "stream",
          "text": [
            "Model: \"sequential_6\"\n",
            "_________________________________________________________________\n",
            "Layer (type)                 Output Shape              Param #   \n",
            "=================================================================\n",
            "simple_rnn_6 (SimpleRNN)     (None, 1)                 3         \n",
            "=================================================================\n",
            "Total params: 3\n",
            "Trainable params: 3\n",
            "Non-trainable params: 0\n",
            "_________________________________________________________________\n"
          ],
          "name": "stdout"
        }
      ]
    },
    {
      "cell_type": "code",
      "metadata": {
        "id": "vnwMH4iGfrTv",
        "colab_type": "code",
        "colab": {}
      },
      "source": [
        "model.set_weights(to_npa_list([[[2],[3]],[[5]]]))"
      ],
      "execution_count": 0,
      "outputs": []
    },
    {
      "cell_type": "code",
      "metadata": {
        "id": "DpC5Zm4jfi9N",
        "colab_type": "code",
        "colab": {
          "base_uri": "https://localhost:8080/",
          "height": 86
        },
        "outputId": "c3f81ec1-0ced-42e2-96f4-d710a2dbfc7b"
      },
      "source": [
        "x = np.array([1, 0, 0, 1, 7, 11])\n",
        "x = x.reshape(1,3,2)\n",
        "print(x)\n",
        "model.predict(x) == 2 * 7 + 3 * 11 + 5 * 13"
      ],
      "execution_count": 39,
      "outputs": [
        {
          "output_type": "stream",
          "text": [
            "[[[ 1  0]\n",
            "  [ 0  1]\n",
            "  [ 7 11]]]\n"
          ],
          "name": "stdout"
        },
        {
          "output_type": "execute_result",
          "data": {
            "text/plain": [
              "array([[ True]])"
            ]
          },
          "metadata": {
            "tags": []
          },
          "execution_count": 39
        }
      ]
    },
    {
      "cell_type": "markdown",
      "metadata": {
        "id": "sDdCJYo7FU9x",
        "colab_type": "text"
      },
      "source": [
        "# Prepare Training Data"
      ]
    },
    {
      "cell_type": "code",
      "metadata": {
        "id": "2M99I2BMqVa7",
        "colab_type": "code",
        "colab": {
          "base_uri": "https://localhost:8080/",
          "height": 86
        },
        "outputId": "d6df1f64-9e19-405c-86b5-e218387a17be"
      },
      "source": [
        "BIT = 4\n",
        "\n",
        "def get_bit(n, bit):\n",
        "    a = []\n",
        "    for i in range(bit):\n",
        "        a.append(n & 1)\n",
        "        n >>= 1\n",
        "    return a\n",
        "  \n",
        "for i in range(4):\n",
        "    print(get_bit(i, BIT))\n"
      ],
      "execution_count": 40,
      "outputs": [
        {
          "output_type": "stream",
          "text": [
            "[0, 0, 0, 0]\n",
            "[1, 0, 0, 0]\n",
            "[0, 1, 0, 0]\n",
            "[1, 1, 0, 0]\n"
          ],
          "name": "stdout"
        }
      ]
    },
    {
      "cell_type": "code",
      "metadata": {
        "id": "sVict41CGJkp",
        "colab_type": "code",
        "colab": {}
      },
      "source": [
        "time_steps = BIT\n",
        "\n",
        "x = []\n",
        "y = []\n",
        "for i in range(2**time_steps):\n",
        "    for j in range(2**time_steps):\n",
        "        i_b = get_bit(i, time_steps)\n",
        "        j_b = get_bit(j, time_steps)\n",
        "        x.append([[i_b[i], j_b[i]] for i in range(time_steps)])\n",
        "        y.append([get_bit(i+j, time_steps)[-1]])\n",
        "    "
      ],
      "execution_count": 0,
      "outputs": []
    },
    {
      "cell_type": "code",
      "metadata": {
        "id": "SaXWeduuLhWO",
        "colab_type": "code",
        "colab": {
          "base_uri": "https://localhost:8080/",
          "height": 34
        },
        "outputId": "3a4c22e4-2161-4fa4-ac74-9192bba09244"
      },
      "source": [
        "x = np.array(x)\n",
        "x.shape"
      ],
      "execution_count": 42,
      "outputs": [
        {
          "output_type": "execute_result",
          "data": {
            "text/plain": [
              "(256, 4, 2)"
            ]
          },
          "metadata": {
            "tags": []
          },
          "execution_count": 42
        }
      ]
    },
    {
      "cell_type": "code",
      "metadata": {
        "id": "VWuM0_izM54I",
        "colab_type": "code",
        "colab": {
          "base_uri": "https://localhost:8080/",
          "height": 34
        },
        "outputId": "f7cf091d-205e-48aa-ed02-8abf674d4f21"
      },
      "source": [
        "y = np.array(y)\n",
        "y.shape"
      ],
      "execution_count": 43,
      "outputs": [
        {
          "output_type": "execute_result",
          "data": {
            "text/plain": [
              "(256, 1)"
            ]
          },
          "metadata": {
            "tags": []
          },
          "execution_count": 43
        }
      ]
    },
    {
      "cell_type": "markdown",
      "metadata": {
        "id": "vqhytUJVNFCz",
        "colab_type": "text"
      },
      "source": [
        "# Train"
      ]
    },
    {
      "cell_type": "code",
      "metadata": {
        "id": "hAGB0b4oNBgI",
        "colab_type": "code",
        "colab": {
          "base_uri": "https://localhost:8080/",
          "height": 224
        },
        "outputId": "fbdf91c8-45d6-4602-f365-1f9cf4645355"
      },
      "source": [
        "cell = 8\n",
        "input_size = 2\n",
        "time_steps = BIT    \n",
        "\n",
        "model = keras.Sequential([\n",
        "        SimpleRNN(cell, activation='relu', use_bias=False, input_shape=(time_steps, input_size)),\n",
        "        #LSTM(cell, activation='relu', use_bias=False, input_shape=(time_steps, input_size)),\n",
        "        Dense(1, activation='relu', use_bias=False)    \n",
        "])\n",
        "model.summary()"
      ],
      "execution_count": 44,
      "outputs": [
        {
          "output_type": "stream",
          "text": [
            "Model: \"sequential_7\"\n",
            "_________________________________________________________________\n",
            "Layer (type)                 Output Shape              Param #   \n",
            "=================================================================\n",
            "simple_rnn_7 (SimpleRNN)     (None, 8)                 80        \n",
            "_________________________________________________________________\n",
            "dense_1 (Dense)              (None, 1)                 8         \n",
            "=================================================================\n",
            "Total params: 88\n",
            "Trainable params: 88\n",
            "Non-trainable params: 0\n",
            "_________________________________________________________________\n"
          ],
          "name": "stdout"
        }
      ]
    },
    {
      "cell_type": "code",
      "metadata": {
        "id": "zav8_lqVNfvD",
        "colab_type": "code",
        "colab": {}
      },
      "source": [
        "model.compile(optimizer='adam', # tf.keras.optimizers.SGD(lr=0.01),\n",
        "              loss='binary_crossentropy',\n",
        "              metrics=['accuracy'])"
      ],
      "execution_count": 0,
      "outputs": []
    },
    {
      "cell_type": "code",
      "metadata": {
        "id": "2XhaP-FkNjdH",
        "colab_type": "code",
        "colab": {
          "base_uri": "https://localhost:8080/",
          "height": 34
        },
        "outputId": "17850580-0272-4a72-e70d-eb1d29486ccb"
      },
      "source": [
        "history = model.fit(x, y, epochs=2000, verbose=0)    \n",
        "print(history.history.keys())"
      ],
      "execution_count": 46,
      "outputs": [
        {
          "output_type": "stream",
          "text": [
            "dict_keys(['loss', 'acc'])\n"
          ],
          "name": "stdout"
        }
      ]
    },
    {
      "cell_type": "code",
      "metadata": {
        "id": "sfwfJiKbQmoE",
        "colab_type": "code",
        "colab": {
          "base_uri": "https://localhost:8080/",
          "height": 52
        },
        "outputId": "67a89550-3809-43f2-b54d-591c088b9937"
      },
      "source": [
        "print(history.history['loss'][-1])\n",
        "print(history.history['acc'][-1])"
      ],
      "execution_count": 47,
      "outputs": [
        {
          "output_type": "stream",
          "text": [
            "0.00020380895693961065\n",
            "1.0\n"
          ],
          "name": "stdout"
        }
      ]
    },
    {
      "cell_type": "markdown",
      "metadata": {
        "id": "plFcjtdYP0uG",
        "colab_type": "text"
      },
      "source": [
        "# Test"
      ]
    },
    {
      "cell_type": "code",
      "metadata": {
        "id": "tQUX0HR1rytu",
        "colab_type": "code",
        "colab": {
          "base_uri": "https://localhost:8080/",
          "height": 34
        },
        "outputId": "a7d6200c-44c4-4642-d8be-544720928c08"
      },
      "source": [
        "a = model.predict_classes(x)\n",
        "all(a == y)"
      ],
      "execution_count": 48,
      "outputs": [
        {
          "output_type": "execute_result",
          "data": {
            "text/plain": [
              "True"
            ]
          },
          "metadata": {
            "tags": []
          },
          "execution_count": 48
        }
      ]
    },
    {
      "cell_type": "code",
      "metadata": {
        "id": "ajMFpfZUNqBz",
        "colab_type": "code",
        "colab": {}
      },
      "source": [
        "def add(a, b):\n",
        "  a = get_bit(a, BIT)\n",
        "  b = get_bit(b, BIT)\n",
        "  x = [[a[i], b[i]] for i in range(BIT)]\n",
        "  x = [[x]]\n",
        "  return model.predict_classes(x)[0][0]"
      ],
      "execution_count": 0,
      "outputs": []
    },
    {
      "cell_type": "code",
      "metadata": {
        "id": "LN-SVkgAPIcn",
        "colab_type": "code",
        "colab": {}
      },
      "source": [
        "assert add(9, 0) == 1\n",
        "assert add(14, 2) == 0 \n",
        "assert add(15, 7) == 0"
      ],
      "execution_count": 0,
      "outputs": []
    }
  ]
}
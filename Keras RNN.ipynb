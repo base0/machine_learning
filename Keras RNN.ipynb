{
  "nbformat": 4,
  "nbformat_minor": 0,
  "metadata": {
    "colab": {
      "name": "Keras RNN.ipynb",
      "version": "0.3.2",
      "provenance": []
    },
    "kernelspec": {
      "display_name": "Python 3",
      "language": "python",
      "name": "python3"
    }
  },
  "cells": [
    {
      "metadata": {
        "id": "nj14GUg_IJn5",
        "colab_type": "text"
      },
      "cell_type": "markdown",
      "source": [
        "# Params for Simple_RNN\n",
        "\n",
        "$params = cell\\times input\\_size + cell^2$\n",
        "\n",
        "$cell^2$ means cells are fullly connected to themselves   meaning?\n"
      ]
    },
    {
      "metadata": {
        "id": "g3B546nNeU1v",
        "colab_type": "code",
        "colab": {}
      },
      "cell_type": "code",
      "source": [
        "import tensorflow as tf\n",
        "from tensorflow.keras.layers import *\n",
        "from tensorflow import keras\n",
        "import numpy as np"
      ],
      "execution_count": 0,
      "outputs": []
    },
    {
      "metadata": {
        "id": "ehDDVwPJIJn9",
        "colab_type": "code",
        "colab": {
          "base_uri": "https://localhost:8080/",
          "height": 173
        },
        "outputId": "2e66c821-6cf2-4cd4-9801-4eb96164f426"
      },
      "cell_type": "code",
      "source": [
        "cell = 1\n",
        "input_size = 2\n",
        "time_steps = 1    # doesn't change the number of params\n",
        "\n",
        "model = keras.Sequential([\n",
        "        SimpleRNN(cell, activation='relu', use_bias=False, input_shape=(time_steps, input_size)),\n",
        "        #Dense(1, activation='relu', use_bias=False)    \n",
        "])\n",
        "model.summary()"
      ],
      "execution_count": 356,
      "outputs": [
        {
          "output_type": "stream",
          "text": [
            "_________________________________________________________________\n",
            "Layer (type)                 Output Shape              Param #   \n",
            "=================================================================\n",
            "simple_rnn_61 (SimpleRNN)    (None, 1)                 3         \n",
            "=================================================================\n",
            "Total params: 3\n",
            "Trainable params: 3\n",
            "Non-trainable params: 0\n",
            "_________________________________________________________________\n"
          ],
          "name": "stdout"
        }
      ]
    },
    {
      "metadata": {
        "id": "-uJEFh0zeaWR",
        "colab_type": "code",
        "colab": {
          "base_uri": "https://localhost:8080/",
          "height": 52
        },
        "outputId": "2e5f3c08-34c9-49fb-e743-290c10e8c7c0"
      },
      "cell_type": "code",
      "source": [
        "model.get_weights()"
      ],
      "execution_count": 357,
      "outputs": [
        {
          "output_type": "execute_result",
          "data": {
            "text/plain": [
              "[array([[-0.21311605],\n",
              "        [-1.3135166 ]], dtype=float32), array([[1.]], dtype=float32)]"
            ]
          },
          "metadata": {
            "tags": []
          },
          "execution_count": 357
        }
      ]
    },
    {
      "metadata": {
        "id": "5BT3rcR7SCna",
        "colab_type": "code",
        "colab": {}
      },
      "cell_type": "code",
      "source": [
        "model.set_weights([[[2],[3]],[[5]]])"
      ],
      "execution_count": 0,
      "outputs": []
    },
    {
      "metadata": {
        "id": "HdpRxMWKIJoC",
        "colab_type": "code",
        "colab": {
          "base_uri": "https://localhost:8080/",
          "height": 34
        },
        "outputId": "5576967e-653b-4162-c002-0f0e59cdcf94"
      },
      "cell_type": "code",
      "source": [
        "x = np.array([1, 0])\n",
        "x = x.reshape(1,1,2)\n",
        "model.predict(x)"
      ],
      "execution_count": 359,
      "outputs": [
        {
          "output_type": "execute_result",
          "data": {
            "text/plain": [
              "array([[2.]], dtype=float32)"
            ]
          },
          "metadata": {
            "tags": []
          },
          "execution_count": 359
        }
      ]
    },
    {
      "metadata": {
        "id": "jrtJJe5me3Kc",
        "colab_type": "text"
      },
      "cell_type": "markdown",
      "source": [
        "# Add a time step"
      ]
    },
    {
      "metadata": {
        "id": "yl5SufjKIJoF",
        "colab_type": "code",
        "colab": {
          "base_uri": "https://localhost:8080/",
          "height": 173
        },
        "outputId": "295642fa-f1ad-448a-81b3-81892b3ebb6d"
      },
      "cell_type": "code",
      "source": [
        "cell = 1\n",
        "input_size = 2\n",
        "time_steps = 2    # doesn't change the number of params\n",
        "\n",
        "model = keras.Sequential([\n",
        "        SimpleRNN(cell, activation='relu', use_bias=False, input_shape=(time_steps, input_size)),\n",
        "        #Dense(1, activation='relu', use_bias=False)    \n",
        "])\n",
        "model.summary()"
      ],
      "execution_count": 360,
      "outputs": [
        {
          "output_type": "stream",
          "text": [
            "_________________________________________________________________\n",
            "Layer (type)                 Output Shape              Param #   \n",
            "=================================================================\n",
            "simple_rnn_62 (SimpleRNN)    (None, 1)                 3         \n",
            "=================================================================\n",
            "Total params: 3\n",
            "Trainable params: 3\n",
            "Non-trainable params: 0\n",
            "_________________________________________________________________\n"
          ],
          "name": "stdout"
        }
      ]
    },
    {
      "metadata": {
        "id": "MaQCf9J6Ziyn",
        "colab_type": "code",
        "colab": {}
      },
      "cell_type": "code",
      "source": [
        "model.set_weights([[[2],[3]],[[5]]])"
      ],
      "execution_count": 0,
      "outputs": []
    },
    {
      "metadata": {
        "id": "KYKGGlZxer9s",
        "colab_type": "code",
        "colab": {
          "base_uri": "https://localhost:8080/",
          "height": 69
        },
        "outputId": "a725694c-2617-4370-a9f0-5e9a0fd596e6"
      },
      "cell_type": "code",
      "source": [
        "x = np.array([1, 0, 0, 0])\n",
        "x = x.reshape(1,2,2)\n",
        "print(x)\n",
        "model.predict(x)"
      ],
      "execution_count": 362,
      "outputs": [
        {
          "output_type": "stream",
          "text": [
            "[[[1 0]\n",
            "  [0 0]]]\n"
          ],
          "name": "stdout"
        },
        {
          "output_type": "execute_result",
          "data": {
            "text/plain": [
              "array([[10.]], dtype=float32)"
            ]
          },
          "metadata": {
            "tags": []
          },
          "execution_count": 362
        }
      ]
    },
    {
      "metadata": {
        "id": "fNTgsMrIfHJn",
        "colab_type": "code",
        "colab": {
          "base_uri": "https://localhost:8080/",
          "height": 69
        },
        "outputId": "35d9af21-d366-4e11-8729-c1dc44a4e0f5"
      },
      "cell_type": "code",
      "source": [
        "x = np.array([1, 0, 1, 0])\n",
        "x = x.reshape(1,2,2)\n",
        "print(x)\n",
        "model.predict(x)"
      ],
      "execution_count": 363,
      "outputs": [
        {
          "output_type": "stream",
          "text": [
            "[[[1 0]\n",
            "  [1 0]]]\n"
          ],
          "name": "stdout"
        },
        {
          "output_type": "execute_result",
          "data": {
            "text/plain": [
              "array([[12.]], dtype=float32)"
            ]
          },
          "metadata": {
            "tags": []
          },
          "execution_count": 363
        }
      ]
    },
    {
      "metadata": {
        "id": "5wMpdQ3DfUOF",
        "colab_type": "code",
        "colab": {
          "base_uri": "https://localhost:8080/",
          "height": 69
        },
        "outputId": "424d8eaf-1ad3-4e1e-b675-54d023745ef2"
      },
      "cell_type": "code",
      "source": [
        "x = np.array([1, 0, 0, 1])\n",
        "x = x.reshape(1,2,2)\n",
        "print(x)\n",
        "model.predict(x)"
      ],
      "execution_count": 364,
      "outputs": [
        {
          "output_type": "stream",
          "text": [
            "[[[1 0]\n",
            "  [0 1]]]\n"
          ],
          "name": "stdout"
        },
        {
          "output_type": "execute_result",
          "data": {
            "text/plain": [
              "array([[13.]], dtype=float32)"
            ]
          },
          "metadata": {
            "tags": []
          },
          "execution_count": 364
        }
      ]
    },
    {
      "metadata": {
        "id": "44CfKJgRfdgM",
        "colab_type": "text"
      },
      "cell_type": "markdown",
      "source": [
        "# Add another timestep"
      ]
    },
    {
      "metadata": {
        "id": "-E3Qhk7cffKr",
        "colab_type": "code",
        "colab": {
          "base_uri": "https://localhost:8080/",
          "height": 173
        },
        "outputId": "c6b8b48e-cbd9-4a38-a36e-cc86e8966bae"
      },
      "cell_type": "code",
      "source": [
        "cell = 1\n",
        "input_size = 2\n",
        "time_steps = 3    # doesn't change the number of params\n",
        "\n",
        "model = keras.Sequential([\n",
        "        SimpleRNN(cell, activation='relu', use_bias=False, input_shape=(time_steps, input_size)),\n",
        "        #Dense(1, activation='relu', use_bias=False)    \n",
        "])\n",
        "model.summary()"
      ],
      "execution_count": 365,
      "outputs": [
        {
          "output_type": "stream",
          "text": [
            "_________________________________________________________________\n",
            "Layer (type)                 Output Shape              Param #   \n",
            "=================================================================\n",
            "simple_rnn_63 (SimpleRNN)    (None, 1)                 3         \n",
            "=================================================================\n",
            "Total params: 3\n",
            "Trainable params: 3\n",
            "Non-trainable params: 0\n",
            "_________________________________________________________________\n"
          ],
          "name": "stdout"
        }
      ]
    },
    {
      "metadata": {
        "id": "vnwMH4iGfrTv",
        "colab_type": "code",
        "colab": {}
      },
      "cell_type": "code",
      "source": [
        "model.set_weights([[[2],[3]],[[5]]])"
      ],
      "execution_count": 0,
      "outputs": []
    },
    {
      "metadata": {
        "id": "DpC5Zm4jfi9N",
        "colab_type": "code",
        "colab": {
          "base_uri": "https://localhost:8080/",
          "height": 86
        },
        "outputId": "e4244f51-4515-468a-ca17-24a98fface2a"
      },
      "cell_type": "code",
      "source": [
        "x = np.array([1, 0, 0, 1, 7, 11])\n",
        "x = x.reshape(1,3,2)\n",
        "print(x)\n",
        "model.predict(x) == 2 * 7 + 3 * 11 + 5 * 13"
      ],
      "execution_count": 367,
      "outputs": [
        {
          "output_type": "stream",
          "text": [
            "[[[ 1  0]\n",
            "  [ 0  1]\n",
            "  [ 7 11]]]\n"
          ],
          "name": "stdout"
        },
        {
          "output_type": "execute_result",
          "data": {
            "text/plain": [
              "array([[ True]])"
            ]
          },
          "metadata": {
            "tags": []
          },
          "execution_count": 367
        }
      ]
    },
    {
      "metadata": {
        "id": "E1CTYaIUg7OB",
        "colab_type": "text"
      },
      "cell_type": "markdown",
      "source": [
        "# Add another input"
      ]
    },
    {
      "metadata": {
        "id": "7QS9-cF0g9zd",
        "colab_type": "code",
        "colab": {
          "base_uri": "https://localhost:8080/",
          "height": 173
        },
        "outputId": "fc8e3f52-ba7e-4e14-f653-57131942367d"
      },
      "cell_type": "code",
      "source": [
        "x = np.array([1, 0, 0, 1, 7, 11, 1, 0, 0, 1, 7, 11])\n",
        "x = x.reshape(2,3,2)\n",
        "print(x)\n",
        "model.predict(x) == 2 * 7 + 3 * 11 + 5 * 13"
      ],
      "execution_count": 368,
      "outputs": [
        {
          "output_type": "stream",
          "text": [
            "[[[ 1  0]\n",
            "  [ 0  1]\n",
            "  [ 7 11]]\n",
            "\n",
            " [[ 1  0]\n",
            "  [ 0  1]\n",
            "  [ 7 11]]]\n"
          ],
          "name": "stdout"
        },
        {
          "output_type": "execute_result",
          "data": {
            "text/plain": [
              "array([[ True],\n",
              "       [ True]])"
            ]
          },
          "metadata": {
            "tags": []
          },
          "execution_count": 368
        }
      ]
    },
    {
      "metadata": {
        "id": "GhB8blY7hGrD",
        "colab_type": "code",
        "colab": {}
      },
      "cell_type": "code",
      "source": [
        ""
      ],
      "execution_count": 0,
      "outputs": []
    },
    {
      "metadata": {
        "id": "sDdCJYo7FU9x",
        "colab_type": "text"
      },
      "cell_type": "markdown",
      "source": [
        "# Prepare Training Data"
      ]
    },
    {
      "metadata": {
        "id": "2M99I2BMqVa7",
        "colab_type": "code",
        "colab": {
          "base_uri": "https://localhost:8080/",
          "height": 69
        },
        "outputId": "bd884834-9fa4-45d5-ac6c-b97b86ddb6e0"
      },
      "cell_type": "code",
      "source": [
        "def get_bit(n, bit):\n",
        "    a = []\n",
        "    for i in range(bit):\n",
        "        a.append(n & 1)\n",
        "        n >>= 1\n",
        "    return a\n",
        "  \n",
        "for i in range(3):\n",
        "    print(get_bit(i, 8))"
      ],
      "execution_count": 369,
      "outputs": [
        {
          "output_type": "stream",
          "text": [
            "[0, 0, 0, 0, 0, 0, 0, 0]\n",
            "[1, 0, 0, 0, 0, 0, 0, 0]\n",
            "[0, 1, 0, 0, 0, 0, 0, 0]\n"
          ],
          "name": "stdout"
        }
      ]
    },
    {
      "metadata": {
        "id": "sVict41CGJkp",
        "colab_type": "code",
        "colab": {}
      },
      "cell_type": "code",
      "source": [
        "time_steps = 8\n",
        "\n",
        "x = []\n",
        "y = []\n",
        "for i in range(2**time_steps):\n",
        "    for j in range(2**time_steps):\n",
        "        i_b = get_bit(i, time_steps)\n",
        "        j_b = get_bit(j, time_steps)\n",
        "        x.append([[i_b[i], j_b[i]] for i in range(time_steps)])\n",
        "        y.append([[k] for k in get_bit(i+j, 8)])\n",
        "    "
      ],
      "execution_count": 0,
      "outputs": []
    },
    {
      "metadata": {
        "id": "5O9ZdCXFgv8i",
        "colab_type": "code",
        "colab": {
          "base_uri": "https://localhost:8080/",
          "height": 52
        },
        "outputId": "ff2b4b33-446c-4494-e0ae-140add1877a2"
      },
      "cell_type": "code",
      "source": [
        "i = 256*11 + 5 # 256*3 + 5\n",
        "print(x[i])\n",
        "print(y[i])"
      ],
      "execution_count": 371,
      "outputs": [
        {
          "output_type": "stream",
          "text": [
            "[[1, 1], [1, 0], [0, 1], [1, 0], [0, 0], [0, 0], [0, 0], [0, 0]]\n",
            "[[0], [0], [0], [0], [1], [0], [0], [0]]\n"
          ],
          "name": "stdout"
        }
      ]
    },
    {
      "metadata": {
        "id": "l6jlu3lwLNTM",
        "colab_type": "code",
        "colab": {}
      },
      "cell_type": "code",
      "source": [
        "#for i in range(len(x)):\n",
        "#  print(x[i], y[i])"
      ],
      "execution_count": 0,
      "outputs": []
    },
    {
      "metadata": {
        "id": "SaXWeduuLhWO",
        "colab_type": "code",
        "colab": {
          "base_uri": "https://localhost:8080/",
          "height": 34
        },
        "outputId": "5ca0cb73-cd21-4bb7-e6d7-85a5866aa1f9"
      },
      "cell_type": "code",
      "source": [
        "import numpy as np\n",
        "\n",
        "x = np.array(x)\n",
        "x.shape"
      ],
      "execution_count": 373,
      "outputs": [
        {
          "output_type": "execute_result",
          "data": {
            "text/plain": [
              "(65536, 8, 2)"
            ]
          },
          "metadata": {
            "tags": []
          },
          "execution_count": 373
        }
      ]
    },
    {
      "metadata": {
        "id": "VWuM0_izM54I",
        "colab_type": "code",
        "colab": {
          "base_uri": "https://localhost:8080/",
          "height": 34
        },
        "outputId": "fde6dd44-739c-4bfe-f22d-719eed03bf57"
      },
      "cell_type": "code",
      "source": [
        "y = np.array(y)\n",
        "y.shape"
      ],
      "execution_count": 374,
      "outputs": [
        {
          "output_type": "execute_result",
          "data": {
            "text/plain": [
              "(65536, 8, 1)"
            ]
          },
          "metadata": {
            "tags": []
          },
          "execution_count": 374
        }
      ]
    },
    {
      "metadata": {
        "id": "vqhytUJVNFCz",
        "colab_type": "text"
      },
      "cell_type": "markdown",
      "source": [
        "# Train"
      ]
    },
    {
      "metadata": {
        "id": "hAGB0b4oNBgI",
        "colab_type": "code",
        "colab": {
          "base_uri": "https://localhost:8080/",
          "height": 207
        },
        "outputId": "acbbce78-02b6-418a-d4a7-86e4010b6fa9"
      },
      "cell_type": "code",
      "source": [
        "cell = 8\n",
        "input_size = 2\n",
        "time_steps = 8    # doesn't change the number of params\n",
        "\n",
        "model = keras.Sequential([\n",
        "        SimpleRNN(cell, activation='relu', return_sequences=True, use_bias=False, input_shape=(time_steps, input_size)),\n",
        "        Dense(1, activation='relu', use_bias=False)    \n",
        "])\n",
        "model.summary()"
      ],
      "execution_count": 375,
      "outputs": [
        {
          "output_type": "stream",
          "text": [
            "_________________________________________________________________\n",
            "Layer (type)                 Output Shape              Param #   \n",
            "=================================================================\n",
            "simple_rnn_64 (SimpleRNN)    (None, 8, 8)              80        \n",
            "_________________________________________________________________\n",
            "dense_41 (Dense)             (None, 8, 1)              8         \n",
            "=================================================================\n",
            "Total params: 88\n",
            "Trainable params: 88\n",
            "Non-trainable params: 0\n",
            "_________________________________________________________________\n"
          ],
          "name": "stdout"
        }
      ]
    },
    {
      "metadata": {
        "id": "zav8_lqVNfvD",
        "colab_type": "code",
        "colab": {}
      },
      "cell_type": "code",
      "source": [
        "model.compile(optimizer='adam', \n",
        "              loss='mean_squared_error',\n",
        "              metrics=['accuracy'])"
      ],
      "execution_count": 0,
      "outputs": []
    },
    {
      "metadata": {
        "id": "2XhaP-FkNjdH",
        "colab_type": "code",
        "colab": {
          "base_uri": "https://localhost:8080/",
          "height": 207
        },
        "outputId": "15618156-800b-41a3-bbf8-7b63523a5a01"
      },
      "cell_type": "code",
      "source": [
        "model.fit(x, y, epochs=5, batch_size=16)  "
      ],
      "execution_count": 377,
      "outputs": [
        {
          "output_type": "stream",
          "text": [
            "Epoch 1/5\n",
            "65536/65536 [==============================] - 11s 173us/step - loss: 0.0792 - acc: 0.9019\n",
            "Epoch 2/5\n",
            "65536/65536 [==============================] - 9s 130us/step - loss: 4.9192e-05 - acc: 1.0000\n",
            "Epoch 3/5\n",
            "65536/65536 [==============================] - 9s 132us/step - loss: 2.3435e-05 - acc: 1.0000\n",
            "Epoch 4/5\n",
            "65536/65536 [==============================] - 9s 139us/step - loss: 1.3780e-05 - acc: 1.0000\n",
            "Epoch 5/5\n",
            "65536/65536 [==============================] - 9s 136us/step - loss: 8.7074e-06 - acc: 1.0000\n"
          ],
          "name": "stdout"
        },
        {
          "output_type": "execute_result",
          "data": {
            "text/plain": [
              "<tensorflow.python.keras.callbacks.History at 0x7f52f9ba9b70>"
            ]
          },
          "metadata": {
            "tags": []
          },
          "execution_count": 377
        }
      ]
    },
    {
      "metadata": {
        "id": "xgOTQo8hV8xn",
        "colab_type": "code",
        "colab": {
          "base_uri": "https://localhost:8080/",
          "height": 34
        },
        "outputId": "5329ff2c-4b32-4bb7-a22e-1241e0dee16b"
      },
      "cell_type": "code",
      "source": [
        "\n",
        "count = 0\n",
        "\n",
        "\n",
        "for i in range(len(x)):\n",
        "  xi = x[i].reshape(1, 8, 2)\n",
        "  yi = model.predict(xi).reshape(8, 1)\n",
        "  for j in range(len(yi)):\n",
        "    if y[i][j][0] != (0 if yi[j][0] < 0.5 else 1):\n",
        "      count += 1\n",
        "      break\n",
        "count\n",
        "\n",
        "\n"
      ],
      "execution_count": 378,
      "outputs": [
        {
          "output_type": "execute_result",
          "data": {
            "text/plain": [
              "0"
            ]
          },
          "metadata": {
            "tags": []
          },
          "execution_count": 378
        }
      ]
    }
  ]
}
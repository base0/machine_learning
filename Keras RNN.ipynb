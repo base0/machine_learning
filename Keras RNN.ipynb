{
  "nbformat": 4,
  "nbformat_minor": 0,
  "metadata": {
    "colab": {
      "name": "Keras RNN.ipynb",
      "version": "0.3.2",
      "provenance": []
    },
    "kernelspec": {
      "display_name": "Python 3",
      "language": "python",
      "name": "python3"
    }
  },
  "cells": [
    {
      "metadata": {
        "id": "nj14GUg_IJn5",
        "colab_type": "text"
      },
      "cell_type": "markdown",
      "source": [
        "# Params for Simple_RNN\n",
        "\n",
        "$params = cell\\times input\\_size + cell^2$\n",
        "\n",
        "$cell^2$ means cells are fullly connected to themselves   meaning?\n"
      ]
    },
    {
      "metadata": {
        "id": "g3B546nNeU1v",
        "colab_type": "code",
        "colab": {}
      },
      "cell_type": "code",
      "source": [
        "import tensorflow as tf\n",
        "from tensorflow.keras.layers import *\n",
        "from tensorflow import keras\n",
        "import numpy as np"
      ],
      "execution_count": 0,
      "outputs": []
    },
    {
      "metadata": {
        "id": "ehDDVwPJIJn9",
        "colab_type": "code",
        "colab": {
          "base_uri": "https://localhost:8080/",
          "height": 173
        },
        "outputId": "9eab7faf-61aa-460b-b73c-72e188c6326c"
      },
      "cell_type": "code",
      "source": [
        "cell = 1\n",
        "input_size = 2\n",
        "time_steps = 1    # doesn't change the number of params\n",
        "\n",
        "model = keras.Sequential([\n",
        "        SimpleRNN(cell, activation='relu', use_bias=False, input_shape=(time_steps, input_size)),\n",
        "        #Dense(1, activation='relu', use_bias=False)    \n",
        "])\n",
        "model.summary()"
      ],
      "execution_count": 2,
      "outputs": [
        {
          "output_type": "stream",
          "text": [
            "_________________________________________________________________\n",
            "Layer (type)                 Output Shape              Param #   \n",
            "=================================================================\n",
            "simple_rnn (SimpleRNN)       (None, 1)                 3         \n",
            "=================================================================\n",
            "Total params: 3\n",
            "Trainable params: 3\n",
            "Non-trainable params: 0\n",
            "_________________________________________________________________\n"
          ],
          "name": "stdout"
        }
      ]
    },
    {
      "metadata": {
        "id": "-uJEFh0zeaWR",
        "colab_type": "code",
        "colab": {
          "base_uri": "https://localhost:8080/",
          "height": 52
        },
        "outputId": "af17216b-7511-4e5f-fe98-b0d380d1b382"
      },
      "cell_type": "code",
      "source": [
        "model.get_weights()"
      ],
      "execution_count": 3,
      "outputs": [
        {
          "output_type": "execute_result",
          "data": {
            "text/plain": [
              "[array([[-1.0456531 ],\n",
              "        [-0.19413507]], dtype=float32), array([[-1.]], dtype=float32)]"
            ]
          },
          "metadata": {
            "tags": []
          },
          "execution_count": 3
        }
      ]
    },
    {
      "metadata": {
        "id": "5BT3rcR7SCna",
        "colab_type": "code",
        "colab": {}
      },
      "cell_type": "code",
      "source": [
        "model.set_weights([[[2],[3]],[[5]]])"
      ],
      "execution_count": 0,
      "outputs": []
    },
    {
      "metadata": {
        "id": "HdpRxMWKIJoC",
        "colab_type": "code",
        "colab": {
          "base_uri": "https://localhost:8080/",
          "height": 34
        },
        "outputId": "2dfbe63c-2e82-4482-ce85-8ddda35d8eba"
      },
      "cell_type": "code",
      "source": [
        "x = np.array([1, 0])\n",
        "x = x.reshape(1,1,2)\n",
        "model.predict(x)"
      ],
      "execution_count": 5,
      "outputs": [
        {
          "output_type": "execute_result",
          "data": {
            "text/plain": [
              "array([[2.]], dtype=float32)"
            ]
          },
          "metadata": {
            "tags": []
          },
          "execution_count": 5
        }
      ]
    },
    {
      "metadata": {
        "id": "jrtJJe5me3Kc",
        "colab_type": "text"
      },
      "cell_type": "markdown",
      "source": [
        "# Add a time step"
      ]
    },
    {
      "metadata": {
        "id": "yl5SufjKIJoF",
        "colab_type": "code",
        "colab": {
          "base_uri": "https://localhost:8080/",
          "height": 173
        },
        "outputId": "3a89f23c-c190-4677-a2a3-e02e779f7c31"
      },
      "cell_type": "code",
      "source": [
        "cell = 1\n",
        "input_size = 2\n",
        "time_steps = 2    # doesn't change the number of params\n",
        "\n",
        "model = keras.Sequential([\n",
        "        SimpleRNN(cell, activation='relu', use_bias=False, input_shape=(time_steps, input_size)),\n",
        "        #Dense(1, activation='relu', use_bias=False)    \n",
        "])\n",
        "model.summary()"
      ],
      "execution_count": 6,
      "outputs": [
        {
          "output_type": "stream",
          "text": [
            "_________________________________________________________________\n",
            "Layer (type)                 Output Shape              Param #   \n",
            "=================================================================\n",
            "simple_rnn_1 (SimpleRNN)     (None, 1)                 3         \n",
            "=================================================================\n",
            "Total params: 3\n",
            "Trainable params: 3\n",
            "Non-trainable params: 0\n",
            "_________________________________________________________________\n"
          ],
          "name": "stdout"
        }
      ]
    },
    {
      "metadata": {
        "id": "MaQCf9J6Ziyn",
        "colab_type": "code",
        "colab": {}
      },
      "cell_type": "code",
      "source": [
        "model.set_weights([[[2],[3]],[[5]]])"
      ],
      "execution_count": 0,
      "outputs": []
    },
    {
      "metadata": {
        "id": "KYKGGlZxer9s",
        "colab_type": "code",
        "colab": {
          "base_uri": "https://localhost:8080/",
          "height": 69
        },
        "outputId": "760ffc15-5e2a-4510-aea0-d1fca702bc92"
      },
      "cell_type": "code",
      "source": [
        "x = np.array([1, 0, 0, 0])\n",
        "x = x.reshape(1,2,2)\n",
        "print(x)\n",
        "model.predict(x)"
      ],
      "execution_count": 8,
      "outputs": [
        {
          "output_type": "stream",
          "text": [
            "[[[1 0]\n",
            "  [0 0]]]\n"
          ],
          "name": "stdout"
        },
        {
          "output_type": "execute_result",
          "data": {
            "text/plain": [
              "array([[10.]], dtype=float32)"
            ]
          },
          "metadata": {
            "tags": []
          },
          "execution_count": 8
        }
      ]
    },
    {
      "metadata": {
        "id": "fNTgsMrIfHJn",
        "colab_type": "code",
        "colab": {
          "base_uri": "https://localhost:8080/",
          "height": 69
        },
        "outputId": "dbf319dd-0627-4357-80ad-3454ac8a6478"
      },
      "cell_type": "code",
      "source": [
        "x = np.array([1, 0, 1, 0])\n",
        "x = x.reshape(1,2,2)\n",
        "print(x)\n",
        "model.predict(x)"
      ],
      "execution_count": 9,
      "outputs": [
        {
          "output_type": "stream",
          "text": [
            "[[[1 0]\n",
            "  [1 0]]]\n"
          ],
          "name": "stdout"
        },
        {
          "output_type": "execute_result",
          "data": {
            "text/plain": [
              "array([[12.]], dtype=float32)"
            ]
          },
          "metadata": {
            "tags": []
          },
          "execution_count": 9
        }
      ]
    },
    {
      "metadata": {
        "id": "5wMpdQ3DfUOF",
        "colab_type": "code",
        "colab": {
          "base_uri": "https://localhost:8080/",
          "height": 69
        },
        "outputId": "0d4e73c4-a519-4b7e-9324-4653a3293e6a"
      },
      "cell_type": "code",
      "source": [
        "x = np.array([1, 0, 0, 1])\n",
        "x = x.reshape(1,2,2)\n",
        "print(x)\n",
        "model.predict(x)"
      ],
      "execution_count": 10,
      "outputs": [
        {
          "output_type": "stream",
          "text": [
            "[[[1 0]\n",
            "  [0 1]]]\n"
          ],
          "name": "stdout"
        },
        {
          "output_type": "execute_result",
          "data": {
            "text/plain": [
              "array([[13.]], dtype=float32)"
            ]
          },
          "metadata": {
            "tags": []
          },
          "execution_count": 10
        }
      ]
    },
    {
      "metadata": {
        "id": "44CfKJgRfdgM",
        "colab_type": "text"
      },
      "cell_type": "markdown",
      "source": [
        "# Add another timestep"
      ]
    },
    {
      "metadata": {
        "id": "-E3Qhk7cffKr",
        "colab_type": "code",
        "colab": {
          "base_uri": "https://localhost:8080/",
          "height": 173
        },
        "outputId": "2658c6f1-a467-4513-f40b-d3618f476fe2"
      },
      "cell_type": "code",
      "source": [
        "cell = 1\n",
        "input_size = 2\n",
        "time_steps = 3    # doesn't change the number of params\n",
        "\n",
        "model = keras.Sequential([\n",
        "        SimpleRNN(cell, activation='relu', use_bias=False, input_shape=(time_steps, input_size)),\n",
        "        #Dense(1, activation='relu', use_bias=False)    \n",
        "])\n",
        "model.summary()"
      ],
      "execution_count": 11,
      "outputs": [
        {
          "output_type": "stream",
          "text": [
            "_________________________________________________________________\n",
            "Layer (type)                 Output Shape              Param #   \n",
            "=================================================================\n",
            "simple_rnn_2 (SimpleRNN)     (None, 1)                 3         \n",
            "=================================================================\n",
            "Total params: 3\n",
            "Trainable params: 3\n",
            "Non-trainable params: 0\n",
            "_________________________________________________________________\n"
          ],
          "name": "stdout"
        }
      ]
    },
    {
      "metadata": {
        "id": "vnwMH4iGfrTv",
        "colab_type": "code",
        "colab": {}
      },
      "cell_type": "code",
      "source": [
        "model.set_weights([[[2],[3]],[[5]]])"
      ],
      "execution_count": 0,
      "outputs": []
    },
    {
      "metadata": {
        "id": "DpC5Zm4jfi9N",
        "colab_type": "code",
        "colab": {
          "base_uri": "https://localhost:8080/",
          "height": 86
        },
        "outputId": "277d002d-e68e-419f-ef0d-0e04488732c2"
      },
      "cell_type": "code",
      "source": [
        "x = np.array([1, 0, 0, 1, 7, 11])\n",
        "x = x.reshape(1,3,2)\n",
        "print(x)\n",
        "model.predict(x) == 2 * 7 + 3 * 11 + 5 * 13"
      ],
      "execution_count": 13,
      "outputs": [
        {
          "output_type": "stream",
          "text": [
            "[[[ 1  0]\n",
            "  [ 0  1]\n",
            "  [ 7 11]]]\n"
          ],
          "name": "stdout"
        },
        {
          "output_type": "execute_result",
          "data": {
            "text/plain": [
              "array([[ True]])"
            ]
          },
          "metadata": {
            "tags": []
          },
          "execution_count": 13
        }
      ]
    },
    {
      "metadata": {
        "id": "E1CTYaIUg7OB",
        "colab_type": "text"
      },
      "cell_type": "markdown",
      "source": [
        "# Add another input"
      ]
    },
    {
      "metadata": {
        "id": "7QS9-cF0g9zd",
        "colab_type": "code",
        "colab": {
          "base_uri": "https://localhost:8080/",
          "height": 173
        },
        "outputId": "bece2e30-dace-4b71-a05d-18b7421e1e8b"
      },
      "cell_type": "code",
      "source": [
        "x = np.array([1, 0, 0, 1, 7, 11, 1, 0, 0, 1, 7, 11])\n",
        "x = x.reshape(2,3,2)\n",
        "print(x)\n",
        "model.predict(x) == 2 * 7 + 3 * 11 + 5 * 13"
      ],
      "execution_count": 14,
      "outputs": [
        {
          "output_type": "stream",
          "text": [
            "[[[ 1  0]\n",
            "  [ 0  1]\n",
            "  [ 7 11]]\n",
            "\n",
            " [[ 1  0]\n",
            "  [ 0  1]\n",
            "  [ 7 11]]]\n"
          ],
          "name": "stdout"
        },
        {
          "output_type": "execute_result",
          "data": {
            "text/plain": [
              "array([[ True],\n",
              "       [ True]])"
            ]
          },
          "metadata": {
            "tags": []
          },
          "execution_count": 14
        }
      ]
    },
    {
      "metadata": {
        "id": "GhB8blY7hGrD",
        "colab_type": "code",
        "colab": {}
      },
      "cell_type": "code",
      "source": [
        ""
      ],
      "execution_count": 0,
      "outputs": []
    },
    {
      "metadata": {
        "id": "sDdCJYo7FU9x",
        "colab_type": "text"
      },
      "cell_type": "markdown",
      "source": [
        "# Prepare Training Data"
      ]
    },
    {
      "metadata": {
        "id": "2M99I2BMqVa7",
        "colab_type": "code",
        "colab": {
          "base_uri": "https://localhost:8080/",
          "height": 69
        },
        "outputId": "0dbad691-3b66-45fe-eb8d-151035827e8d"
      },
      "cell_type": "code",
      "source": [
        "def get_bit(n, bit):\n",
        "    a = []\n",
        "    for i in range(bit):\n",
        "        a.append(n & 1)\n",
        "        n >>= 1\n",
        "    return a\n",
        "  \n",
        "for i in range(3):\n",
        "    print(get_bit(i, 8))"
      ],
      "execution_count": 15,
      "outputs": [
        {
          "output_type": "stream",
          "text": [
            "[0, 0, 0, 0, 0, 0, 0, 0]\n",
            "[1, 0, 0, 0, 0, 0, 0, 0]\n",
            "[0, 1, 0, 0, 0, 0, 0, 0]\n"
          ],
          "name": "stdout"
        }
      ]
    },
    {
      "metadata": {
        "id": "sVict41CGJkp",
        "colab_type": "code",
        "colab": {}
      },
      "cell_type": "code",
      "source": [
        "time_steps = 8\n",
        "\n",
        "x = []\n",
        "y = []\n",
        "for i in range(2**time_steps):\n",
        "    for j in range(2**time_steps):\n",
        "        i_b = get_bit(i, time_steps)\n",
        "        j_b = get_bit(j, time_steps)\n",
        "        x.append([[i_b[i], j_b[i]] for i in range(time_steps)])\n",
        "        y.append([[k] for k in get_bit(i+j, 8)])\n",
        "    "
      ],
      "execution_count": 0,
      "outputs": []
    },
    {
      "metadata": {
        "id": "5O9ZdCXFgv8i",
        "colab_type": "code",
        "colab": {
          "base_uri": "https://localhost:8080/",
          "height": 52
        },
        "outputId": "b48f42e2-2e8d-4005-84b8-3e78a5295667"
      },
      "cell_type": "code",
      "source": [
        "i = 256*11 + 5 # 256*3 + 5\n",
        "print(x[i])\n",
        "print(y[i])"
      ],
      "execution_count": 17,
      "outputs": [
        {
          "output_type": "stream",
          "text": [
            "[[1, 1], [1, 0], [0, 1], [1, 0], [0, 0], [0, 0], [0, 0], [0, 0]]\n",
            "[[0], [0], [0], [0], [1], [0], [0], [0]]\n"
          ],
          "name": "stdout"
        }
      ]
    },
    {
      "metadata": {
        "id": "l6jlu3lwLNTM",
        "colab_type": "code",
        "colab": {}
      },
      "cell_type": "code",
      "source": [
        "#for i in range(len(x)):\n",
        "#  print(x[i], y[i])"
      ],
      "execution_count": 0,
      "outputs": []
    },
    {
      "metadata": {
        "id": "SaXWeduuLhWO",
        "colab_type": "code",
        "colab": {
          "base_uri": "https://localhost:8080/",
          "height": 34
        },
        "outputId": "569e80e2-93f3-4043-d07d-5b759e8c8a08"
      },
      "cell_type": "code",
      "source": [
        "import numpy as np\n",
        "\n",
        "x = np.array(x)\n",
        "x.shape"
      ],
      "execution_count": 19,
      "outputs": [
        {
          "output_type": "execute_result",
          "data": {
            "text/plain": [
              "(65536, 8, 2)"
            ]
          },
          "metadata": {
            "tags": []
          },
          "execution_count": 19
        }
      ]
    },
    {
      "metadata": {
        "id": "VWuM0_izM54I",
        "colab_type": "code",
        "colab": {
          "base_uri": "https://localhost:8080/",
          "height": 34
        },
        "outputId": "7787d0ee-aef6-458d-96a6-ff40f9b6f197"
      },
      "cell_type": "code",
      "source": [
        "y = np.array(y)\n",
        "y.shape"
      ],
      "execution_count": 20,
      "outputs": [
        {
          "output_type": "execute_result",
          "data": {
            "text/plain": [
              "(65536, 8, 1)"
            ]
          },
          "metadata": {
            "tags": []
          },
          "execution_count": 20
        }
      ]
    },
    {
      "metadata": {
        "id": "vqhytUJVNFCz",
        "colab_type": "text"
      },
      "cell_type": "markdown",
      "source": [
        "# Train"
      ]
    },
    {
      "metadata": {
        "id": "hAGB0b4oNBgI",
        "colab_type": "code",
        "colab": {
          "base_uri": "https://localhost:8080/",
          "height": 207
        },
        "outputId": "24aba294-b241-4332-df9b-1745d79cd9dd"
      },
      "cell_type": "code",
      "source": [
        "cell = 8\n",
        "input_size = 2\n",
        "time_steps = 8    # doesn't change the number of params\n",
        "\n",
        "model = keras.Sequential([\n",
        "        #SimpleRNN(cell, activation='relu', return_sequences=True, use_bias=False, input_shape=(time_steps, input_size)),\n",
        "        LSTM(cell, activation='relu', return_sequences=True, use_bias=False, input_shape=(time_steps, input_size)),\n",
        "        Dense(1, activation='relu', use_bias=False)    \n",
        "])\n",
        "model.summary()"
      ],
      "execution_count": 21,
      "outputs": [
        {
          "output_type": "stream",
          "text": [
            "_________________________________________________________________\n",
            "Layer (type)                 Output Shape              Param #   \n",
            "=================================================================\n",
            "lstm (LSTM)                  (None, 8, 8)              320       \n",
            "_________________________________________________________________\n",
            "dense (Dense)                (None, 8, 1)              8         \n",
            "=================================================================\n",
            "Total params: 328\n",
            "Trainable params: 328\n",
            "Non-trainable params: 0\n",
            "_________________________________________________________________\n"
          ],
          "name": "stdout"
        }
      ]
    },
    {
      "metadata": {
        "id": "zav8_lqVNfvD",
        "colab_type": "code",
        "colab": {}
      },
      "cell_type": "code",
      "source": [
        "model.compile(optimizer='adam', # tf.keras.optimizers.SGD(lr=0.01),\n",
        "              loss='mean_squared_error',\n",
        "              metrics=['accuracy'])"
      ],
      "execution_count": 0,
      "outputs": []
    },
    {
      "metadata": {
        "id": "2XhaP-FkNjdH",
        "colab_type": "code",
        "colab": {
          "base_uri": "https://localhost:8080/",
          "height": 380
        },
        "outputId": "54a57432-ddd2-4369-c599-ae65ad810b91"
      },
      "cell_type": "code",
      "source": [
        "model.fit(x, y, epochs=10)  "
      ],
      "execution_count": 23,
      "outputs": [
        {
          "output_type": "stream",
          "text": [
            "Epoch 1/10\n",
            "65536/65536 [==============================] - 11s 170us/step - loss: 0.2086 - acc: 0.6860\n",
            "Epoch 2/10\n",
            "65536/65536 [==============================] - 10s 156us/step - loss: 0.0049 - acc: 0.9980\n",
            "Epoch 3/10\n",
            "65536/65536 [==============================] - 10s 157us/step - loss: 3.6902e-04 - acc: 1.0000\n",
            "Epoch 4/10\n",
            "65536/65536 [==============================] - 10s 159us/step - loss: 1.4697e-04 - acc: 1.0000\n",
            "Epoch 5/10\n",
            "65536/65536 [==============================] - 10s 159us/step - loss: 8.1410e-05 - acc: 1.0000\n",
            "Epoch 6/10\n",
            "65536/65536 [==============================] - 10s 156us/step - loss: 5.3531e-05 - acc: 1.0000\n",
            "Epoch 7/10\n",
            "65536/65536 [==============================] - 10s 157us/step - loss: 3.9429e-05 - acc: 1.0000\n",
            "Epoch 8/10\n",
            "65536/65536 [==============================] - 10s 158us/step - loss: 3.0856e-05 - acc: 1.0000\n",
            "Epoch 9/10\n",
            "65536/65536 [==============================] - 10s 157us/step - loss: 2.4009e-05 - acc: 1.0000\n",
            "Epoch 10/10\n",
            "65536/65536 [==============================] - 10s 159us/step - loss: 1.6722e-05 - acc: 1.0000\n"
          ],
          "name": "stdout"
        },
        {
          "output_type": "execute_result",
          "data": {
            "text/plain": [
              "<tensorflow.python.keras.callbacks.History at 0x7f11e2fd5d68>"
            ]
          },
          "metadata": {
            "tags": []
          },
          "execution_count": 23
        }
      ]
    },
    {
      "metadata": {
        "id": "xgOTQo8hV8xn",
        "colab_type": "code",
        "colab": {
          "base_uri": "https://localhost:8080/",
          "height": 34
        },
        "outputId": "922ffa5a-d995-4421-a390-f58af3b45f86"
      },
      "cell_type": "code",
      "source": [
        "\n",
        "count = 0\n",
        "\n",
        "\n",
        "for i in range(len(x)):\n",
        "  xi = x[i].reshape(1, 8, 2)\n",
        "  yi = model.predict(xi).reshape(8, 1)\n",
        "  for j in range(len(yi)):\n",
        "    if y[i][j][0] != (0 if yi[j][0] < 0.5 else 1):\n",
        "      count += 1\n",
        "      break\n",
        "count\n",
        "\n",
        "\n"
      ],
      "execution_count": 24,
      "outputs": [
        {
          "output_type": "execute_result",
          "data": {
            "text/plain": [
              "0"
            ]
          },
          "metadata": {
            "tags": []
          },
          "execution_count": 24
        }
      ]
    },
    {
      "metadata": {
        "id": "tQUX0HR1rytu",
        "colab_type": "code",
        "colab": {}
      },
      "cell_type": "code",
      "source": [
        ""
      ],
      "execution_count": 0,
      "outputs": []
    }
  ]
}
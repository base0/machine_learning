{
  "nbformat": 4,
  "nbformat_minor": 0,
  "metadata": {
    "colab": {
      "name": "Keras RNN.ipynb",
      "provenance": [],
      "collapsed_sections": []
    },
    "kernelspec": {
      "display_name": "Python 3",
      "language": "python",
      "name": "python3"
    }
  },
  "cells": [
    {
      "cell_type": "markdown",
      "metadata": {
        "id": "nj14GUg_IJn5",
        "colab_type": "text"
      },
      "source": [
        "# Params for Simple_RNN\n",
        "\n",
        "$params = cell\\times input\\_size + cell^2$\n",
        "\n",
        "$cell^2$ means cells are fullly connected to themselves   meaning?\n"
      ]
    },
    {
      "cell_type": "code",
      "metadata": {
        "id": "QdvTvWRxfX_v",
        "colab_type": "code",
        "colab": {}
      },
      "source": [
        "%tensorflow_version 1.x"
      ],
      "execution_count": 0,
      "outputs": []
    },
    {
      "cell_type": "code",
      "metadata": {
        "id": "g3B546nNeU1v",
        "colab_type": "code",
        "outputId": "c7499787-50d9-4cc4-e0a4-43e631dded63",
        "colab": {
          "base_uri": "https://localhost:8080/",
          "height": 34
        }
      },
      "source": [
        "# colab.research.google.com\n",
        "import tensorflow as tf\n",
        "from tensorflow import keras\n",
        "from tensorflow.keras.layers import *\n",
        "import numpy as np\n",
        "\n",
        "'''\n",
        "# labs.cognitiveclass.ai\n",
        "import keras\n",
        "from keras.layers import *\n",
        "import numpy as np\n",
        "'''"
      ],
      "execution_count": 2,
      "outputs": [
        {
          "output_type": "execute_result",
          "data": {
            "text/plain": [
              "'\\n# labs.cognitiveclass.ai\\nimport keras\\nfrom keras.layers import *\\nimport numpy as np\\n'"
            ]
          },
          "metadata": {
            "tags": []
          },
          "execution_count": 2
        }
      ]
    },
    {
      "cell_type": "markdown",
      "metadata": {
        "id": "rZIUp_Y0T5Q2",
        "colab_type": "text"
      },
      "source": [
        "# 1 timestep"
      ]
    },
    {
      "cell_type": "code",
      "metadata": {
        "id": "ehDDVwPJIJn9",
        "colab_type": "code",
        "outputId": "e31c8430-1f14-4c81-8cbd-4ee582ae8165",
        "colab": {
          "base_uri": "https://localhost:8080/",
          "height": 262
        }
      },
      "source": [
        "cell = 1\n",
        "input_size = 2\n",
        "time_steps = 1    \n",
        "\n",
        "model = keras.Sequential([\n",
        "        SimpleRNN(cell, activation='relu', use_bias=False, input_shape=(time_steps, input_size)),\n",
        "        #Dense(1, activation='relu', use_bias=False)    \n",
        "])\n",
        "model.summary()"
      ],
      "execution_count": 3,
      "outputs": [
        {
          "output_type": "stream",
          "text": [
            "WARNING:tensorflow:From /usr/local/lib/python3.6/dist-packages/tensorflow_core/python/ops/resource_variable_ops.py:1630: calling BaseResourceVariable.__init__ (from tensorflow.python.ops.resource_variable_ops) with constraint is deprecated and will be removed in a future version.\n",
            "Instructions for updating:\n",
            "If using Keras pass *_constraint arguments to layers.\n",
            "Model: \"sequential\"\n",
            "_________________________________________________________________\n",
            "Layer (type)                 Output Shape              Param #   \n",
            "=================================================================\n",
            "simple_rnn (SimpleRNN)       (None, 1)                 3         \n",
            "=================================================================\n",
            "Total params: 3\n",
            "Trainable params: 3\n",
            "Non-trainable params: 0\n",
            "_________________________________________________________________\n"
          ],
          "name": "stdout"
        }
      ]
    },
    {
      "cell_type": "code",
      "metadata": {
        "id": "-uJEFh0zeaWR",
        "colab_type": "code",
        "outputId": "9b7b6c2c-0cfa-4bb8-b126-38dc00033072",
        "colab": {
          "base_uri": "https://localhost:8080/",
          "height": 52
        }
      },
      "source": [
        "model.get_weights()"
      ],
      "execution_count": 4,
      "outputs": [
        {
          "output_type": "execute_result",
          "data": {
            "text/plain": [
              "[array([[-0.3636521],\n",
              "        [ 1.3807131]], dtype=float32), array([[-1.]], dtype=float32)]"
            ]
          },
          "metadata": {
            "tags": []
          },
          "execution_count": 4
        }
      ]
    },
    {
      "cell_type": "code",
      "metadata": {
        "id": "5BT3rcR7SCna",
        "colab_type": "code",
        "colab": {}
      },
      "source": [
        "def to_npa_list(a):\n",
        "  return [np.array(i) for i in a]\n",
        "\n",
        "model.set_weights(to_npa_list([[[2],[3]],[[5]]]))"
      ],
      "execution_count": 0,
      "outputs": []
    },
    {
      "cell_type": "code",
      "metadata": {
        "id": "HdpRxMWKIJoC",
        "colab_type": "code",
        "colab": {
          "base_uri": "https://localhost:8080/",
          "height": 34
        },
        "outputId": "0f684b44-5524-47be-88ed-4054fb883a43"
      },
      "source": [
        "x = np.array([1, 0])\n",
        "x = x.reshape(1,1,2)\n",
        "model.predict(x)"
      ],
      "execution_count": 6,
      "outputs": [
        {
          "output_type": "execute_result",
          "data": {
            "text/plain": [
              "array([[2.]], dtype=float32)"
            ]
          },
          "metadata": {
            "tags": []
          },
          "execution_count": 6
        }
      ]
    },
    {
      "cell_type": "markdown",
      "metadata": {
        "id": "jrtJJe5me3Kc",
        "colab_type": "text"
      },
      "source": [
        "# 2 timesteps"
      ]
    },
    {
      "cell_type": "code",
      "metadata": {
        "id": "yl5SufjKIJoF",
        "colab_type": "code",
        "colab": {
          "base_uri": "https://localhost:8080/",
          "height": 190
        },
        "outputId": "07582976-ca0b-4270-f859-fc58b113060c"
      },
      "source": [
        "cell = 1\n",
        "input_size = 2\n",
        "time_steps = 2    \n",
        "\n",
        "model = keras.Sequential([\n",
        "        SimpleRNN(cell, activation='relu', use_bias=False, input_shape=(time_steps, input_size)),\n",
        "        #Dense(1, activation='relu', use_bias=False)    \n",
        "])\n",
        "model.summary()"
      ],
      "execution_count": 7,
      "outputs": [
        {
          "output_type": "stream",
          "text": [
            "Model: \"sequential_1\"\n",
            "_________________________________________________________________\n",
            "Layer (type)                 Output Shape              Param #   \n",
            "=================================================================\n",
            "simple_rnn_1 (SimpleRNN)     (None, 1)                 3         \n",
            "=================================================================\n",
            "Total params: 3\n",
            "Trainable params: 3\n",
            "Non-trainable params: 0\n",
            "_________________________________________________________________\n"
          ],
          "name": "stdout"
        }
      ]
    },
    {
      "cell_type": "code",
      "metadata": {
        "id": "MaQCf9J6Ziyn",
        "colab_type": "code",
        "colab": {}
      },
      "source": [
        "model.set_weights(to_npa_list([[[2],[3]],[[5]]]))"
      ],
      "execution_count": 0,
      "outputs": []
    },
    {
      "cell_type": "code",
      "metadata": {
        "id": "KYKGGlZxer9s",
        "colab_type": "code",
        "colab": {
          "base_uri": "https://localhost:8080/",
          "height": 69
        },
        "outputId": "cdcae71f-c1b4-4fe0-e102-3ac7a70fdf56"
      },
      "source": [
        "x = np.array([1, 0, 0, 0])\n",
        "x = x.reshape(1,2,2)\n",
        "print(x)\n",
        "model.predict(x)"
      ],
      "execution_count": 9,
      "outputs": [
        {
          "output_type": "stream",
          "text": [
            "[[[1 0]\n",
            "  [0 0]]]\n"
          ],
          "name": "stdout"
        },
        {
          "output_type": "execute_result",
          "data": {
            "text/plain": [
              "array([[10.]], dtype=float32)"
            ]
          },
          "metadata": {
            "tags": []
          },
          "execution_count": 9
        }
      ]
    },
    {
      "cell_type": "code",
      "metadata": {
        "id": "fNTgsMrIfHJn",
        "colab_type": "code",
        "colab": {
          "base_uri": "https://localhost:8080/",
          "height": 69
        },
        "outputId": "d9c0772f-2f01-4ec9-f439-ec01c5dd3780"
      },
      "source": [
        "x = np.array([1, 0, 1, 0])\n",
        "x = x.reshape(1,2,2)\n",
        "print(x)\n",
        "model.predict(x)"
      ],
      "execution_count": 10,
      "outputs": [
        {
          "output_type": "stream",
          "text": [
            "[[[1 0]\n",
            "  [1 0]]]\n"
          ],
          "name": "stdout"
        },
        {
          "output_type": "execute_result",
          "data": {
            "text/plain": [
              "array([[12.]], dtype=float32)"
            ]
          },
          "metadata": {
            "tags": []
          },
          "execution_count": 10
        }
      ]
    },
    {
      "cell_type": "code",
      "metadata": {
        "id": "5wMpdQ3DfUOF",
        "colab_type": "code",
        "colab": {
          "base_uri": "https://localhost:8080/",
          "height": 69
        },
        "outputId": "1886447a-c2f3-4839-94e7-1145b8aa1f74"
      },
      "source": [
        "x = np.array([1, 0, 0, 1])\n",
        "x = x.reshape(1,2,2)\n",
        "print(x)\n",
        "model.predict(x)"
      ],
      "execution_count": 11,
      "outputs": [
        {
          "output_type": "stream",
          "text": [
            "[[[1 0]\n",
            "  [0 1]]]\n"
          ],
          "name": "stdout"
        },
        {
          "output_type": "execute_result",
          "data": {
            "text/plain": [
              "array([[13.]], dtype=float32)"
            ]
          },
          "metadata": {
            "tags": []
          },
          "execution_count": 11
        }
      ]
    },
    {
      "cell_type": "markdown",
      "metadata": {
        "id": "44CfKJgRfdgM",
        "colab_type": "text"
      },
      "source": [
        "# 3 timesteps"
      ]
    },
    {
      "cell_type": "code",
      "metadata": {
        "id": "-E3Qhk7cffKr",
        "colab_type": "code",
        "colab": {
          "base_uri": "https://localhost:8080/",
          "height": 190
        },
        "outputId": "06c025e8-7629-40f9-e3c5-0f034fde810c"
      },
      "source": [
        "cell = 1\n",
        "input_size = 2\n",
        "time_steps = 3    \n",
        "\n",
        "model = keras.Sequential([\n",
        "        SimpleRNN(cell, activation='relu', use_bias=False, input_shape=(time_steps, input_size)),\n",
        "        #Dense(1, activation='relu', use_bias=False)    \n",
        "])\n",
        "model.summary()"
      ],
      "execution_count": 12,
      "outputs": [
        {
          "output_type": "stream",
          "text": [
            "Model: \"sequential_2\"\n",
            "_________________________________________________________________\n",
            "Layer (type)                 Output Shape              Param #   \n",
            "=================================================================\n",
            "simple_rnn_2 (SimpleRNN)     (None, 1)                 3         \n",
            "=================================================================\n",
            "Total params: 3\n",
            "Trainable params: 3\n",
            "Non-trainable params: 0\n",
            "_________________________________________________________________\n"
          ],
          "name": "stdout"
        }
      ]
    },
    {
      "cell_type": "code",
      "metadata": {
        "id": "vnwMH4iGfrTv",
        "colab_type": "code",
        "colab": {}
      },
      "source": [
        "model.set_weights(to_npa_list([[[2],[3]],[[5]]]))"
      ],
      "execution_count": 0,
      "outputs": []
    },
    {
      "cell_type": "code",
      "metadata": {
        "id": "DpC5Zm4jfi9N",
        "colab_type": "code",
        "colab": {
          "base_uri": "https://localhost:8080/",
          "height": 86
        },
        "outputId": "558c585b-12d4-4909-b790-2eacbca24439"
      },
      "source": [
        "x = np.array([1, 0, 0, 1, 7, 11])\n",
        "x = x.reshape(1,3,2)\n",
        "print(x)\n",
        "model.predict(x) == 2 * 7 + 3 * 11 + 5 * 13"
      ],
      "execution_count": 14,
      "outputs": [
        {
          "output_type": "stream",
          "text": [
            "[[[ 1  0]\n",
            "  [ 0  1]\n",
            "  [ 7 11]]]\n"
          ],
          "name": "stdout"
        },
        {
          "output_type": "execute_result",
          "data": {
            "text/plain": [
              "array([[ True]])"
            ]
          },
          "metadata": {
            "tags": []
          },
          "execution_count": 14
        }
      ]
    }
  ]
}
{
  "nbformat": 4,
  "nbformat_minor": 0,
  "metadata": {
    "colab": {
      "name": "Keras RNN.ipynb",
      "version": "0.3.2",
      "provenance": []
    },
    "kernelspec": {
      "display_name": "Python 3",
      "language": "python",
      "name": "python3"
    }
  },
  "cells": [
    {
      "metadata": {
        "id": "nj14GUg_IJn5",
        "colab_type": "text"
      },
      "cell_type": "markdown",
      "source": [
        "# Params for Simple_RNN\n",
        "\n",
        "$params = cell\\times input\\_size + cell^2$\n",
        "\n",
        "$cell^2$ means cells are fullly connected to themselves   meaning?\n"
      ]
    },
    {
      "metadata": {
        "id": "g3B546nNeU1v",
        "colab_type": "code",
        "colab": {}
      },
      "cell_type": "code",
      "source": [
        "# colab.research.google.com\n",
        "import tensorflow as tf\n",
        "from tensorflow import keras\n",
        "from tensorflow.keras.layers import *\n",
        "import numpy as np\n",
        "\n",
        "'''\n",
        "# labs.cognitiveclass.ai\n",
        "import keras\n",
        "from keras.layers import *\n",
        "import numpy as np\n",
        "'''"
      ],
      "execution_count": 0,
      "outputs": []
    },
    {
      "metadata": {
        "id": "ehDDVwPJIJn9",
        "colab_type": "code",
        "colab": {
          "base_uri": "https://localhost:8080/",
          "height": 173
        },
        "outputId": "31384f07-8547-4073-8cfe-a9723f2b149d"
      },
      "cell_type": "code",
      "source": [
        "cell = 1\n",
        "input_size = 2\n",
        "time_steps = 1    \n",
        "\n",
        "model = keras.Sequential([\n",
        "        SimpleRNN(cell, activation='relu', use_bias=False, input_shape=(time_steps, input_size)),\n",
        "        #Dense(1, activation='relu', use_bias=False)    \n",
        "])\n",
        "model.summary()"
      ],
      "execution_count": 2,
      "outputs": [
        {
          "output_type": "stream",
          "text": [
            "_________________________________________________________________\n",
            "Layer (type)                 Output Shape              Param #   \n",
            "=================================================================\n",
            "simple_rnn (SimpleRNN)       (None, 1)                 3         \n",
            "=================================================================\n",
            "Total params: 3\n",
            "Trainable params: 3\n",
            "Non-trainable params: 0\n",
            "_________________________________________________________________\n"
          ],
          "name": "stdout"
        }
      ]
    },
    {
      "metadata": {
        "id": "-uJEFh0zeaWR",
        "colab_type": "code",
        "colab": {
          "base_uri": "https://localhost:8080/",
          "height": 52
        },
        "outputId": "4e9258a9-03e2-4c33-bbf0-08e58f9ec513"
      },
      "cell_type": "code",
      "source": [
        "model.get_weights()"
      ],
      "execution_count": 3,
      "outputs": [
        {
          "output_type": "execute_result",
          "data": {
            "text/plain": [
              "[array([[ 1.3357459],\n",
              "        [-0.429412 ]], dtype=float32), array([[-1.]], dtype=float32)]"
            ]
          },
          "metadata": {
            "tags": []
          },
          "execution_count": 3
        }
      ]
    },
    {
      "metadata": {
        "id": "5BT3rcR7SCna",
        "colab_type": "code",
        "colab": {}
      },
      "cell_type": "code",
      "source": [
        "model.set_weights([[[2],[3]],[[5]]])"
      ],
      "execution_count": 0,
      "outputs": []
    },
    {
      "metadata": {
        "id": "HdpRxMWKIJoC",
        "colab_type": "code",
        "colab": {
          "base_uri": "https://localhost:8080/",
          "height": 34
        },
        "outputId": "d5a0c443-0035-40c0-9eef-6927bf35a3a1"
      },
      "cell_type": "code",
      "source": [
        "x = np.array([1, 0])\n",
        "x = x.reshape(1,1,2)\n",
        "model.predict(x)"
      ],
      "execution_count": 5,
      "outputs": [
        {
          "output_type": "execute_result",
          "data": {
            "text/plain": [
              "array([[2.]], dtype=float32)"
            ]
          },
          "metadata": {
            "tags": []
          },
          "execution_count": 5
        }
      ]
    },
    {
      "metadata": {
        "id": "jrtJJe5me3Kc",
        "colab_type": "text"
      },
      "cell_type": "markdown",
      "source": [
        "# 2 timesteps"
      ]
    },
    {
      "metadata": {
        "id": "yl5SufjKIJoF",
        "colab_type": "code",
        "colab": {
          "base_uri": "https://localhost:8080/",
          "height": 173
        },
        "outputId": "816bc85c-b0eb-4780-c3bb-2ce122e61ec8"
      },
      "cell_type": "code",
      "source": [
        "cell = 1\n",
        "input_size = 2\n",
        "time_steps = 2    \n",
        "\n",
        "model = keras.Sequential([\n",
        "        SimpleRNN(cell, activation='relu', use_bias=False, input_shape=(time_steps, input_size)),\n",
        "        #Dense(1, activation='relu', use_bias=False)    \n",
        "])\n",
        "model.summary()"
      ],
      "execution_count": 6,
      "outputs": [
        {
          "output_type": "stream",
          "text": [
            "_________________________________________________________________\n",
            "Layer (type)                 Output Shape              Param #   \n",
            "=================================================================\n",
            "simple_rnn_1 (SimpleRNN)     (None, 1)                 3         \n",
            "=================================================================\n",
            "Total params: 3\n",
            "Trainable params: 3\n",
            "Non-trainable params: 0\n",
            "_________________________________________________________________\n"
          ],
          "name": "stdout"
        }
      ]
    },
    {
      "metadata": {
        "id": "MaQCf9J6Ziyn",
        "colab_type": "code",
        "colab": {}
      },
      "cell_type": "code",
      "source": [
        "model.set_weights([[[2],[3]],[[5]]])"
      ],
      "execution_count": 0,
      "outputs": []
    },
    {
      "metadata": {
        "id": "KYKGGlZxer9s",
        "colab_type": "code",
        "colab": {
          "base_uri": "https://localhost:8080/",
          "height": 69
        },
        "outputId": "f393dcfb-130c-4793-d601-cd83bb0748f2"
      },
      "cell_type": "code",
      "source": [
        "x = np.array([1, 0, 0, 0])\n",
        "x = x.reshape(1,2,2)\n",
        "print(x)\n",
        "model.predict(x)"
      ],
      "execution_count": 8,
      "outputs": [
        {
          "output_type": "stream",
          "text": [
            "[[[1 0]\n",
            "  [0 0]]]\n"
          ],
          "name": "stdout"
        },
        {
          "output_type": "execute_result",
          "data": {
            "text/plain": [
              "array([[10.]], dtype=float32)"
            ]
          },
          "metadata": {
            "tags": []
          },
          "execution_count": 8
        }
      ]
    },
    {
      "metadata": {
        "id": "fNTgsMrIfHJn",
        "colab_type": "code",
        "colab": {
          "base_uri": "https://localhost:8080/",
          "height": 69
        },
        "outputId": "e7b1aa40-cc51-4709-dafd-1a7ca1046800"
      },
      "cell_type": "code",
      "source": [
        "x = np.array([1, 0, 1, 0])\n",
        "x = x.reshape(1,2,2)\n",
        "print(x)\n",
        "model.predict(x)"
      ],
      "execution_count": 9,
      "outputs": [
        {
          "output_type": "stream",
          "text": [
            "[[[1 0]\n",
            "  [1 0]]]\n"
          ],
          "name": "stdout"
        },
        {
          "output_type": "execute_result",
          "data": {
            "text/plain": [
              "array([[12.]], dtype=float32)"
            ]
          },
          "metadata": {
            "tags": []
          },
          "execution_count": 9
        }
      ]
    },
    {
      "metadata": {
        "id": "5wMpdQ3DfUOF",
        "colab_type": "code",
        "colab": {
          "base_uri": "https://localhost:8080/",
          "height": 69
        },
        "outputId": "ba09e165-a0c6-47b5-bc31-aaaf36e43e27"
      },
      "cell_type": "code",
      "source": [
        "x = np.array([1, 0, 0, 1])\n",
        "x = x.reshape(1,2,2)\n",
        "print(x)\n",
        "model.predict(x)"
      ],
      "execution_count": 10,
      "outputs": [
        {
          "output_type": "stream",
          "text": [
            "[[[1 0]\n",
            "  [0 1]]]\n"
          ],
          "name": "stdout"
        },
        {
          "output_type": "execute_result",
          "data": {
            "text/plain": [
              "array([[13.]], dtype=float32)"
            ]
          },
          "metadata": {
            "tags": []
          },
          "execution_count": 10
        }
      ]
    },
    {
      "metadata": {
        "id": "44CfKJgRfdgM",
        "colab_type": "text"
      },
      "cell_type": "markdown",
      "source": [
        "# 3 timesteps"
      ]
    },
    {
      "metadata": {
        "id": "-E3Qhk7cffKr",
        "colab_type": "code",
        "colab": {
          "base_uri": "https://localhost:8080/",
          "height": 173
        },
        "outputId": "caaca348-7c66-466b-b3c1-86f1b7bb06a7"
      },
      "cell_type": "code",
      "source": [
        "cell = 1\n",
        "input_size = 2\n",
        "time_steps = 3    \n",
        "\n",
        "model = keras.Sequential([\n",
        "        SimpleRNN(cell, activation='relu', use_bias=False, input_shape=(time_steps, input_size)),\n",
        "        #Dense(1, activation='relu', use_bias=False)    \n",
        "])\n",
        "model.summary()"
      ],
      "execution_count": 11,
      "outputs": [
        {
          "output_type": "stream",
          "text": [
            "_________________________________________________________________\n",
            "Layer (type)                 Output Shape              Param #   \n",
            "=================================================================\n",
            "simple_rnn_2 (SimpleRNN)     (None, 1)                 3         \n",
            "=================================================================\n",
            "Total params: 3\n",
            "Trainable params: 3\n",
            "Non-trainable params: 0\n",
            "_________________________________________________________________\n"
          ],
          "name": "stdout"
        }
      ]
    },
    {
      "metadata": {
        "id": "vnwMH4iGfrTv",
        "colab_type": "code",
        "colab": {}
      },
      "cell_type": "code",
      "source": [
        "model.set_weights([[[2],[3]],[[5]]])"
      ],
      "execution_count": 0,
      "outputs": []
    },
    {
      "metadata": {
        "id": "DpC5Zm4jfi9N",
        "colab_type": "code",
        "colab": {
          "base_uri": "https://localhost:8080/",
          "height": 86
        },
        "outputId": "4cc96302-ee6c-4cf7-c70e-159d8f7393bd"
      },
      "cell_type": "code",
      "source": [
        "x = np.array([1, 0, 0, 1, 7, 11])\n",
        "x = x.reshape(1,3,2)\n",
        "print(x)\n",
        "model.predict(x) == 2 * 7 + 3 * 11 + 5 * 13"
      ],
      "execution_count": 13,
      "outputs": [
        {
          "output_type": "stream",
          "text": [
            "[[[ 1  0]\n",
            "  [ 0  1]\n",
            "  [ 7 11]]]\n"
          ],
          "name": "stdout"
        },
        {
          "output_type": "execute_result",
          "data": {
            "text/plain": [
              "array([[ True]])"
            ]
          },
          "metadata": {
            "tags": []
          },
          "execution_count": 13
        }
      ]
    },
    {
      "metadata": {
        "id": "E1CTYaIUg7OB",
        "colab_type": "text"
      },
      "cell_type": "markdown",
      "source": [
        "# Add another example"
      ]
    },
    {
      "metadata": {
        "id": "7QS9-cF0g9zd",
        "colab_type": "code",
        "colab": {
          "base_uri": "https://localhost:8080/",
          "height": 173
        },
        "outputId": "0a2e776f-b689-43b7-97c3-6d4a2ef3b4c8"
      },
      "cell_type": "code",
      "source": [
        "x = np.array([1, 0, 0, 1, 7, 11, 1, 0, 0, 1, 7, 11])\n",
        "x = x.reshape(2,3,2)\n",
        "print(x)\n",
        "model.predict(x) == 2 * 7 + 3 * 11 + 5 * 13"
      ],
      "execution_count": 14,
      "outputs": [
        {
          "output_type": "stream",
          "text": [
            "[[[ 1  0]\n",
            "  [ 0  1]\n",
            "  [ 7 11]]\n",
            "\n",
            " [[ 1  0]\n",
            "  [ 0  1]\n",
            "  [ 7 11]]]\n"
          ],
          "name": "stdout"
        },
        {
          "output_type": "execute_result",
          "data": {
            "text/plain": [
              "array([[ True],\n",
              "       [ True]])"
            ]
          },
          "metadata": {
            "tags": []
          },
          "execution_count": 14
        }
      ]
    },
    {
      "metadata": {
        "id": "sDdCJYo7FU9x",
        "colab_type": "text"
      },
      "cell_type": "markdown",
      "source": [
        "# Prepare Training Data"
      ]
    },
    {
      "metadata": {
        "id": "2M99I2BMqVa7",
        "colab_type": "code",
        "colab": {
          "base_uri": "https://localhost:8080/",
          "height": 69
        },
        "outputId": "a9c2e093-2208-48cc-9c2b-14f59e297281"
      },
      "cell_type": "code",
      "source": [
        "def get_bit(n, bit):\n",
        "    a = []\n",
        "    for i in range(bit):\n",
        "        a.append(n & 1)\n",
        "        n >>= 1\n",
        "    return a\n",
        "  \n",
        "for i in range(3):\n",
        "    print(get_bit(i, 8))"
      ],
      "execution_count": 15,
      "outputs": [
        {
          "output_type": "stream",
          "text": [
            "[0, 0, 0, 0, 0, 0, 0, 0]\n",
            "[1, 0, 0, 0, 0, 0, 0, 0]\n",
            "[0, 1, 0, 0, 0, 0, 0, 0]\n"
          ],
          "name": "stdout"
        }
      ]
    },
    {
      "metadata": {
        "id": "sVict41CGJkp",
        "colab_type": "code",
        "colab": {}
      },
      "cell_type": "code",
      "source": [
        "time_steps = 8\n",
        "\n",
        "x = []\n",
        "y = []\n",
        "for i in range(2**time_steps):\n",
        "    for j in range(2**time_steps):\n",
        "        i_b = get_bit(i, time_steps)\n",
        "        j_b = get_bit(j, time_steps)\n",
        "        x.append([[i_b[i], j_b[i]] for i in range(time_steps)])\n",
        "        y.append([get_bit(i+j, 8)[-1]])\n",
        "    "
      ],
      "execution_count": 0,
      "outputs": []
    },
    {
      "metadata": {
        "id": "5O9ZdCXFgv8i",
        "colab_type": "code",
        "colab": {
          "base_uri": "https://localhost:8080/",
          "height": 52
        },
        "outputId": "fb885bdf-8999-4ac1-9019-25cdfc72e61f"
      },
      "cell_type": "code",
      "source": [
        "i = 256*128#256*11 + 5 # 256*3 + 5\n",
        "print(x[i])\n",
        "print(y[i])"
      ],
      "execution_count": 17,
      "outputs": [
        {
          "output_type": "stream",
          "text": [
            "[[0, 0], [0, 0], [0, 0], [0, 0], [0, 0], [0, 0], [0, 0], [1, 0]]\n",
            "[1]\n"
          ],
          "name": "stdout"
        }
      ]
    },
    {
      "metadata": {
        "id": "l6jlu3lwLNTM",
        "colab_type": "code",
        "colab": {}
      },
      "cell_type": "code",
      "source": [
        "#for i in range(len(x)):\n",
        "#  print(x[i], y[i])"
      ],
      "execution_count": 0,
      "outputs": []
    },
    {
      "metadata": {
        "id": "SaXWeduuLhWO",
        "colab_type": "code",
        "colab": {
          "base_uri": "https://localhost:8080/",
          "height": 34
        },
        "outputId": "065c7e4e-0df1-461b-e82c-e36ea768bda0"
      },
      "cell_type": "code",
      "source": [
        "import numpy as np\n",
        "\n",
        "x = np.array(x)\n",
        "x.shape"
      ],
      "execution_count": 19,
      "outputs": [
        {
          "output_type": "execute_result",
          "data": {
            "text/plain": [
              "(65536, 8, 2)"
            ]
          },
          "metadata": {
            "tags": []
          },
          "execution_count": 19
        }
      ]
    },
    {
      "metadata": {
        "id": "VWuM0_izM54I",
        "colab_type": "code",
        "colab": {
          "base_uri": "https://localhost:8080/",
          "height": 34
        },
        "outputId": "5dba4178-1d14-4ed7-fbf3-b0f32de053fd"
      },
      "cell_type": "code",
      "source": [
        "y = np.array(y)\n",
        "y.shape"
      ],
      "execution_count": 20,
      "outputs": [
        {
          "output_type": "execute_result",
          "data": {
            "text/plain": [
              "(65536, 1)"
            ]
          },
          "metadata": {
            "tags": []
          },
          "execution_count": 20
        }
      ]
    },
    {
      "metadata": {
        "id": "vqhytUJVNFCz",
        "colab_type": "text"
      },
      "cell_type": "markdown",
      "source": [
        "# Train"
      ]
    },
    {
      "metadata": {
        "id": "hAGB0b4oNBgI",
        "colab_type": "code",
        "colab": {
          "base_uri": "https://localhost:8080/",
          "height": 207
        },
        "outputId": "56948028-be23-42c9-b627-70bfb8a1e972"
      },
      "cell_type": "code",
      "source": [
        "cell = 8\n",
        "input_size = 2\n",
        "time_steps = 8    \n",
        "\n",
        "model = keras.Sequential([\n",
        "        SimpleRNN(cell, activation='relu', use_bias=False, input_shape=(time_steps, input_size)),\n",
        "        #LSTM(cell, activation='relu', use_bias=False, input_shape=(time_steps, input_size)),\n",
        "        Dense(1, activation='relu', use_bias=False)    \n",
        "])\n",
        "model.summary()"
      ],
      "execution_count": 21,
      "outputs": [
        {
          "output_type": "stream",
          "text": [
            "_________________________________________________________________\n",
            "Layer (type)                 Output Shape              Param #   \n",
            "=================================================================\n",
            "simple_rnn_3 (SimpleRNN)     (None, 8)                 80        \n",
            "_________________________________________________________________\n",
            "dense (Dense)                (None, 1)                 8         \n",
            "=================================================================\n",
            "Total params: 88\n",
            "Trainable params: 88\n",
            "Non-trainable params: 0\n",
            "_________________________________________________________________\n"
          ],
          "name": "stdout"
        }
      ]
    },
    {
      "metadata": {
        "id": "zav8_lqVNfvD",
        "colab_type": "code",
        "colab": {}
      },
      "cell_type": "code",
      "source": [
        "model.compile(optimizer='adam', # tf.keras.optimizers.SGD(lr=0.01),\n",
        "              loss='binary_crossentropy',\n",
        "              metrics=['accuracy'])"
      ],
      "execution_count": 0,
      "outputs": []
    },
    {
      "metadata": {
        "id": "2XhaP-FkNjdH",
        "colab_type": "code",
        "colab": {
          "base_uri": "https://localhost:8080/",
          "height": 380
        },
        "outputId": "bd79da45-8dfc-4971-9197-64c33c9ad90f"
      },
      "cell_type": "code",
      "source": [
        "model.fit(x, y, epochs=10)    # training in colab is 4x faster than my PC!?!"
      ],
      "execution_count": 23,
      "outputs": [
        {
          "output_type": "stream",
          "text": [
            "Epoch 1/10\n",
            "65536/65536 [==============================] - 4s 62us/step - loss: 1.3914 - acc: 0.4340\n",
            "Epoch 2/10\n",
            "65536/65536 [==============================] - 4s 55us/step - loss: 0.7431 - acc: 0.4791\n",
            "Epoch 3/10\n",
            "65536/65536 [==============================] - 4s 55us/step - loss: 0.5767 - acc: 0.6282\n",
            "Epoch 4/10\n",
            "65536/65536 [==============================] - 4s 55us/step - loss: 0.3704 - acc: 0.8617\n",
            "Epoch 5/10\n",
            "65536/65536 [==============================] - 4s 55us/step - loss: 0.0745 - acc: 0.9845\n",
            "Epoch 6/10\n",
            "65536/65536 [==============================] - 4s 54us/step - loss: 0.0027 - acc: 1.0000\n",
            "Epoch 7/10\n",
            "65536/65536 [==============================] - 4s 55us/step - loss: 1.3837e-04 - acc: 1.0000\n",
            "Epoch 8/10\n",
            "65536/65536 [==============================] - 4s 56us/step - loss: 3.3025e-05 - acc: 1.0000\n",
            "Epoch 9/10\n",
            "65536/65536 [==============================] - 4s 56us/step - loss: 3.7986e-05 - acc: 1.0000\n",
            "Epoch 10/10\n",
            "65536/65536 [==============================] - 4s 55us/step - loss: 8.7531e-06 - acc: 1.0000\n"
          ],
          "name": "stdout"
        },
        {
          "output_type": "execute_result",
          "data": {
            "text/plain": [
              "<tensorflow.python.keras.callbacks.History at 0x7f25609adeb8>"
            ]
          },
          "metadata": {
            "tags": []
          },
          "execution_count": 23
        }
      ]
    },
    {
      "metadata": {
        "id": "tQUX0HR1rytu",
        "colab_type": "code",
        "colab": {
          "base_uri": "https://localhost:8080/",
          "height": 34
        },
        "outputId": "4fe1108b-c53c-4ba4-ce18-98b31a0aa9e2"
      },
      "cell_type": "code",
      "source": [
        "a = model.predict_classes(x)\n",
        "all(a == y)"
      ],
      "execution_count": 24,
      "outputs": [
        {
          "output_type": "execute_result",
          "data": {
            "text/plain": [
              "True"
            ]
          },
          "metadata": {
            "tags": []
          },
          "execution_count": 24
        }
      ]
    },
    {
      "metadata": {
        "id": "xgOTQo8hV8xn",
        "colab_type": "code",
        "colab": {}
      },
      "cell_type": "code",
      "source": [
        "def add(a, b):\n",
        "  bit = max(a.bit_length(), b.bit_length()) + 1\n",
        "\n",
        "  a = get_bit(a, bit)\n",
        "  b = get_bit(b, bit)\n",
        "  c = [[0,0] for i in range(7)]\n",
        "  \n",
        "  result = []\n",
        "  for i in range(bit):\n",
        "    c.append([a[i], b[i]])\n",
        "    x = np.array(c)\n",
        "    x = x.reshape(1,8,2)\n",
        "    y = model.predict_classes(x)[0][0]\n",
        "    result.append(y)\n",
        "    c = c[1:]\n",
        "    assert y == 0 or y == 1, y\n",
        "    assert len(c) == 7\n",
        "\n",
        "  r = 0\n",
        "  for i in reversed(result):\n",
        "    r <<= 1\n",
        "    r += int(i)\n",
        "  return r"
      ],
      "execution_count": 0,
      "outputs": []
    },
    {
      "metadata": {
        "id": "upEVVvEBDf7X",
        "colab_type": "code",
        "colab": {
          "base_uri": "https://localhost:8080/",
          "height": 104
        },
        "outputId": "52e642f3-1068-415c-d801-965d0babe034"
      },
      "cell_type": "code",
      "source": [
        "print(add(0,0))\n",
        "print(add(0,1))\n",
        "print(add(1,0))\n",
        "print(add(1,1))\n",
        "print(add(1234567812345678,8765432187654321))"
      ],
      "execution_count": 33,
      "outputs": [
        {
          "output_type": "stream",
          "text": [
            "0\n",
            "1\n",
            "1\n",
            "2\n",
            "9999999999999999\n"
          ],
          "name": "stdout"
        }
      ]
    },
    {
      "metadata": {
        "id": "jqEUkvuc3zaa",
        "colab_type": "code",
        "colab": {
          "base_uri": "https://localhost:8080/",
          "height": 190
        },
        "outputId": "388fe915-ef22-4fe5-c42b-396128917c2e"
      },
      "cell_type": "code",
      "source": [
        "import random\n",
        "\n",
        "# there are some errors due to no carry bit\n",
        "for i in range(10):\n",
        "  a = random.getrandbits(128)\n",
        "  b = random.getrandbits(128)\n",
        "  r = add(a, b)\n",
        "  if r != a + b:\n",
        "    print('x', a, b, r)\n",
        "  else:\n",
        "    print('o', a, b, r)"
      ],
      "execution_count": 34,
      "outputs": [
        {
          "output_type": "stream",
          "text": [
            "o 259282831300135068981371319005529531294 79504777755290544244469175521251298585 338787609055425613225840494526780829879\n",
            "x 197988367563467979405760615468320721522 73924822643355974019059526480379902351 271913190206823953424820141948700623361\n",
            "o 56113787733831585266392060346988265062 24156440481792064250946725018471923852 80270228215623649517338785365460188914\n",
            "o 127052996698209027309732136654439786246 324111033920428099453743665024420148424 451164030618637126763475801678859934670\n",
            "x 40108008484855863954290620318384311039 187672941798042752541814643606179255031 227780950282898616496105263924496457206\n",
            "o 242390294915243331110714829992880596314 207487034073301027568580120715521099664 449877328988544358679294950708401695978\n",
            "x 149959977286226242532151911385338078847 43492134506682605816109317854000521586 193452101651704046522426017265712957425\n",
            "o 265451000625497420634163825293557595459 67760954602212774012330608484730954367 333211955227710194646494433778288549826\n",
            "o 209527009907326260553662467706838282111 286193996933608026413804374083279036444 495721006840934286967466841790117318555\n",
            "o 226935438080274562926439800565904784399 154400301486574701103856689153834059743 381335739566849264030296489719738844142\n"
          ],
          "name": "stdout"
        }
      ]
    },
    {
      "metadata": {
        "id": "HPSG8ZvvCVqV",
        "colab_type": "code",
        "colab": {}
      },
      "cell_type": "code",
      "source": [
        ""
      ],
      "execution_count": 0,
      "outputs": []
    }
  ]
}
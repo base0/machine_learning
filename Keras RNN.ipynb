{
  "nbformat": 4,
  "nbformat_minor": 0,
  "metadata": {
    "colab": {
      "name": "Keras RNN.ipynb",
      "provenance": [],
      "collapsed_sections": []
    },
    "kernelspec": {
      "display_name": "Python 3",
      "language": "python",
      "name": "python3"
    }
  },
  "cells": [
    {
      "cell_type": "markdown",
      "metadata": {
        "id": "nj14GUg_IJn5",
        "colab_type": "text"
      },
      "source": [
        "# Params for Simple_RNN\n",
        "\n",
        "$params = cell\\times input\\_size + cell^2$\n",
        "\n",
        "$cell^2$ means cells are fullly connected to themselves\n"
      ]
    },
    {
      "cell_type": "code",
      "metadata": {
        "id": "QdvTvWRxfX_v",
        "colab_type": "code",
        "colab": {}
      },
      "source": [
        "%tensorflow_version 1.x"
      ],
      "execution_count": 0,
      "outputs": []
    },
    {
      "cell_type": "code",
      "metadata": {
        "id": "g3B546nNeU1v",
        "colab_type": "code",
        "colab": {}
      },
      "source": [
        "# colab.research.google.com\n",
        "import tensorflow as tf\n",
        "from tensorflow import keras\n",
        "from tensorflow.keras.layers import *\n",
        "import numpy as np"
      ],
      "execution_count": 0,
      "outputs": []
    },
    {
      "cell_type": "code",
      "metadata": {
        "id": "1GGKVDoovyCn",
        "colab_type": "code",
        "colab": {}
      },
      "source": [
        "def to_npa_list(a):\n",
        "  return [np.array(i) for i in a]"
      ],
      "execution_count": 0,
      "outputs": []
    },
    {
      "cell_type": "markdown",
      "metadata": {
        "id": "rZIUp_Y0T5Q2",
        "colab_type": "text"
      },
      "source": [
        "# 1 timestep"
      ]
    },
    {
      "cell_type": "code",
      "metadata": {
        "id": "ehDDVwPJIJn9",
        "colab_type": "code",
        "colab": {}
      },
      "source": [
        "cell = 1\n",
        "input_size = 2\n",
        "time_steps = 1    \n",
        "\n",
        "model = keras.Sequential([\n",
        "        SimpleRNN(cell, activation='relu', use_bias=False, input_shape=(time_steps, input_size)),\n",
        "        #Dense(1, activation='relu', use_bias=False)    \n",
        "])\n",
        "model.summary()"
      ],
      "execution_count": 0,
      "outputs": []
    },
    {
      "cell_type": "code",
      "metadata": {
        "id": "-uJEFh0zeaWR",
        "colab_type": "code",
        "colab": {}
      },
      "source": [
        "model.get_weights()"
      ],
      "execution_count": 0,
      "outputs": []
    },
    {
      "cell_type": "code",
      "metadata": {
        "id": "2RJVEio8twsi",
        "colab_type": "code",
        "colab": {}
      },
      "source": [
        "model.set_weights(to_npa_list([[[2],[3]],[[5]]]))"
      ],
      "execution_count": 0,
      "outputs": []
    },
    {
      "cell_type": "code",
      "metadata": {
        "id": "HdpRxMWKIJoC",
        "colab_type": "code",
        "colab": {}
      },
      "source": [
        "x = np.array([1, 0])\n",
        "x = x.reshape(1,1,2)\n",
        "model.predict(x)"
      ],
      "execution_count": 0,
      "outputs": []
    },
    {
      "cell_type": "markdown",
      "metadata": {
        "id": "jrtJJe5me3Kc",
        "colab_type": "text"
      },
      "source": [
        "# 2 timesteps"
      ]
    },
    {
      "cell_type": "code",
      "metadata": {
        "id": "yl5SufjKIJoF",
        "colab_type": "code",
        "outputId": "fe036387-96e0-46f5-877c-0b936a274894",
        "colab": {
          "base_uri": "https://localhost:8080/",
          "height": 266
        }
      },
      "source": [
        "cell = 1\n",
        "input_size = 2\n",
        "time_steps = 2    \n",
        "\n",
        "model = keras.Sequential([\n",
        "        SimpleRNN(cell, activation='relu', use_bias=False, input_shape=(time_steps, input_size)),   \n",
        "])\n",
        "model.summary()"
      ],
      "execution_count": 0,
      "outputs": [
        {
          "output_type": "stream",
          "text": [
            "WARNING:tensorflow:From /usr/local/lib/python3.6/dist-packages/tensorflow_core/python/ops/resource_variable_ops.py:1630: calling BaseResourceVariable.__init__ (from tensorflow.python.ops.resource_variable_ops) with constraint is deprecated and will be removed in a future version.\n",
            "Instructions for updating:\n",
            "If using Keras pass *_constraint arguments to layers.\n",
            "Model: \"sequential\"\n",
            "_________________________________________________________________\n",
            "Layer (type)                 Output Shape              Param #   \n",
            "=================================================================\n",
            "simple_rnn (SimpleRNN)       (None, 1)                 3         \n",
            "=================================================================\n",
            "Total params: 3\n",
            "Trainable params: 3\n",
            "Non-trainable params: 0\n",
            "_________________________________________________________________\n"
          ],
          "name": "stdout"
        }
      ]
    },
    {
      "cell_type": "code",
      "metadata": {
        "id": "MaQCf9J6Ziyn",
        "colab_type": "code",
        "colab": {}
      },
      "source": [
        "model.set_weights(to_npa_list([[[2],[3]],[[5]]]))"
      ],
      "execution_count": 0,
      "outputs": []
    },
    {
      "cell_type": "code",
      "metadata": {
        "id": "KYKGGlZxer9s",
        "colab_type": "code",
        "outputId": "92ea914c-e8a6-48ca-a5f5-63607acaee03",
        "colab": {
          "base_uri": "https://localhost:8080/",
          "height": 34
        }
      },
      "source": [
        "x = np.array([1, 0, 0, 0])\n",
        "x = x.reshape(1,2,2)\n",
        "model.predict(x)"
      ],
      "execution_count": 0,
      "outputs": [
        {
          "output_type": "execute_result",
          "data": {
            "text/plain": [
              "array([[10.]], dtype=float32)"
            ]
          },
          "metadata": {
            "tags": []
          },
          "execution_count": 6
        }
      ]
    },
    {
      "cell_type": "code",
      "metadata": {
        "id": "fNTgsMrIfHJn",
        "colab_type": "code",
        "colab": {}
      },
      "source": [
        "x = np.array([1, 0, 1, 0])\n",
        "x = x.reshape(1,2,2)\n",
        "print(x)\n",
        "model.predict(x)"
      ],
      "execution_count": 0,
      "outputs": []
    },
    {
      "cell_type": "code",
      "metadata": {
        "id": "5wMpdQ3DfUOF",
        "colab_type": "code",
        "colab": {}
      },
      "source": [
        "x = np.array([1, 0, 0, 1])\n",
        "x = x.reshape(1,2,2)\n",
        "print(x)\n",
        "model.predict(x)"
      ],
      "execution_count": 0,
      "outputs": []
    },
    {
      "cell_type": "markdown",
      "metadata": {
        "id": "44CfKJgRfdgM",
        "colab_type": "text"
      },
      "source": [
        "# 3 timesteps"
      ]
    },
    {
      "cell_type": "code",
      "metadata": {
        "id": "-E3Qhk7cffKr",
        "colab_type": "code",
        "colab": {}
      },
      "source": [
        "cell = 1\n",
        "input_size = 2\n",
        "time_steps = 3    \n",
        "\n",
        "model = keras.Sequential([\n",
        "        SimpleRNN(cell, activation='relu', use_bias=False, input_shape=(time_steps, input_size)),\n",
        "        #Dense(1, activation='relu', use_bias=False)    \n",
        "])\n",
        "model.summary()"
      ],
      "execution_count": 0,
      "outputs": []
    },
    {
      "cell_type": "code",
      "metadata": {
        "id": "vnwMH4iGfrTv",
        "colab_type": "code",
        "colab": {}
      },
      "source": [
        "model.set_weights(to_npa_list([[[2],[3]],[[5]]]))"
      ],
      "execution_count": 0,
      "outputs": []
    },
    {
      "cell_type": "code",
      "metadata": {
        "id": "DpC5Zm4jfi9N",
        "colab_type": "code",
        "colab": {}
      },
      "source": [
        "x = np.array([1, 0, 0, 1, 7, 11])\n",
        "x = x.reshape(1,3,2)\n",
        "print(x)\n",
        "model.predict(x) == 2 * 7 + 3 * 11 + 5 * 13"
      ],
      "execution_count": 0,
      "outputs": []
    }
  ]
}
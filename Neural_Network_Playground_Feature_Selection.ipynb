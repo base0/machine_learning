{
  "nbformat": 4,
  "nbformat_minor": 0,
  "metadata": {
    "colab": {
      "name": "Neural Network Playground - Feature Selection.ipynb",
      "version": "0.3.2",
      "provenance": []
    },
    "kernelspec": {
      "name": "python3",
      "display_name": "Python 3"
    }
  },
  "cells": [
    {
      "metadata": {
        "id": "2aavavvlW4Tv",
        "colab_type": "text"
      },
      "cell_type": "markdown",
      "source": [
        "# Neural Network Playground - Feature Selection"
      ]
    },
    {
      "metadata": {
        "id": "ZJMJFchlSHWN",
        "colab_type": "code",
        "colab": {}
      },
      "cell_type": "code",
      "source": [
        "import tensorflow \n",
        "from tensorflow import keras\n",
        "from tensorflow.keras import *\n",
        "from tensorflow.keras.layers import *\n",
        "\n",
        "import numpy as np\n",
        "import matplotlib.pyplot as plt"
      ],
      "execution_count": 0,
      "outputs": []
    },
    {
      "metadata": {
        "id": "nPzn8L1ISIrv",
        "colab_type": "code",
        "colab": {
          "base_uri": "https://localhost:8080/",
          "height": 188
        },
        "outputId": "056feeb4-679b-4406-9623-958c16a9a878"
      },
      "cell_type": "code",
      "source": [
        "model = Sequential([\n",
        "    Dense(1, activation='linear', input_shape=(2,), use_bias=False),\n",
        "])\n",
        "model.summary()"
      ],
      "execution_count": 2,
      "outputs": [
        {
          "output_type": "stream",
          "text": [
            "_________________________________________________________________\n",
            "Layer (type)                 Output Shape              Param #   \n",
            "=================================================================\n",
            "dense (Dense)                (None, 1)                 2         \n",
            "=================================================================\n",
            "Total params: 2\n",
            "Trainable params: 2\n",
            "Non-trainable params: 0\n",
            "_________________________________________________________________\n"
          ],
          "name": "stdout"
        }
      ]
    },
    {
      "metadata": {
        "id": "oS1HCjT3V8WB",
        "colab_type": "code",
        "colab": {
          "base_uri": "https://localhost:8080/",
          "height": 55
        },
        "outputId": "3a9873fc-5d1d-451e-99c8-bb4ee92241ea"
      },
      "cell_type": "code",
      "source": [
        "model.get_weights()"
      ],
      "execution_count": 3,
      "outputs": [
        {
          "output_type": "execute_result",
          "data": {
            "text/plain": [
              "[array([[0.41296363],\n",
              "        [0.08047962]], dtype=float32)]"
            ]
          },
          "metadata": {
            "tags": []
          },
          "execution_count": 3
        }
      ]
    },
    {
      "metadata": {
        "id": "aZsb5aKjS1T6",
        "colab_type": "code",
        "colab": {}
      },
      "cell_type": "code",
      "source": [
        "a = np.array([2,3])\n",
        "a = a.reshape(1,2,1)\n",
        "\n",
        "model.set_weights(a)"
      ],
      "execution_count": 0,
      "outputs": []
    },
    {
      "metadata": {
        "id": "98vt8T90TCXC",
        "colab_type": "code",
        "colab": {
          "base_uri": "https://localhost:8080/",
          "height": 36
        },
        "outputId": "56edbb29-a98b-49ba-e080-72927563daca"
      },
      "cell_type": "code",
      "source": [
        "a = np.array([4,5])\n",
        "a = a.reshape(1,2)\n",
        "\n",
        "model.predict(a)"
      ],
      "execution_count": 5,
      "outputs": [
        {
          "output_type": "execute_result",
          "data": {
            "text/plain": [
              "array([[23.]], dtype=float32)"
            ]
          },
          "metadata": {
            "tags": []
          },
          "execution_count": 5
        }
      ]
    },
    {
      "metadata": {
        "id": "o92WOr17ZwtG",
        "colab_type": "text"
      },
      "cell_type": "markdown",
      "source": [
        "# Prepare Data"
      ]
    },
    {
      "metadata": {
        "id": "0FElPx0_VmdP",
        "colab_type": "code",
        "colab": {
          "base_uri": "https://localhost:8080/",
          "height": 339
        },
        "outputId": "e7ffc5ab-175b-4015-be3f-7d88af77c572"
      },
      "cell_type": "code",
      "source": [
        "outer = 0.5\n",
        "x = np.linspace(-outer, outer, 500)\n",
        "y = np.sqrt(outer**2 - x**2)\n",
        "x = np.append(x, x)\n",
        "y = np.append(y, -y)\n",
        "label = np.ones(len(x))\n",
        "\n",
        "plt.figure(figsize=(5,5))\n",
        "plt.scatter(x, y)"
      ],
      "execution_count": 6,
      "outputs": [
        {
          "output_type": "execute_result",
          "data": {
            "text/plain": [
              "<matplotlib.collections.PathCollection at 0x7fe38a563080>"
            ]
          },
          "metadata": {
            "tags": []
          },
          "execution_count": 6
        },
        {
          "output_type": "display_data",
          "data": {
            "image/png": "[encoded data removed]",
            "text/plain": [
              "<matplotlib.figure.Figure at 0x7fe39cc66f60>"
            ]
          },
          "metadata": {
            "tags": []
          }
        }
      ]
    },
    {
      "metadata": {
        "id": "sjdWX74mZmlg",
        "colab_type": "code",
        "colab": {}
      },
      "cell_type": "code",
      "source": [
        "x0 = x\n",
        "y0 = y\n",
        "label0 = label"
      ],
      "execution_count": 0,
      "outputs": []
    },
    {
      "metadata": {
        "id": "dgktGN29X2US",
        "colab_type": "code",
        "colab": {
          "base_uri": "https://localhost:8080/",
          "height": 339
        },
        "outputId": "15072ab1-60d9-4692-f61c-4777e7d34ed5"
      },
      "cell_type": "code",
      "source": [
        "inner = 0.2\n",
        "x = np.linspace(-inner, inner, 500)\n",
        "y = np.sqrt(inner**2 - x**2)\n",
        "x = np.append(x, x)\n",
        "y = np.append(y, -y)\n",
        "label = np.zeros(len(x))\n",
        "\n",
        "x = np.append(x, x0)\n",
        "y = np.append(y, y0)\n",
        "label = np.append(label, label0)\n",
        "\n",
        "plt.figure(figsize=(5,5))\n",
        "plt.scatter(x, y, c=label)"
      ],
      "execution_count": 8,
      "outputs": [
        {
          "output_type": "execute_result",
          "data": {
            "text/plain": [
              "<matplotlib.collections.PathCollection at 0x7fe3884e5fd0>"
            ]
          },
          "metadata": {
            "tags": []
          },
          "execution_count": 8
        },
        {
          "output_type": "display_data",
          "data": {
            "image/png": "[encoded data removed]",
            "text/plain": [
              "<matplotlib.figure.Figure at 0x7fe39cc80128>"
            ]
          },
          "metadata": {
            "tags": []
          }
        }
      ]
    },
    {
      "metadata": {
        "id": "3pWi1wkoalzT",
        "colab_type": "text"
      },
      "cell_type": "markdown",
      "source": [
        "# Train"
      ]
    },
    {
      "metadata": {
        "id": "gfR5woHAZZmi",
        "colab_type": "code",
        "colab": {}
      },
      "cell_type": "code",
      "source": [
        "model.compile(\n",
        "    optimizer='adam',\n",
        "    loss='binary_crossentropy',\n",
        "    metrics=['accuracy'],\n",
        ")"
      ],
      "execution_count": 0,
      "outputs": []
    },
    {
      "metadata": {
        "id": "q9ovtAe8lZh5",
        "colab_type": "code",
        "colab": {
          "base_uri": "https://localhost:8080/",
          "height": 226
        },
        "outputId": "4cc2e311-610c-4f50-c5e3-85f75f90b7d7"
      },
      "cell_type": "code",
      "source": [
        "data = np.column_stack([x, y])\n",
        "\n",
        "model.fit(data, label, epochs=5)"
      ],
      "execution_count": 10,
      "outputs": [
        {
          "output_type": "stream",
          "text": [
            "Epoch 1/5\n",
            "2000/2000 [==============================] - 0s 207us/step - loss: 4.2981 - acc: 0.5625\n",
            "Epoch 2/5\n",
            "2000/2000 [==============================] - 0s 57us/step - loss: 4.2971 - acc: 0.5625\n",
            "Epoch 3/5\n",
            "2000/2000 [==============================] - 0s 63us/step - loss: 4.2965 - acc: 0.5630\n",
            "Epoch 4/5\n",
            "2000/2000 [==============================] - 0s 66us/step - loss: 4.2960 - acc: 0.5630\n",
            "Epoch 5/5\n",
            "2000/2000 [==============================] - 0s 59us/step - loss: 4.2954 - acc: 0.5635\n"
          ],
          "name": "stdout"
        },
        {
          "output_type": "execute_result",
          "data": {
            "text/plain": [
              "<tensorflow.python.keras.callbacks.History at 0x7fe38a59f6a0>"
            ]
          },
          "metadata": {
            "tags": []
          },
          "execution_count": 10
        }
      ]
    },
    {
      "metadata": {
        "id": "ZA9E6viytICd",
        "colab_type": "code",
        "colab": {
          "base_uri": "https://localhost:8080/",
          "height": 226
        },
        "outputId": "cef4125b-9dbb-4661-ac36-0c523951bced"
      },
      "cell_type": "code",
      "source": [
        "data = np.column_stack([x**2, y**2])\n",
        "\n",
        "model.history.history.clear()\n",
        "\n",
        "model.fit(data, label, epochs=5)"
      ],
      "execution_count": 11,
      "outputs": [
        {
          "output_type": "stream",
          "text": [
            "Epoch 1/5\n",
            "2000/2000 [==============================] - 0s 60us/step - loss: 0.2687 - acc: 0.9905\n",
            "Epoch 2/5\n",
            "2000/2000 [==============================] - 0s 59us/step - loss: 0.2664 - acc: 0.9920\n",
            "Epoch 3/5\n",
            "2000/2000 [==============================] - 0s 62us/step - loss: 0.2639 - acc: 0.9940\n",
            "Epoch 4/5\n",
            "2000/2000 [==============================] - 0s 62us/step - loss: 0.2612 - acc: 0.9960\n",
            "Epoch 5/5\n",
            "2000/2000 [==============================] - 0s 57us/step - loss: 0.2583 - acc: 0.9980\n"
          ],
          "name": "stdout"
        },
        {
          "output_type": "execute_result",
          "data": {
            "text/plain": [
              "<tensorflow.python.keras.callbacks.History at 0x7fe39cc66dd8>"
            ]
          },
          "metadata": {
            "tags": []
          },
          "execution_count": 11
        }
      ]
    },
    {
      "metadata": {
        "id": "4_S2CnbLv9zm",
        "colab_type": "code",
        "colab": {
          "base_uri": "https://localhost:8080/",
          "height": 55
        },
        "outputId": "c8f74a20-5612-42eb-f4d0-d8f1d8a3b7aa"
      },
      "cell_type": "code",
      "source": [
        "model.get_weights()"
      ],
      "execution_count": 12,
      "outputs": [
        {
          "output_type": "execute_result",
          "data": {
            "text/plain": [
              "[array([[2.0033877],\n",
              "        [3.0549057]], dtype=float32)]"
            ]
          },
          "metadata": {
            "tags": []
          },
          "execution_count": 12
        }
      ]
    },
    {
      "metadata": {
        "id": "lhlhTyW5-9op",
        "colab_type": "code",
        "colab": {}
      },
      "cell_type": "code",
      "source": [
        ""
      ],
      "execution_count": 0,
      "outputs": []
    }
  ]
}
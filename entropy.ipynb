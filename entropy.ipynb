{
 "cells": [
  {
   "cell_type": "markdown",
   "metadata": {},
   "source": [
    "# Decision Tree"
   ]
  },
  {
   "cell_type": "markdown",
   "metadata": {},
   "source": [
    "# log"
   ]
  },
  {
   "cell_type": "code",
   "execution_count": 1,
   "metadata": {
    "collapsed": false
   },
   "outputs": [],
   "source": [
    "%matplotlib inline\n",
    "import numpy as np\n",
    "import matplotlib.pyplot as plt"
   ]
  },
  {
   "cell_type": "code",
   "execution_count": 2,
   "metadata": {
    "collapsed": false
   },
   "outputs": [
    {
     "name": "stderr",
     "output_type": "stream",
     "text": [
      "/home/jupyterlab/conda/lib/python3.6/site-packages/ipykernel_launcher.py:2: RuntimeWarning: divide by zero encountered in log2\n",
      "  \n"
     ]
    },
    {
     "data": {
      "text/plain": [
       "[<matplotlib.lines.Line2D at 0x7f56b88586d8>]"
      ]
     },
     "execution_count": 2,
     "metadata": {},
     "output_type": "execute_result"
    },
    {
     "data": {
      "image/png": "[encoded data removed]",
      "text/plain": [
       "<Figure size 432x288 with 1 Axes>"
      ]
     },
     "metadata": {
      "needs_background": "light"
     },
     "output_type": "display_data"
    }
   ],
   "source": [
    "x = np.arange(0, 1.05, 0.05)\n",
    "y = -np.log2(x)\n",
    "plt.plot(x, y)"
   ]
  },
  {
   "cell_type": "code",
   "execution_count": 3,
   "metadata": {
    "collapsed": false
   },
   "outputs": [
    {
     "name": "stderr",
     "output_type": "stream",
     "text": [
      "/home/jupyterlab/conda/lib/python3.6/site-packages/ipykernel_launcher.py:2: RuntimeWarning: divide by zero encountered in log2\n",
      "  \n"
     ]
    },
    {
     "data": {
      "text/plain": [
       "[<matplotlib.lines.Line2D at 0x7f56b87e6940>]"
      ]
     },
     "execution_count": 3,
     "metadata": {},
     "output_type": "execute_result"
    },
    {
     "data": {
      "image/png": "[encoded data removed]",
      "text/plain": [
       "<Figure size 432x288 with 1 Axes>"
      ]
     },
     "metadata": {
      "needs_background": "light"
     },
     "output_type": "display_data"
    }
   ],
   "source": [
    "x = np.arange(0, 1, 0.01)\n",
    "y = np.log2(x)\n",
    "plt.plot(x, y)"
   ]
  },
  {
   "cell_type": "markdown",
   "metadata": {},
   "source": [
    "# Entropy\n",
    "\n",
    "information => ถาม\n",
    "เฉลี่ยแล้วถามกี่ครั้งจึงจะได้คำตอบ\n",
    "\n",
    "ถ้ารู้แน่ๆ ก็ไม่ต้องถาม H = 0\n",
    "โอกาสครึ่งๆ ก็ถาม 1 คำถาม"
   ]
  },
  {
   "cell_type": "code",
   "execution_count": 4,
   "metadata": {},
   "outputs": [
    {
     "name": "stdout",
     "output_type": "stream",
     "text": [
      "      p   log_2 \n",
      "  0.200  -2.322 \n",
      "  0.333  -1.585 \n",
      "  0.500  -1.000 \n",
      "  0.667  -0.585 \n",
      "  0.800  -0.322 \n",
      "  1.000   0.000 \n"
     ]
    }
   ],
   "source": [
    "from math import log2\n",
    "P = [0.2, 1/3, 0.5, 2/3, 0.8, 1]\n",
    "s = '{:>7} ' * 2\n",
    "print(s.format('p', 'log_2'))\n",
    "s = s.replace('}', '.3f}')\n",
    "\n",
    "for p in P:\n",
    "    print(s.format(p, log2(p)))"
   ]
  },
  {
   "cell_type": "code",
   "execution_count": 5,
   "metadata": {
    "collapsed": false
   },
   "outputs": [],
   "source": [
    "'''\n",
    "from math import log2\n",
    "def entropy(a):\n",
    "    sum = 0\n",
    "    for p in a:\n",
    "        if p != 0:   # log2(0) ValueError: math domain error\n",
    "            sum -= p * log2(p)\n",
    "    return sum\n",
    "'''\n",
    "def entropy(p):\n",
    "    p = p[p != 0]   # filter\n",
    "    return (-p * np.log2(p)).sum()"
   ]
  },
  {
   "cell_type": "code",
   "execution_count": 6,
   "metadata": {
    "collapsed": false
   },
   "outputs": [
    {
     "data": {
      "text/plain": [
       "0.0"
      ]
     },
     "execution_count": 6,
     "metadata": {},
     "output_type": "execute_result"
    }
   ],
   "source": [
    "a = np.array([1, 0])\n",
    "entropy(a)"
   ]
  },
  {
   "cell_type": "code",
   "execution_count": 7,
   "metadata": {
    "collapsed": false
   },
   "outputs": [
    {
     "data": {
      "text/plain": [
       "1.0"
      ]
     },
     "execution_count": 7,
     "metadata": {},
     "output_type": "execute_result"
    }
   ],
   "source": [
    "a = np.array([0.5, 0.5])\n",
    "entropy(a)"
   ]
  },
  {
   "cell_type": "code",
   "execution_count": 8,
   "metadata": {},
   "outputs": [
    {
     "data": {
      "text/plain": [
       "2.584962500721156"
      ]
     },
     "execution_count": 8,
     "metadata": {},
     "output_type": "execute_result"
    }
   ],
   "source": [
    "a = np.array([1/6, 1/6, 1/6, 1/6, 1/6, 1/6])\n",
    "entropy(a)"
   ]
  },
  {
   "cell_type": "code",
   "execution_count": 9,
   "metadata": {},
   "outputs": [
    {
     "data": {
      "text/plain": [
       "2.1609640474436813"
      ]
     },
     "execution_count": 9,
     "metadata": {},
     "output_type": "execute_result"
    }
   ],
   "source": [
    "a = np.array([1/2, 1/10, 1/10, 1/10, 1/10, 1/10])\n",
    "entropy(a)"
   ]
  },
  {
   "cell_type": "code",
   "execution_count": 10,
   "metadata": {
    "collapsed": false
   },
   "outputs": [
    {
     "data": {
      "text/plain": [
       "0.0"
      ]
     },
     "metadata": {},
     "output_type": "display_data"
    },
    {
     "data": {
      "text/plain": [
       "<function __main__.f(p)>"
      ]
     },
     "execution_count": 10,
     "metadata": {},
     "output_type": "execute_result"
    }
   ],
   "source": [
    "from ipywidgets import interact\n",
    "\n",
    "def f(p): return entropy(np.array([p, 1-p]))\n",
    "\n",
    "interact(f, p=(0, 1, 0.1))"
   ]
  },
  {
   "cell_type": "code",
   "execution_count": 11,
   "metadata": {
    "collapsed": false
   },
   "outputs": [
    {
     "data": {
      "text/plain": [
       "[<matplotlib.lines.Line2D at 0x7f56b876c0b8>]"
      ]
     },
     "execution_count": 11,
     "metadata": {},
     "output_type": "execute_result"
    },
    {
     "data": {
      "image/png": "[encoded data removed]",
      "text/plain": [
       "<Figure size 432x288 with 1 Axes>"
      ]
     },
     "metadata": {
      "needs_background": "light"
     },
     "output_type": "display_data"
    }
   ],
   "source": [
    "x = np.linspace(0, 1, 20)\n",
    "s = np.stack((x,1-x), axis=1)  # create 2d array from two 1d array\n",
    "y = np.apply_along_axis(entropy, 1, s)   # want to use vectorize\n",
    "plt.plot(x, y)"
   ]
  },
  {
   "cell_type": "code",
   "execution_count": 12,
   "metadata": {},
   "outputs": [
    {
     "name": "stdout",
     "output_type": "stream",
     "text": [
      "      p     1-p entropy \n",
      "  0.500   0.500   1.000 \n",
      "  0.333   0.667   0.918 \n",
      "  0.250   0.750   0.811 \n",
      "  0.143   0.857   0.592 \n",
      "  0.400   0.600   0.971 \n",
      "  0.429   0.571   0.985 \n"
     ]
    }
   ],
   "source": [
    "P = [1/2, 1/3, 1/4, 1/7, 2/5, 3/7]\n",
    "s = '{:>7} ' * 3\n",
    "print(s.format('p', '1-p', 'entropy'))\n",
    "s = s.replace('}', '.3f}')\n",
    "for p in P:\n",
    "    print(s.format(p, 1-p, entropy(np.array([p, 1-p]))))"
   ]
  },
  {
   "cell_type": "code",
   "execution_count": 13,
   "metadata": {
    "collapsed": true
   },
   "outputs": [
    {
     "ename": "SyntaxError",
     "evalue": "invalid syntax (<ipython-input-13-1b15986b4ccf>, line 3)",
     "output_type": "error",
     "traceback": [
      "\u001b[0;36m  File \u001b[0;32m\"<ipython-input-13-1b15986b4ccf>\"\u001b[0;36m, line \u001b[0;32m3\u001b[0m\n\u001b[0;31m    y =\u001b[0m\n\u001b[0m        ^\u001b[0m\n\u001b[0;31mSyntaxError\u001b[0m\u001b[0;31m:\u001b[0m invalid syntax\n"
     ]
    }
   ],
   "source": [
    "# max entropy\n",
    "x = np.arange(2, 11)\n",
    "y = "
   ]
  },
  {
   "cell_type": "code",
   "execution_count": null,
   "metadata": {
    "collapsed": false
   },
   "outputs": [],
   "source": [
    "x = np.array([[1,2],[3,4]])\n",
    "x[0]"
   ]
  },
  {
   "cell_type": "markdown",
   "metadata": {},
   "source": [
    "# Decision Tree"
   ]
  },
  {
   "cell_type": "code",
   "execution_count": 14,
   "metadata": {
    "collapsed": true
   },
   "outputs": [
    {
     "data": {
      "text/plain": [
       "0.9402859586706309"
      ]
     },
     "execution_count": 14,
     "metadata": {},
     "output_type": "execute_result"
    }
   ],
   "source": [
    "a = [9/14, 5/14]\n",
    "entropy(np.array(a))"
   ]
  },
  {
   "cell_type": "code",
   "execution_count": 33,
   "metadata": {},
   "outputs": [],
   "source": [
    "def avg_entropy(a):\n",
    "    total = sum(sum(b) for b in a)\n",
    "    avg = 0\n",
    "    for b in a:\n",
    "        c = [i/sum(b) for i in b]\n",
    "        avg += entropy(np.array(c)) * sum(b) / total\n",
    "    return avg"
   ]
  },
  {
   "cell_type": "code",
   "execution_count": 38,
   "metadata": {},
   "outputs": [
    {
     "data": {
      "text/plain": [
       "0.8921589282623617"
      ]
     },
     "execution_count": 38,
     "metadata": {},
     "output_type": "execute_result"
    }
   ],
   "source": [
    "avg_entropy([[3,3], [6,2]])"
   ]
  },
  {
   "cell_type": "code",
   "execution_count": null,
   "metadata": {},
   "outputs": [],
   "source": []
  }
 ],
 "metadata": {
  "kernelspec": {
   "display_name": "Python 3",
   "language": "python",
   "name": "python3"
  },
  "language_info": {
   "codemirror_mode": {
    "name": "ipython",
    "version": 3
   },
   "file_extension": ".py",
   "mimetype": "text/x-python",
   "name": "python",
   "nbconvert_exporter": "python",
   "pygments_lexer": "ipython3",
   "version": "3.6.6"
  },
  "widgets": {
   "state": {
    "087ee4fcef7d459a9ab3dbb40638a3ad": {
     "views": []
    },
    "107bbcb3cfcc4896a7cbc192cff6fe5b": {
     "views": []
    },
    "10880bbcd1524c218362e1a03d06c196": {
     "views": []
    },
    "1a328cf0dc274fd1b06669bdc2002ae9": {
     "views": []
    },
    "36d13e56ed414faa8a19b64f75bf6f81": {
     "views": []
    },
    "41b128c4b1574f4bbd022fca5985a406": {
     "views": []
    },
    "54a27c6d647445b1b64453050183a290": {
     "views": []
    },
    "55be0580f33e4754ad0791a9defaa61a": {
     "views": []
    },
    "585194fbdf6342e7964b6468c7d9f8a6": {
     "views": []
    },
    "6aa7195ca76d44c4abf3a1287b1cbe93": {
     "views": []
    },
    "79169df0c3294a179e61326151fd1a44": {
     "views": []
    },
    "80b7f888a60446799de435d063641129": {
     "views": []
    },
    "82706e86e9454764bf44c4b66a909f7d": {
     "views": []
    },
    "82e30e8e1fb84c5e9f11643b135dd4a7": {
     "views": []
    },
    "846bc738b0a24b6c8590e4d2a9651baf": {
     "views": []
    },
    "8e02c44d24cc4f70b7d4d7882d7c30c5": {
     "views": []
    },
    "95c372f3d7084a97b3f735817305fae3": {
     "views": []
    },
    "9e9f613ec7464cfb998655d1fdcacbd1": {
     "views": []
    },
    "a508c0fb0e354ce1a47b4595a5944cca": {
     "views": []
    },
    "a9e07fb9982a45a99fb2426e9823feab": {
     "views": []
    },
    "bfc76607ec9343ac83b723f31557db69": {
     "views": []
    },
    "cd5f38402f3c4cf09dd3a42e13f220cf": {
     "views": []
    },
    "cf01f5dda6284bff9060467dbfcfa6ed": {
     "views": []
    },
    "d7c7fcb8e7774f0da96c05d358c142f0": {
     "views": [
      {
       "cell_index": 10
      }
     ]
    },
    "de85523767964dcbb0564e76b9d52e76": {
     "views": []
    },
    "ea3f602db42e44d0b7c52130313779ac": {
     "views": []
    },
    "f7a18e5db4b343a3ba4eb5a8e72a022e": {
     "views": []
    },
    "fc23dba5041347219c1d5d9a248c285a": {
     "views": []
    }
   },
   "version": "1.1.2"
  }
 },
 "nbformat": 4,
 "nbformat_minor": 2
}

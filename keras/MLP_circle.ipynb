{
  "nbformat": 4,
  "nbformat_minor": 0,
  "metadata": {
    "colab": {
      "name": "MLP circle.ipynb",
      "version": "0.3.2",
      "provenance": [],
      "collapsed_sections": []
    },
    "kernelspec": {
      "display_name": "Python 3",
      "language": "python",
      "name": "python3"
    }
  },
  "cells": [
    {
      "metadata": {
        "id": "-vO_qr2EFdss",
        "colab_type": "code",
        "colab": {}
      },
      "cell_type": "code",
      "source": [
        "import numpy as np\n",
        "import matplotlib.pyplot as plt"
      ],
      "execution_count": 0,
      "outputs": []
    },
    {
      "metadata": {
        "id": "qSnMdos9Fdsw",
        "colab_type": "text"
      },
      "cell_type": "markdown",
      "source": [
        "# inner circle"
      ]
    },
    {
      "metadata": {
        "id": "b7cgJGEHFdsx",
        "colab_type": "code",
        "colab": {}
      },
      "cell_type": "code",
      "source": [
        "x = np.random.rand(2000) * 2 - 1\n",
        "y = np.random.rand(2000) * 2 - 1"
      ],
      "execution_count": 0,
      "outputs": []
    },
    {
      "metadata": {
        "id": "4eGozWAZFds0",
        "colab_type": "code",
        "outputId": "1e37be95-da2f-4312-8343-abe749c1ef9a",
        "colab": {
          "base_uri": "https://localhost:8080/",
          "height": 34
        }
      },
      "cell_type": "code",
      "source": [
        "f = np.sqrt(x ** 2 + y ** 2) < 0.4\n",
        "f.sum()"
      ],
      "execution_count": 0,
      "outputs": [
        {
          "output_type": "execute_result",
          "data": {
            "text/plain": [
              "238"
            ]
          },
          "metadata": {
            "tags": []
          },
          "execution_count": 3
        }
      ]
    },
    {
      "metadata": {
        "id": "bir4LVp4Fds6",
        "colab_type": "code",
        "colab": {}
      },
      "cell_type": "code",
      "source": [
        "ax = x[f]\n",
        "ay = y[f]\n",
        "alabel = np.zeros(f.sum())"
      ],
      "execution_count": 0,
      "outputs": []
    },
    {
      "metadata": {
        "id": "iNgr-WX8Fds9",
        "colab_type": "text"
      },
      "cell_type": "markdown",
      "source": [
        "# outer ring"
      ]
    },
    {
      "metadata": {
        "id": "pO7u9xwMFds-",
        "colab_type": "code",
        "colab": {}
      },
      "cell_type": "code",
      "source": [
        "x = np.random.rand(1000) * 2 - 1\n",
        "y = np.random.rand(1000) * 2 - 1"
      ],
      "execution_count": 0,
      "outputs": []
    },
    {
      "metadata": {
        "id": "FRFE8ZAGFdtB",
        "colab_type": "code",
        "outputId": "1aa11f4d-841f-4626-be46-8d9d04e13ed4",
        "colab": {
          "base_uri": "https://localhost:8080/",
          "height": 34
        }
      },
      "cell_type": "code",
      "source": [
        "f1 = np.sqrt(x ** 2 + y ** 2) > 0.7\n",
        "f2 = np.sqrt(x ** 2 + y ** 2) < 0.9\n",
        "f = f1 & f2\n",
        "f.sum()"
      ],
      "execution_count": 0,
      "outputs": [
        {
          "output_type": "execute_result",
          "data": {
            "text/plain": [
              "256"
            ]
          },
          "metadata": {
            "tags": []
          },
          "execution_count": 6
        }
      ]
    },
    {
      "metadata": {
        "id": "Mcwqs0mzFdtG",
        "colab_type": "code",
        "colab": {}
      },
      "cell_type": "code",
      "source": [
        "bx = x[f]\n",
        "by = y[f]\n",
        "blabel = np.ones(f.sum())"
      ],
      "execution_count": 0,
      "outputs": []
    },
    {
      "metadata": {
        "id": "neblIYkjFdtJ",
        "colab_type": "code",
        "outputId": "cb910eca-414f-49bf-8f9e-e2296a08384f",
        "colab": {
          "base_uri": "https://localhost:8080/",
          "height": 609
        }
      },
      "cell_type": "code",
      "source": [
        "plt.figure(figsize=(10,10))\n",
        "plt.scatter(ax, ay)\n",
        "plt.scatter(bx, by)"
      ],
      "execution_count": 0,
      "outputs": [
        {
          "output_type": "execute_result",
          "data": {
            "text/plain": [
              "<matplotlib.collections.PathCollection at 0x7ff0660d8668>"
            ]
          },
          "metadata": {
            "tags": []
          },
          "execution_count": 8
        },
        {
          "output_type": "display_data",
          "data": {
            "image/png": "[encoded data removed]",
            "text/plain": [
              "<Figure size 720x720 with 1 Axes>"
            ]
          },
          "metadata": {
            "tags": []
          }
        }
      ]
    },
    {
      "metadata": {
        "id": "r917-JbsFdtN",
        "colab_type": "text"
      },
      "cell_type": "markdown",
      "source": [
        "# combine"
      ]
    },
    {
      "metadata": {
        "id": "1LVp8HY-FdtO",
        "colab_type": "code",
        "outputId": "b47207c5-e2af-42a1-8f6e-1367e0dc2e86",
        "colab": {
          "base_uri": "https://localhost:8080/",
          "height": 34
        }
      },
      "cell_type": "code",
      "source": [
        "label = np.concatenate((alabel, blabel))\n",
        "label.shape"
      ],
      "execution_count": 0,
      "outputs": [
        {
          "output_type": "execute_result",
          "data": {
            "text/plain": [
              "(494,)"
            ]
          },
          "metadata": {
            "tags": []
          },
          "execution_count": 9
        }
      ]
    },
    {
      "metadata": {
        "id": "xz6X6-CgFdtS",
        "colab_type": "code",
        "outputId": "a65a48b5-33bc-46f1-fd41-73704fbcefb2",
        "colab": {
          "base_uri": "https://localhost:8080/",
          "height": 34
        }
      },
      "cell_type": "code",
      "source": [
        "x = np.concatenate((ax, bx))\n",
        "y = np.concatenate((ay, by))\n",
        "x.shape"
      ],
      "execution_count": 0,
      "outputs": [
        {
          "output_type": "execute_result",
          "data": {
            "text/plain": [
              "(494,)"
            ]
          },
          "metadata": {
            "tags": []
          },
          "execution_count": 10
        }
      ]
    },
    {
      "metadata": {
        "id": "VCt4NjiCGr12",
        "colab_type": "code",
        "outputId": "8612b8cd-3aba-4f7d-ab12-0b7969d0bf17",
        "colab": {
          "base_uri": "https://localhost:8080/",
          "height": 34
        }
      },
      "cell_type": "code",
      "source": [
        "(x[0], y[0])"
      ],
      "execution_count": 0,
      "outputs": [
        {
          "output_type": "execute_result",
          "data": {
            "text/plain": [
              "(0.2175064095088226, -0.017807123163533944)"
            ]
          },
          "metadata": {
            "tags": []
          },
          "execution_count": 11
        }
      ]
    },
    {
      "metadata": {
        "id": "1_QJQKwsGwCk",
        "colab_type": "code",
        "outputId": "c6b97cdd-cc29-46de-ad3c-001c5e6e89ea",
        "colab": {
          "base_uri": "https://localhost:8080/",
          "height": 34
        }
      },
      "cell_type": "code",
      "source": [
        "X = np.stack((x, y), axis=-1)\n",
        "X.shape"
      ],
      "execution_count": 0,
      "outputs": [
        {
          "output_type": "execute_result",
          "data": {
            "text/plain": [
              "(494, 2)"
            ]
          },
          "metadata": {
            "tags": []
          },
          "execution_count": 12
        }
      ]
    },
    {
      "metadata": {
        "id": "hBEVukxkIRn1",
        "colab_type": "code",
        "outputId": "873708f3-c83c-4616-dfc7-813a2fa56ed0",
        "colab": {
          "base_uri": "https://localhost:8080/",
          "height": 52
        }
      },
      "cell_type": "code",
      "source": [
        "f = np.random.rand(X.shape[0]) < 0.8\n",
        "Xtrain = X[f]\n",
        "Xtest = X[~f]\n",
        "label_train = label[f]\n",
        "label_test = label[~f]\n",
        "print(Xtrain.shape)\n",
        "print(Xtest.shape)"
      ],
      "execution_count": 0,
      "outputs": [
        {
          "output_type": "stream",
          "text": [
            "(385, 2)\n",
            "(109, 2)\n"
          ],
          "name": "stdout"
        }
      ]
    },
    {
      "metadata": {
        "id": "bUNJ9KNhFdtV",
        "colab_type": "text"
      },
      "cell_type": "markdown",
      "source": [
        "# learning"
      ]
    },
    {
      "metadata": {
        "id": "bBg_xjdQFdtW",
        "colab_type": "code",
        "outputId": "d192b82d-8d5e-4dbf-aedd-47221902c028",
        "colab": {
          "base_uri": "https://localhost:8080/",
          "height": 34
        }
      },
      "cell_type": "code",
      "source": [
        "import keras\n",
        "from keras.layers import *\n",
        "import tensorflow as tf"
      ],
      "execution_count": 0,
      "outputs": [
        {
          "output_type": "stream",
          "text": [
            "Using TensorFlow backend.\n"
          ],
          "name": "stderr"
        }
      ]
    },
    {
      "metadata": {
        "id": "TVMn4tGHGGc9",
        "colab_type": "code",
        "colab": {}
      },
      "cell_type": "code",
      "source": [
        "TOTAL_CLASS = 2"
      ],
      "execution_count": 0,
      "outputs": []
    },
    {
      "metadata": {
        "id": "90um42sQFdtZ",
        "colab_type": "code",
        "outputId": "9461766e-082a-4e00-c3b3-c529af1d7d40",
        "colab": {
          "base_uri": "https://localhost:8080/",
          "height": 89
        }
      },
      "cell_type": "code",
      "source": [
        "model = keras.Sequential([\n",
        "        Dense(4, activation='relu', input_shape=(2,)),    \n",
        "        Dense(TOTAL_CLASS,  activation='softmax'),    \n",
        "]) "
      ],
      "execution_count": 0,
      "outputs": [
        {
          "output_type": "stream",
          "text": [
            "WARNING:tensorflow:From /usr/local/lib/python3.6/dist-packages/tensorflow/python/framework/op_def_library.py:263: colocate_with (from tensorflow.python.framework.ops) is deprecated and will be removed in a future version.\n",
            "Instructions for updating:\n",
            "Colocations handled automatically by placer.\n"
          ],
          "name": "stdout"
        }
      ]
    },
    {
      "metadata": {
        "id": "MKdfQAdBHGQk",
        "colab_type": "code",
        "colab": {}
      },
      "cell_type": "code",
      "source": [
        "model.compile(optimizer=tf.train.AdamOptimizer(), \n",
        "              loss='sparse_categorical_crossentropy',\n",
        "              metrics=['accuracy'])"
      ],
      "execution_count": 0,
      "outputs": []
    },
    {
      "metadata": {
        "id": "SC7TJnlCHGqL",
        "colab_type": "code",
        "outputId": "9096e13c-1f1b-41f5-bcfc-e0d1ca9b89ae",
        "colab": {
          "base_uri": "https://localhost:8080/",
          "height": 3562
        }
      },
      "cell_type": "code",
      "source": [
        "model.fit(Xtrain, label_train, epochs=100) # , shuffle=True)"
      ],
      "execution_count": 0,
      "outputs": [
        {
          "output_type": "stream",
          "text": [
            "WARNING:tensorflow:From /usr/local/lib/python3.6/dist-packages/tensorflow/python/ops/math_ops.py:3066: to_int32 (from tensorflow.python.ops.math_ops) is deprecated and will be removed in a future version.\n",
            "Instructions for updating:\n",
            "Use tf.cast instead.\n",
            "Epoch 1/100\n",
            "385/385 [==============================] - 0s 311us/step - loss: 0.6923 - acc: 0.4494\n",
            "Epoch 2/100\n",
            "385/385 [==============================] - 0s 45us/step - loss: 0.6888 - acc: 0.4571\n",
            "Epoch 3/100\n",
            "385/385 [==============================] - 0s 40us/step - loss: 0.6854 - acc: 0.4649\n",
            "Epoch 4/100\n",
            "385/385 [==============================] - 0s 41us/step - loss: 0.6825 - acc: 0.4753\n",
            "Epoch 5/100\n",
            "385/385 [==============================] - 0s 48us/step - loss: 0.6798 - acc: 0.4779\n",
            "Epoch 6/100\n",
            "385/385 [==============================] - 0s 51us/step - loss: 0.6776 - acc: 0.4857\n",
            "Epoch 7/100\n",
            "385/385 [==============================] - 0s 47us/step - loss: 0.6750 - acc: 0.5117\n",
            "Epoch 8/100\n",
            "385/385 [==============================] - 0s 52us/step - loss: 0.6727 - acc: 0.5481\n",
            "Epoch 9/100\n",
            "385/385 [==============================] - 0s 42us/step - loss: 0.6704 - acc: 0.5558\n",
            "Epoch 10/100\n",
            "385/385 [==============================] - 0s 43us/step - loss: 0.6684 - acc: 0.5584\n",
            "Epoch 11/100\n",
            "385/385 [==============================] - 0s 43us/step - loss: 0.6661 - acc: 0.5870\n",
            "Epoch 12/100\n",
            "385/385 [==============================] - 0s 44us/step - loss: 0.6638 - acc: 0.6052\n",
            "Epoch 13/100\n",
            "385/385 [==============================] - 0s 43us/step - loss: 0.6615 - acc: 0.6182\n",
            "Epoch 14/100\n",
            "385/385 [==============================] - 0s 43us/step - loss: 0.6594 - acc: 0.6234\n",
            "Epoch 15/100\n",
            "385/385 [==============================] - 0s 42us/step - loss: 0.6570 - acc: 0.6312\n",
            "Epoch 16/100\n",
            "385/385 [==============================] - 0s 46us/step - loss: 0.6547 - acc: 0.6519\n",
            "Epoch 17/100\n",
            "385/385 [==============================] - 0s 44us/step - loss: 0.6523 - acc: 0.6727\n",
            "Epoch 18/100\n",
            "385/385 [==============================] - 0s 46us/step - loss: 0.6498 - acc: 0.6831\n",
            "Epoch 19/100\n",
            "385/385 [==============================] - 0s 43us/step - loss: 0.6473 - acc: 0.6831\n",
            "Epoch 20/100\n",
            "385/385 [==============================] - 0s 57us/step - loss: 0.6449 - acc: 0.6831\n",
            "Epoch 21/100\n",
            "385/385 [==============================] - 0s 43us/step - loss: 0.6424 - acc: 0.6623\n",
            "Epoch 22/100\n",
            "385/385 [==============================] - 0s 41us/step - loss: 0.6399 - acc: 0.6727\n",
            "Epoch 23/100\n",
            "385/385 [==============================] - 0s 43us/step - loss: 0.6375 - acc: 0.6961\n",
            "Epoch 24/100\n",
            "385/385 [==============================] - 0s 46us/step - loss: 0.6348 - acc: 0.6961\n",
            "Epoch 25/100\n",
            "385/385 [==============================] - 0s 39us/step - loss: 0.6322 - acc: 0.7065\n",
            "Epoch 26/100\n",
            "385/385 [==============================] - 0s 49us/step - loss: 0.6289 - acc: 0.7039\n",
            "Epoch 27/100\n",
            "385/385 [==============================] - 0s 52us/step - loss: 0.6258 - acc: 0.6909\n",
            "Epoch 28/100\n",
            "385/385 [==============================] - 0s 54us/step - loss: 0.6225 - acc: 0.6857\n",
            "Epoch 29/100\n",
            "385/385 [==============================] - 0s 66us/step - loss: 0.6196 - acc: 0.6753\n",
            "Epoch 30/100\n",
            "385/385 [==============================] - 0s 45us/step - loss: 0.6161 - acc: 0.6649\n",
            "Epoch 31/100\n",
            "385/385 [==============================] - 0s 48us/step - loss: 0.6128 - acc: 0.6649\n",
            "Epoch 32/100\n",
            "385/385 [==============================] - 0s 43us/step - loss: 0.6097 - acc: 0.6727\n",
            "Epoch 33/100\n",
            "385/385 [==============================] - 0s 42us/step - loss: 0.6068 - acc: 0.6805\n",
            "Epoch 34/100\n",
            "385/385 [==============================] - 0s 42us/step - loss: 0.6039 - acc: 0.6805\n",
            "Epoch 35/100\n",
            "385/385 [==============================] - 0s 41us/step - loss: 0.6010 - acc: 0.6935\n",
            "Epoch 36/100\n",
            "385/385 [==============================] - 0s 44us/step - loss: 0.5983 - acc: 0.7013\n",
            "Epoch 37/100\n",
            "385/385 [==============================] - 0s 50us/step - loss: 0.5956 - acc: 0.6987\n",
            "Epoch 38/100\n",
            "385/385 [==============================] - 0s 46us/step - loss: 0.5929 - acc: 0.6987\n",
            "Epoch 39/100\n",
            "385/385 [==============================] - 0s 55us/step - loss: 0.5899 - acc: 0.7169\n",
            "Epoch 40/100\n",
            "385/385 [==============================] - 0s 54us/step - loss: 0.5870 - acc: 0.7169\n",
            "Epoch 41/100\n",
            "385/385 [==============================] - 0s 41us/step - loss: 0.5841 - acc: 0.7195\n",
            "Epoch 42/100\n",
            "385/385 [==============================] - 0s 56us/step - loss: 0.5810 - acc: 0.7117\n",
            "Epoch 43/100\n",
            "385/385 [==============================] - 0s 42us/step - loss: 0.5783 - acc: 0.7013\n",
            "Epoch 44/100\n",
            "385/385 [==============================] - 0s 42us/step - loss: 0.5751 - acc: 0.7065\n",
            "Epoch 45/100\n",
            "385/385 [==============================] - 0s 42us/step - loss: 0.5724 - acc: 0.7091\n",
            "Epoch 46/100\n",
            "385/385 [==============================] - 0s 41us/step - loss: 0.5699 - acc: 0.7091\n",
            "Epoch 47/100\n",
            "385/385 [==============================] - 0s 51us/step - loss: 0.5670 - acc: 0.7169\n",
            "Epoch 48/100\n",
            "385/385 [==============================] - 0s 45us/step - loss: 0.5641 - acc: 0.7195\n",
            "Epoch 49/100\n",
            "385/385 [==============================] - 0s 45us/step - loss: 0.5612 - acc: 0.7195\n",
            "Epoch 50/100\n",
            "385/385 [==============================] - 0s 57us/step - loss: 0.5585 - acc: 0.7169\n",
            "Epoch 51/100\n",
            "385/385 [==============================] - 0s 43us/step - loss: 0.5556 - acc: 0.7195\n",
            "Epoch 52/100\n",
            "385/385 [==============================] - 0s 45us/step - loss: 0.5529 - acc: 0.7377\n",
            "Epoch 53/100\n",
            "385/385 [==============================] - 0s 44us/step - loss: 0.5502 - acc: 0.7532\n",
            "Epoch 54/100\n",
            "385/385 [==============================] - 0s 57us/step - loss: 0.5478 - acc: 0.7532\n",
            "Epoch 55/100\n",
            "385/385 [==============================] - 0s 48us/step - loss: 0.5452 - acc: 0.7610\n",
            "Epoch 56/100\n",
            "385/385 [==============================] - 0s 46us/step - loss: 0.5428 - acc: 0.7740\n",
            "Epoch 57/100\n",
            "385/385 [==============================] - 0s 43us/step - loss: 0.5402 - acc: 0.7766\n",
            "Epoch 58/100\n",
            "385/385 [==============================] - 0s 42us/step - loss: 0.5376 - acc: 0.7792\n",
            "Epoch 59/100\n",
            "385/385 [==============================] - 0s 49us/step - loss: 0.5353 - acc: 0.7870\n",
            "Epoch 60/100\n",
            "385/385 [==============================] - 0s 51us/step - loss: 0.5328 - acc: 0.7844\n",
            "Epoch 61/100\n",
            "385/385 [==============================] - 0s 52us/step - loss: 0.5305 - acc: 0.7818\n",
            "Epoch 62/100\n",
            "385/385 [==============================] - 0s 50us/step - loss: 0.5281 - acc: 0.7766\n",
            "Epoch 63/100\n",
            "385/385 [==============================] - 0s 49us/step - loss: 0.5259 - acc: 0.7766\n",
            "Epoch 64/100\n",
            "385/385 [==============================] - 0s 56us/step - loss: 0.5236 - acc: 0.7792\n",
            "Epoch 65/100\n",
            "385/385 [==============================] - 0s 52us/step - loss: 0.5214 - acc: 0.7792\n",
            "Epoch 66/100\n",
            "385/385 [==============================] - 0s 49us/step - loss: 0.5192 - acc: 0.7818\n",
            "Epoch 67/100\n",
            "385/385 [==============================] - 0s 55us/step - loss: 0.5172 - acc: 0.7818\n",
            "Epoch 68/100\n",
            "385/385 [==============================] - 0s 47us/step - loss: 0.5151 - acc: 0.7740\n",
            "Epoch 69/100\n",
            "385/385 [==============================] - 0s 48us/step - loss: 0.5130 - acc: 0.7766\n",
            "Epoch 70/100\n",
            "385/385 [==============================] - 0s 52us/step - loss: 0.5112 - acc: 0.7766\n",
            "Epoch 71/100\n",
            "385/385 [==============================] - 0s 52us/step - loss: 0.5090 - acc: 0.7740\n",
            "Epoch 72/100\n",
            "385/385 [==============================] - 0s 50us/step - loss: 0.5068 - acc: 0.7818\n",
            "Epoch 73/100\n",
            "385/385 [==============================] - 0s 49us/step - loss: 0.5046 - acc: 0.7870\n",
            "Epoch 74/100\n",
            "385/385 [==============================] - 0s 49us/step - loss: 0.5027 - acc: 0.7922\n",
            "Epoch 75/100\n",
            "385/385 [==============================] - 0s 50us/step - loss: 0.5008 - acc: 0.7922\n",
            "Epoch 76/100\n",
            "385/385 [==============================] - 0s 53us/step - loss: 0.4991 - acc: 0.7896\n",
            "Epoch 77/100\n",
            "385/385 [==============================] - 0s 73us/step - loss: 0.4972 - acc: 0.7922\n",
            "Epoch 78/100\n",
            "385/385 [==============================] - 0s 54us/step - loss: 0.4950 - acc: 0.8000\n",
            "Epoch 79/100\n",
            "385/385 [==============================] - 0s 56us/step - loss: 0.4931 - acc: 0.7948\n",
            "Epoch 80/100\n",
            "385/385 [==============================] - 0s 41us/step - loss: 0.4912 - acc: 0.8078\n",
            "Epoch 81/100\n",
            "385/385 [==============================] - 0s 59us/step - loss: 0.4892 - acc: 0.8104\n",
            "Epoch 82/100\n",
            "385/385 [==============================] - 0s 54us/step - loss: 0.4872 - acc: 0.8130\n",
            "Epoch 83/100\n",
            "385/385 [==============================] - 0s 48us/step - loss: 0.4853 - acc: 0.8104\n",
            "Epoch 84/100\n",
            "385/385 [==============================] - 0s 47us/step - loss: 0.4836 - acc: 0.8052\n",
            "Epoch 85/100\n",
            "385/385 [==============================] - 0s 44us/step - loss: 0.4819 - acc: 0.8104\n",
            "Epoch 86/100\n",
            "385/385 [==============================] - 0s 49us/step - loss: 0.4800 - acc: 0.8104\n",
            "Epoch 87/100\n",
            "385/385 [==============================] - 0s 58us/step - loss: 0.4783 - acc: 0.8104\n",
            "Epoch 88/100\n",
            "385/385 [==============================] - 0s 54us/step - loss: 0.4768 - acc: 0.8104\n",
            "Epoch 89/100\n",
            "385/385 [==============================] - 0s 50us/step - loss: 0.4752 - acc: 0.8104\n",
            "Epoch 90/100\n",
            "385/385 [==============================] - 0s 61us/step - loss: 0.4737 - acc: 0.8234\n",
            "Epoch 91/100\n",
            "385/385 [==============================] - 0s 58us/step - loss: 0.4721 - acc: 0.8234\n",
            "Epoch 92/100\n",
            "385/385 [==============================] - 0s 56us/step - loss: 0.4705 - acc: 0.8286\n",
            "Epoch 93/100\n",
            "385/385 [==============================] - 0s 45us/step - loss: 0.4689 - acc: 0.8286\n",
            "Epoch 94/100\n",
            "385/385 [==============================] - 0s 50us/step - loss: 0.4672 - acc: 0.8286\n",
            "Epoch 95/100\n",
            "385/385 [==============================] - 0s 47us/step - loss: 0.4656 - acc: 0.8338\n",
            "Epoch 96/100\n",
            "385/385 [==============================] - 0s 45us/step - loss: 0.4639 - acc: 0.8338\n",
            "Epoch 97/100\n",
            "385/385 [==============================] - 0s 52us/step - loss: 0.4624 - acc: 0.8338\n",
            "Epoch 98/100\n",
            "385/385 [==============================] - 0s 52us/step - loss: 0.4607 - acc: 0.8312\n",
            "Epoch 99/100\n",
            "385/385 [==============================] - 0s 49us/step - loss: 0.4592 - acc: 0.8338\n",
            "Epoch 100/100\n",
            "385/385 [==============================] - 0s 45us/step - loss: 0.4577 - acc: 0.8338\n"
          ],
          "name": "stdout"
        },
        {
          "output_type": "execute_result",
          "data": {
            "text/plain": [
              "<keras.callbacks.History at 0x7ff066138e10>"
            ]
          },
          "metadata": {
            "tags": []
          },
          "execution_count": 18
        }
      ]
    },
    {
      "metadata": {
        "id": "JiFByiUzHVqc",
        "colab_type": "code",
        "outputId": "f93092ac-c588-46d9-9a8c-f09048272429",
        "colab": {
          "base_uri": "https://localhost:8080/",
          "height": 52
        }
      },
      "cell_type": "code",
      "source": [
        "test_loss, test_acc = model.evaluate(Xtest, label_test)  \n",
        "\n",
        "print('Test accuracy:', test_acc)"
      ],
      "execution_count": 0,
      "outputs": [
        {
          "output_type": "stream",
          "text": [
            "109/109 [==============================] - 0s 279us/step\n",
            "Test accuracy: 0.8165137631083847\n"
          ],
          "name": "stdout"
        }
      ]
    },
    {
      "metadata": {
        "id": "rETx5IPCJl_c",
        "colab_type": "code",
        "colab": {}
      },
      "cell_type": "code",
      "source": [
        "with open('model.json', 'w') as json_file:\n",
        "    json = model.to_json()\n",
        "    json_file.write(json)\n",
        "model.save_weights('model.h5')"
      ],
      "execution_count": 0,
      "outputs": []
    },
    {
      "metadata": {
        "id": "Jg5Ls7VdKMjD",
        "colab_type": "code",
        "outputId": "a5d56bde-ffef-4a44-8ce6-3ae6a0815984",
        "colab": {
          "base_uri": "https://localhost:8080/",
          "height": 52
        }
      },
      "cell_type": "code",
      "source": [
        "from keras.models import model_from_json\n",
        "\n",
        "with open('model.json', 'r') as json_file:\n",
        "    json = json_file.read()\n",
        "    model2 = model_from_json(json)\n",
        "model2.load_weights(\"model.h5\")\n",
        "\n",
        " \n",
        "# compile and eval\n",
        "model2.compile(optimizer=tf.train.AdamOptimizer(), \n",
        "              loss='sparse_categorical_crossentropy',\n",
        "              metrics=['accuracy'])\n",
        "test_loss, test_acc = model2.evaluate(Xtest, label_test)  \n",
        "\n",
        "print('Test accuracy:', test_acc)"
      ],
      "execution_count": 0,
      "outputs": [
        {
          "output_type": "stream",
          "text": [
            "109/109 [==============================] - 0s 492us/step\n",
            "Test accuracy: 0.8165137631083847\n"
          ],
          "name": "stdout"
        }
      ]
    },
    {
      "metadata": {
        "id": "tWTZ16eDOH69",
        "colab_type": "code",
        "colab": {}
      },
      "cell_type": "code",
      "source": [
        ""
      ],
      "execution_count": 0,
      "outputs": []
    }
  ]
}
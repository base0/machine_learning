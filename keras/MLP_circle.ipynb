{
  "nbformat": 4,
  "nbformat_minor": 0,
  "metadata": {
    "colab": {
      "name": "MLP circle.ipynb",
      "version": "0.3.2",
      "provenance": [],
      "collapsed_sections": []
    },
    "kernelspec": {
      "display_name": "Python 3",
      "language": "python",
      "name": "python3"
    }
  },
  "cells": [
    {
      "metadata": {
        "id": "-vO_qr2EFdss",
        "colab_type": "code",
        "colab": {}
      },
      "cell_type": "code",
      "source": [
        "import numpy as np\n",
        "import matplotlib.pyplot as plt"
      ],
      "execution_count": 0,
      "outputs": []
    },
    {
      "metadata": {
        "id": "qSnMdos9Fdsw",
        "colab_type": "text"
      },
      "cell_type": "markdown",
      "source": [
        "# inner circle"
      ]
    },
    {
      "metadata": {
        "id": "b7cgJGEHFdsx",
        "colab_type": "code",
        "colab": {}
      },
      "cell_type": "code",
      "source": [
        "x = np.random.rand(2000) * 2 - 1\n",
        "y = np.random.rand(2000) * 2 - 1"
      ],
      "execution_count": 0,
      "outputs": []
    },
    {
      "metadata": {
        "id": "4eGozWAZFds0",
        "colab_type": "code",
        "outputId": "af94a687-86b4-46bd-9c95-13b99bc7ad13",
        "colab": {
          "base_uri": "https://localhost:8080/",
          "height": 34
        }
      },
      "cell_type": "code",
      "source": [
        "f = np.sqrt(x ** 2 + y ** 2) < 0.4\n",
        "f.sum()"
      ],
      "execution_count": 3,
      "outputs": [
        {
          "output_type": "execute_result",
          "data": {
            "text/plain": [
              "262"
            ]
          },
          "metadata": {
            "tags": []
          },
          "execution_count": 3
        }
      ]
    },
    {
      "metadata": {
        "id": "bir4LVp4Fds6",
        "colab_type": "code",
        "colab": {}
      },
      "cell_type": "code",
      "source": [
        "ax = x[f]\n",
        "ay = y[f]\n",
        "alabel = np.zeros(f.sum())"
      ],
      "execution_count": 0,
      "outputs": []
    },
    {
      "metadata": {
        "id": "iNgr-WX8Fds9",
        "colab_type": "text"
      },
      "cell_type": "markdown",
      "source": [
        "# outer ring"
      ]
    },
    {
      "metadata": {
        "id": "pO7u9xwMFds-",
        "colab_type": "code",
        "colab": {}
      },
      "cell_type": "code",
      "source": [
        "x = np.random.rand(1000) * 2 - 1\n",
        "y = np.random.rand(1000) * 2 - 1"
      ],
      "execution_count": 0,
      "outputs": []
    },
    {
      "metadata": {
        "id": "FRFE8ZAGFdtB",
        "colab_type": "code",
        "outputId": "08dadc65-5b2c-4327-92e4-819839b2ef5c",
        "colab": {
          "base_uri": "https://localhost:8080/",
          "height": 34
        }
      },
      "cell_type": "code",
      "source": [
        "f1 = np.sqrt(x ** 2 + y ** 2) > 0.7\n",
        "f2 = np.sqrt(x ** 2 + y ** 2) < 0.9\n",
        "f = f1 & f2\n",
        "f.sum()"
      ],
      "execution_count": 6,
      "outputs": [
        {
          "output_type": "execute_result",
          "data": {
            "text/plain": [
              "237"
            ]
          },
          "metadata": {
            "tags": []
          },
          "execution_count": 6
        }
      ]
    },
    {
      "metadata": {
        "id": "Mcwqs0mzFdtG",
        "colab_type": "code",
        "colab": {}
      },
      "cell_type": "code",
      "source": [
        "bx = x[f]\n",
        "by = y[f]\n",
        "blabel = np.ones(f.sum())"
      ],
      "execution_count": 0,
      "outputs": []
    },
    {
      "metadata": {
        "id": "neblIYkjFdtJ",
        "colab_type": "code",
        "outputId": "411c6220-4242-4967-d071-8eadfb56a0e3",
        "colab": {
          "base_uri": "https://localhost:8080/",
          "height": 609
        }
      },
      "cell_type": "code",
      "source": [
        "plt.figure(figsize=(10,10))\n",
        "plt.scatter(ax, ay)\n",
        "plt.scatter(bx, by)"
      ],
      "execution_count": 8,
      "outputs": [
        {
          "output_type": "execute_result",
          "data": {
            "text/plain": [
              "<matplotlib.collections.PathCollection at 0x7f0ed977a6d8>"
            ]
          },
          "metadata": {
            "tags": []
          },
          "execution_count": 8
        },
        {
          "output_type": "display_data",
          "data": {
            "image/png": "[encoded data removed]",
            "text/plain": [
              "<Figure size 720x720 with 1 Axes>"
            ]
          },
          "metadata": {
            "tags": []
          }
        }
      ]
    },
    {
      "metadata": {
        "id": "r917-JbsFdtN",
        "colab_type": "text"
      },
      "cell_type": "markdown",
      "source": [
        "# combine"
      ]
    },
    {
      "metadata": {
        "id": "1LVp8HY-FdtO",
        "colab_type": "code",
        "outputId": "0dd0ea08-3627-455e-aa60-90bc6340d3b2",
        "colab": {
          "base_uri": "https://localhost:8080/",
          "height": 34
        }
      },
      "cell_type": "code",
      "source": [
        "label = np.concatenate((alabel, blabel))\n",
        "label.shape"
      ],
      "execution_count": 9,
      "outputs": [
        {
          "output_type": "execute_result",
          "data": {
            "text/plain": [
              "(499,)"
            ]
          },
          "metadata": {
            "tags": []
          },
          "execution_count": 9
        }
      ]
    },
    {
      "metadata": {
        "id": "xz6X6-CgFdtS",
        "colab_type": "code",
        "outputId": "9f78564e-36ea-4430-fc12-adcee9d92b15",
        "colab": {
          "base_uri": "https://localhost:8080/",
          "height": 34
        }
      },
      "cell_type": "code",
      "source": [
        "x = np.concatenate((ax, bx))\n",
        "y = np.concatenate((ay, by))\n",
        "x.shape"
      ],
      "execution_count": 10,
      "outputs": [
        {
          "output_type": "execute_result",
          "data": {
            "text/plain": [
              "(499,)"
            ]
          },
          "metadata": {
            "tags": []
          },
          "execution_count": 10
        }
      ]
    },
    {
      "metadata": {
        "id": "VCt4NjiCGr12",
        "colab_type": "code",
        "outputId": "3cc9ab0a-5e70-4ebe-da7e-2f36b0bdec2f",
        "colab": {
          "base_uri": "https://localhost:8080/",
          "height": 34
        }
      },
      "cell_type": "code",
      "source": [
        "(x[0], y[0])"
      ],
      "execution_count": 11,
      "outputs": [
        {
          "output_type": "execute_result",
          "data": {
            "text/plain": [
              "(-0.027846762136257475, 0.37976152092852944)"
            ]
          },
          "metadata": {
            "tags": []
          },
          "execution_count": 11
        }
      ]
    },
    {
      "metadata": {
        "id": "1_QJQKwsGwCk",
        "colab_type": "code",
        "outputId": "271d5ea0-7cd6-48b1-a3a3-e470ae61f6de",
        "colab": {
          "base_uri": "https://localhost:8080/",
          "height": 34
        }
      },
      "cell_type": "code",
      "source": [
        "X = np.stack((x, y), axis=-1)\n",
        "X.shape"
      ],
      "execution_count": 12,
      "outputs": [
        {
          "output_type": "execute_result",
          "data": {
            "text/plain": [
              "(499, 2)"
            ]
          },
          "metadata": {
            "tags": []
          },
          "execution_count": 12
        }
      ]
    },
    {
      "metadata": {
        "id": "hBEVukxkIRn1",
        "colab_type": "code",
        "outputId": "add1f743-092e-4782-b38d-bfbc62f4109a",
        "colab": {
          "base_uri": "https://localhost:8080/",
          "height": 52
        }
      },
      "cell_type": "code",
      "source": [
        "f = np.random.rand(X.shape[0]) < 0.8\n",
        "Xtrain = X[f]\n",
        "Xtest = X[~f]\n",
        "label_train = label[f]\n",
        "label_test = label[~f]\n",
        "print(Xtrain.shape)\n",
        "print(Xtest.shape)"
      ],
      "execution_count": 13,
      "outputs": [
        {
          "output_type": "stream",
          "text": [
            "(391, 2)\n",
            "(108, 2)\n"
          ],
          "name": "stdout"
        }
      ]
    },
    {
      "metadata": {
        "id": "bUNJ9KNhFdtV",
        "colab_type": "text"
      },
      "cell_type": "markdown",
      "source": [
        "# learning"
      ]
    },
    {
      "metadata": {
        "id": "bBg_xjdQFdtW",
        "colab_type": "code",
        "outputId": "9c76ace2-2cfc-4f7f-a1e0-00f974c1dba8",
        "colab": {
          "base_uri": "https://localhost:8080/",
          "height": 34
        }
      },
      "cell_type": "code",
      "source": [
        "import keras\n",
        "from keras.layers import *\n",
        "import tensorflow as tf"
      ],
      "execution_count": 14,
      "outputs": [
        {
          "output_type": "stream",
          "text": [
            "Using TensorFlow backend.\n"
          ],
          "name": "stderr"
        }
      ]
    },
    {
      "metadata": {
        "id": "TVMn4tGHGGc9",
        "colab_type": "code",
        "colab": {}
      },
      "cell_type": "code",
      "source": [
        "TOTAL_CLASS = 2"
      ],
      "execution_count": 0,
      "outputs": []
    },
    {
      "metadata": {
        "id": "90um42sQFdtZ",
        "colab_type": "code",
        "colab": {}
      },
      "cell_type": "code",
      "source": [
        "model = keras.Sequential([\n",
        "        Dense(4, activation='relu'), #, input_shape=(2,)),    \n",
        "        Dense(TOTAL_CLASS,  activation='softmax'),    \n",
        "]) "
      ],
      "execution_count": 0,
      "outputs": []
    },
    {
      "metadata": {
        "id": "MKdfQAdBHGQk",
        "colab_type": "code",
        "colab": {
          "base_uri": "https://localhost:8080/",
          "height": 89
        },
        "outputId": "938e410e-b8ca-43a5-ef32-ccbfb51b763e"
      },
      "cell_type": "code",
      "source": [
        "model.compile(optimizer=tf.train.AdamOptimizer(), \n",
        "              loss='sparse_categorical_crossentropy',\n",
        "              metrics=['accuracy'])"
      ],
      "execution_count": 17,
      "outputs": [
        {
          "output_type": "stream",
          "text": [
            "WARNING:tensorflow:From /usr/local/lib/python3.6/dist-packages/tensorflow/python/framework/op_def_library.py:263: colocate_with (from tensorflow.python.framework.ops) is deprecated and will be removed in a future version.\n",
            "Instructions for updating:\n",
            "Colocations handled automatically by placer.\n"
          ],
          "name": "stdout"
        }
      ]
    },
    {
      "metadata": {
        "id": "SC7TJnlCHGqL",
        "colab_type": "code",
        "outputId": "f0938d2b-8ceb-4775-b01c-63463accf8fe",
        "colab": {
          "base_uri": "https://localhost:8080/",
          "height": 3562
        }
      },
      "cell_type": "code",
      "source": [
        "model.fit(Xtrain, label_train, epochs=100) # , shuffle=True)"
      ],
      "execution_count": 18,
      "outputs": [
        {
          "output_type": "stream",
          "text": [
            "WARNING:tensorflow:From /usr/local/lib/python3.6/dist-packages/tensorflow/python/ops/math_ops.py:3066: to_int32 (from tensorflow.python.ops.math_ops) is deprecated and will be removed in a future version.\n",
            "Instructions for updating:\n",
            "Use tf.cast instead.\n",
            "Epoch 1/100\n",
            "391/391 [==============================] - 0s 308us/step - loss: 0.6793 - acc: 0.5141\n",
            "Epoch 2/100\n",
            "391/391 [==============================] - 0s 47us/step - loss: 0.6729 - acc: 0.5345\n",
            "Epoch 3/100\n",
            "391/391 [==============================] - 0s 41us/step - loss: 0.6672 - acc: 0.5473\n",
            "Epoch 4/100\n",
            "391/391 [==============================] - 0s 43us/step - loss: 0.6623 - acc: 0.5627\n",
            "Epoch 5/100\n",
            "391/391 [==============================] - 0s 67us/step - loss: 0.6576 - acc: 0.5703\n",
            "Epoch 6/100\n",
            "391/391 [==============================] - 0s 49us/step - loss: 0.6528 - acc: 0.5780\n",
            "Epoch 7/100\n",
            "391/391 [==============================] - 0s 45us/step - loss: 0.6483 - acc: 0.5908\n",
            "Epoch 8/100\n",
            "391/391 [==============================] - 0s 42us/step - loss: 0.6439 - acc: 0.6010\n",
            "Epoch 9/100\n",
            "391/391 [==============================] - 0s 51us/step - loss: 0.6397 - acc: 0.6215\n",
            "Epoch 10/100\n",
            "391/391 [==============================] - 0s 46us/step - loss: 0.6357 - acc: 0.6292\n",
            "Epoch 11/100\n",
            "391/391 [==============================] - 0s 46us/step - loss: 0.6318 - acc: 0.6419\n",
            "Epoch 12/100\n",
            "391/391 [==============================] - 0s 46us/step - loss: 0.6281 - acc: 0.6573\n",
            "Epoch 13/100\n",
            "391/391 [==============================] - 0s 46us/step - loss: 0.6243 - acc: 0.6726\n",
            "Epoch 14/100\n",
            "391/391 [==============================] - 0s 42us/step - loss: 0.6207 - acc: 0.6829\n",
            "Epoch 15/100\n",
            "391/391 [==============================] - 0s 44us/step - loss: 0.6170 - acc: 0.6854\n",
            "Epoch 16/100\n",
            "391/391 [==============================] - 0s 41us/step - loss: 0.6133 - acc: 0.6905\n",
            "Epoch 17/100\n",
            "391/391 [==============================] - 0s 44us/step - loss: 0.6096 - acc: 0.6905\n",
            "Epoch 18/100\n",
            "391/391 [==============================] - 0s 44us/step - loss: 0.6060 - acc: 0.7059\n",
            "Epoch 19/100\n",
            "391/391 [==============================] - 0s 50us/step - loss: 0.6022 - acc: 0.7161\n",
            "Epoch 20/100\n",
            "391/391 [==============================] - 0s 41us/step - loss: 0.5985 - acc: 0.7289\n",
            "Epoch 21/100\n",
            "391/391 [==============================] - 0s 42us/step - loss: 0.5947 - acc: 0.7391\n",
            "Epoch 22/100\n",
            "391/391 [==============================] - 0s 59us/step - loss: 0.5909 - acc: 0.7417\n",
            "Epoch 23/100\n",
            "391/391 [==============================] - 0s 45us/step - loss: 0.5869 - acc: 0.7417\n",
            "Epoch 24/100\n",
            "391/391 [==============================] - 0s 46us/step - loss: 0.5830 - acc: 0.7519\n",
            "Epoch 25/100\n",
            "391/391 [==============================] - 0s 43us/step - loss: 0.5791 - acc: 0.7545\n",
            "Epoch 26/100\n",
            "391/391 [==============================] - 0s 42us/step - loss: 0.5752 - acc: 0.7621\n",
            "Epoch 27/100\n",
            "391/391 [==============================] - 0s 44us/step - loss: 0.5714 - acc: 0.7698\n",
            "Epoch 28/100\n",
            "391/391 [==============================] - 0s 45us/step - loss: 0.5675 - acc: 0.7698\n",
            "Epoch 29/100\n",
            "391/391 [==============================] - 0s 41us/step - loss: 0.5636 - acc: 0.7775\n",
            "Epoch 30/100\n",
            "391/391 [==============================] - 0s 42us/step - loss: 0.5597 - acc: 0.7775\n",
            "Epoch 31/100\n",
            "391/391 [==============================] - 0s 54us/step - loss: 0.5556 - acc: 0.7928\n",
            "Epoch 32/100\n",
            "391/391 [==============================] - 0s 46us/step - loss: 0.5517 - acc: 0.7980\n",
            "Epoch 33/100\n",
            "391/391 [==============================] - 0s 42us/step - loss: 0.5476 - acc: 0.7980\n",
            "Epoch 34/100\n",
            "391/391 [==============================] - 0s 48us/step - loss: 0.5434 - acc: 0.8082\n",
            "Epoch 35/100\n",
            "391/391 [==============================] - 0s 48us/step - loss: 0.5394 - acc: 0.8082\n",
            "Epoch 36/100\n",
            "391/391 [==============================] - 0s 44us/step - loss: 0.5352 - acc: 0.8082\n",
            "Epoch 37/100\n",
            "391/391 [==============================] - 0s 40us/step - loss: 0.5311 - acc: 0.8133\n",
            "Epoch 38/100\n",
            "391/391 [==============================] - 0s 47us/step - loss: 0.5268 - acc: 0.8133\n",
            "Epoch 39/100\n",
            "391/391 [==============================] - 0s 44us/step - loss: 0.5228 - acc: 0.8184\n",
            "Epoch 40/100\n",
            "391/391 [==============================] - 0s 43us/step - loss: 0.5185 - acc: 0.8184\n",
            "Epoch 41/100\n",
            "391/391 [==============================] - 0s 46us/step - loss: 0.5144 - acc: 0.8235\n",
            "Epoch 42/100\n",
            "391/391 [==============================] - 0s 43us/step - loss: 0.5103 - acc: 0.8261\n",
            "Epoch 43/100\n",
            "391/391 [==============================] - 0s 45us/step - loss: 0.5061 - acc: 0.8286\n",
            "Epoch 44/100\n",
            "391/391 [==============================] - 0s 45us/step - loss: 0.5020 - acc: 0.8363\n",
            "Epoch 45/100\n",
            "391/391 [==============================] - 0s 43us/step - loss: 0.4978 - acc: 0.8465\n",
            "Epoch 46/100\n",
            "391/391 [==============================] - 0s 43us/step - loss: 0.4936 - acc: 0.8542\n",
            "Epoch 47/100\n",
            "391/391 [==============================] - 0s 50us/step - loss: 0.4895 - acc: 0.8542\n",
            "Epoch 48/100\n",
            "391/391 [==============================] - 0s 46us/step - loss: 0.4854 - acc: 0.8568\n",
            "Epoch 49/100\n",
            "391/391 [==============================] - 0s 41us/step - loss: 0.4810 - acc: 0.8568\n",
            "Epoch 50/100\n",
            "391/391 [==============================] - 0s 43us/step - loss: 0.4767 - acc: 0.8670\n",
            "Epoch 51/100\n",
            "391/391 [==============================] - 0s 42us/step - loss: 0.4725 - acc: 0.8824\n",
            "Epoch 52/100\n",
            "391/391 [==============================] - 0s 41us/step - loss: 0.4680 - acc: 0.8875\n",
            "Epoch 53/100\n",
            "391/391 [==============================] - 0s 46us/step - loss: 0.4638 - acc: 0.8977\n",
            "Epoch 54/100\n",
            "391/391 [==============================] - 0s 46us/step - loss: 0.4593 - acc: 0.9028\n",
            "Epoch 55/100\n",
            "391/391 [==============================] - 0s 44us/step - loss: 0.4548 - acc: 0.9028\n",
            "Epoch 56/100\n",
            "391/391 [==============================] - 0s 40us/step - loss: 0.4503 - acc: 0.9079\n",
            "Epoch 57/100\n",
            "391/391 [==============================] - 0s 45us/step - loss: 0.4458 - acc: 0.9105\n",
            "Epoch 58/100\n",
            "391/391 [==============================] - 0s 41us/step - loss: 0.4411 - acc: 0.9130\n",
            "Epoch 59/100\n",
            "391/391 [==============================] - 0s 41us/step - loss: 0.4366 - acc: 0.9182\n",
            "Epoch 60/100\n",
            "391/391 [==============================] - 0s 41us/step - loss: 0.4321 - acc: 0.9207\n",
            "Epoch 61/100\n",
            "391/391 [==============================] - 0s 43us/step - loss: 0.4275 - acc: 0.9258\n",
            "Epoch 62/100\n",
            "391/391 [==============================] - 0s 43us/step - loss: 0.4227 - acc: 0.9284\n",
            "Epoch 63/100\n",
            "391/391 [==============================] - 0s 41us/step - loss: 0.4183 - acc: 0.9309\n",
            "Epoch 64/100\n",
            "391/391 [==============================] - 0s 43us/step - loss: 0.4137 - acc: 0.9335\n",
            "Epoch 65/100\n",
            "391/391 [==============================] - 0s 40us/step - loss: 0.4093 - acc: 0.9361\n",
            "Epoch 66/100\n",
            "391/391 [==============================] - 0s 41us/step - loss: 0.4048 - acc: 0.9386\n",
            "Epoch 67/100\n",
            "391/391 [==============================] - 0s 38us/step - loss: 0.4004 - acc: 0.9386\n",
            "Epoch 68/100\n",
            "391/391 [==============================] - 0s 43us/step - loss: 0.3956 - acc: 0.9437\n",
            "Epoch 69/100\n",
            "391/391 [==============================] - 0s 52us/step - loss: 0.3912 - acc: 0.9437\n",
            "Epoch 70/100\n",
            "391/391 [==============================] - 0s 43us/step - loss: 0.3866 - acc: 0.9514\n",
            "Epoch 71/100\n",
            "391/391 [==============================] - 0s 40us/step - loss: 0.3822 - acc: 0.9540\n",
            "Epoch 72/100\n",
            "391/391 [==============================] - 0s 42us/step - loss: 0.3777 - acc: 0.9565\n",
            "Epoch 73/100\n",
            "391/391 [==============================] - 0s 39us/step - loss: 0.3733 - acc: 0.9591\n",
            "Epoch 74/100\n",
            "391/391 [==============================] - 0s 44us/step - loss: 0.3690 - acc: 0.9642\n",
            "Epoch 75/100\n",
            "391/391 [==============================] - 0s 39us/step - loss: 0.3648 - acc: 0.9668\n",
            "Epoch 76/100\n",
            "391/391 [==============================] - 0s 42us/step - loss: 0.3605 - acc: 0.9668\n",
            "Epoch 77/100\n",
            "391/391 [==============================] - 0s 40us/step - loss: 0.3561 - acc: 0.9668\n",
            "Epoch 78/100\n",
            "391/391 [==============================] - 0s 42us/step - loss: 0.3519 - acc: 0.9668\n",
            "Epoch 79/100\n",
            "391/391 [==============================] - 0s 44us/step - loss: 0.3476 - acc: 0.9668\n",
            "Epoch 80/100\n",
            "391/391 [==============================] - 0s 43us/step - loss: 0.3435 - acc: 0.9770\n",
            "Epoch 81/100\n",
            "391/391 [==============================] - 0s 40us/step - loss: 0.3393 - acc: 0.9821\n",
            "Epoch 82/100\n",
            "391/391 [==============================] - 0s 40us/step - loss: 0.3352 - acc: 0.9821\n",
            "Epoch 83/100\n",
            "391/391 [==============================] - 0s 40us/step - loss: 0.3311 - acc: 0.9821\n",
            "Epoch 84/100\n",
            "391/391 [==============================] - 0s 41us/step - loss: 0.3271 - acc: 0.9847\n",
            "Epoch 85/100\n",
            "391/391 [==============================] - 0s 40us/step - loss: 0.3232 - acc: 0.9898\n",
            "Epoch 86/100\n",
            "391/391 [==============================] - 0s 49us/step - loss: 0.3192 - acc: 0.9923\n",
            "Epoch 87/100\n",
            "391/391 [==============================] - 0s 44us/step - loss: 0.3153 - acc: 0.9949\n",
            "Epoch 88/100\n",
            "391/391 [==============================] - 0s 39us/step - loss: 0.3113 - acc: 0.9974\n",
            "Epoch 89/100\n",
            "391/391 [==============================] - 0s 45us/step - loss: 0.3075 - acc: 0.9974\n",
            "Epoch 90/100\n",
            "391/391 [==============================] - 0s 56us/step - loss: 0.3038 - acc: 0.9974\n",
            "Epoch 91/100\n",
            "391/391 [==============================] - 0s 41us/step - loss: 0.3001 - acc: 0.9974\n",
            "Epoch 92/100\n",
            "391/391 [==============================] - 0s 45us/step - loss: 0.2963 - acc: 0.9974\n",
            "Epoch 93/100\n",
            "391/391 [==============================] - 0s 41us/step - loss: 0.2926 - acc: 0.9974\n",
            "Epoch 94/100\n",
            "391/391 [==============================] - 0s 44us/step - loss: 0.2890 - acc: 0.9974\n",
            "Epoch 95/100\n",
            "391/391 [==============================] - 0s 43us/step - loss: 0.2853 - acc: 0.9974\n",
            "Epoch 96/100\n",
            "391/391 [==============================] - 0s 56us/step - loss: 0.2818 - acc: 0.9974\n",
            "Epoch 97/100\n",
            "391/391 [==============================] - 0s 40us/step - loss: 0.2784 - acc: 0.9974\n",
            "Epoch 98/100\n",
            "391/391 [==============================] - 0s 40us/step - loss: 0.2750 - acc: 0.9974\n",
            "Epoch 99/100\n",
            "391/391 [==============================] - 0s 41us/step - loss: 0.2715 - acc: 0.9974\n",
            "Epoch 100/100\n",
            "391/391 [==============================] - 0s 47us/step - loss: 0.2682 - acc: 0.9974\n"
          ],
          "name": "stdout"
        },
        {
          "output_type": "execute_result",
          "data": {
            "text/plain": [
              "<keras.callbacks.History at 0x7f0ec7228cf8>"
            ]
          },
          "metadata": {
            "tags": []
          },
          "execution_count": 18
        }
      ]
    },
    {
      "metadata": {
        "id": "JiFByiUzHVqc",
        "colab_type": "code",
        "outputId": "e3058313-046d-4e6c-fe31-1c17f7c2e6bc",
        "colab": {
          "base_uri": "https://localhost:8080/",
          "height": 52
        }
      },
      "cell_type": "code",
      "source": [
        "test_loss, test_acc = model.evaluate(Xtest, label_test)  \n",
        "\n",
        "print('Test accuracy:', test_acc)"
      ],
      "execution_count": 19,
      "outputs": [
        {
          "output_type": "stream",
          "text": [
            "108/108 [==============================] - 0s 325us/step\n",
            "Test accuracy: 1.0\n"
          ],
          "name": "stdout"
        }
      ]
    },
    {
      "metadata": {
        "id": "rETx5IPCJl_c",
        "colab_type": "code",
        "colab": {}
      },
      "cell_type": "code",
      "source": [
        "with open('model.json', 'w') as json_file:\n",
        "    json = model.to_json()\n",
        "    json_file.write(json)\n",
        "model.save_weights('model.h5')"
      ],
      "execution_count": 0,
      "outputs": []
    },
    {
      "metadata": {
        "id": "Jg5Ls7VdKMjD",
        "colab_type": "code",
        "outputId": "802c11c5-c73c-48fd-e480-3bd56ae1668f",
        "colab": {
          "base_uri": "https://localhost:8080/",
          "height": 52
        }
      },
      "cell_type": "code",
      "source": [
        "from keras.models import model_from_json\n",
        "\n",
        "with open('model.json', 'r') as json_file:\n",
        "    json = json_file.read()\n",
        "    model2 = model_from_json(json)\n",
        "model2.load_weights(\"model.h5\")\n",
        "\n",
        " \n",
        "# compile and eval\n",
        "model2.compile(optimizer=tf.train.AdamOptimizer(), \n",
        "              loss='sparse_categorical_crossentropy',\n",
        "              metrics=['accuracy'])\n",
        "test_loss, test_acc = model2.evaluate(Xtest, label_test)  \n",
        "\n",
        "print('Test accuracy:', test_acc)"
      ],
      "execution_count": 21,
      "outputs": [
        {
          "output_type": "stream",
          "text": [
            "108/108 [==============================] - 0s 376us/step\n",
            "Test accuracy: 1.0\n"
          ],
          "name": "stdout"
        }
      ]
    },
    {
      "metadata": {
        "id": "tWTZ16eDOH69",
        "colab_type": "code",
        "colab": {}
      },
      "cell_type": "code",
      "source": [
        ""
      ],
      "execution_count": 0,
      "outputs": []
    }
  ]
}
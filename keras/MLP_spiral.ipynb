{
  "nbformat": 4,
  "nbformat_minor": 0,
  "metadata": {
    "colab": {
      "name": "MLP spiral.ipynb",
      "version": "0.3.2",
      "provenance": [],
      "collapsed_sections": []
    },
    "kernelspec": {
      "display_name": "Python 3",
      "language": "python",
      "name": "python3"
    }
  },
  "cells": [
    {
      "metadata": {
        "id": "-vO_qr2EFdss",
        "colab_type": "code",
        "colab": {}
      },
      "cell_type": "code",
      "source": [
        "import numpy as np\n",
        "import matplotlib.pyplot as plt"
      ],
      "execution_count": 0,
      "outputs": []
    },
    {
      "metadata": {
        "id": "qSnMdos9Fdsw",
        "colab_type": "text"
      },
      "cell_type": "markdown",
      "source": [
        "# Spiral"
      ]
    },
    {
      "metadata": {
        "id": "b7cgJGEHFdsx",
        "colab_type": "code",
        "colab": {}
      },
      "cell_type": "code",
      "source": [
        "from math import *\n",
        "theta = np.empty(0)\n",
        "for i in range(7):  \n",
        "    theta = np.append(theta, np.linspace(i*pi/2, (i+1)*pi/2, 4*i + 4))\n",
        "r = theta\n",
        "ax = r * np.cos(theta)\n",
        "ay = r * np.sin(theta)\n",
        "bx = -r * np.cos(theta)\n",
        "by = -r * np.sin(theta)"
      ],
      "execution_count": 0,
      "outputs": []
    },
    {
      "metadata": {
        "id": "OK49wW75bEQd",
        "colab_type": "code",
        "colab": {
          "base_uri": "https://localhost:8080/",
          "height": 287
        },
        "outputId": "6ac080c7-351f-48ef-e3ad-f3f1b8a55290"
      },
      "cell_type": "code",
      "source": [
        "plt.figure(figsize=(4,4))\n",
        "plt.scatter(ax, ay)\n",
        "plt.scatter(bx, by)"
      ],
      "execution_count": 3,
      "outputs": [
        {
          "output_type": "execute_result",
          "data": {
            "text/plain": [
              "<matplotlib.collections.PathCollection at 0x7f1ca43d0550>"
            ]
          },
          "metadata": {
            "tags": []
          },
          "execution_count": 3
        },
        {
          "output_type": "display_data",
          "data": {
            "image/png": "[encoded data removed]",
            "text/plain": [
              "<Figure size 288x288 with 1 Axes>"
            ]
          },
          "metadata": {
            "tags": []
          }
        }
      ]
    },
    {
      "metadata": {
        "id": "r917-JbsFdtN",
        "colab_type": "text"
      },
      "cell_type": "markdown",
      "source": [
        "# Prepare training/testing data"
      ]
    },
    {
      "metadata": {
        "id": "1_QJQKwsGwCk",
        "colab_type": "code",
        "colab": {
          "base_uri": "https://localhost:8080/",
          "height": 34
        },
        "outputId": "9983c50c-6eef-4f97-9612-d7bc976891f0"
      },
      "cell_type": "code",
      "source": [
        "x = np.append(ax, bx)\n",
        "y = np.append(ay, by)\n",
        "X = np.stack((x, y), axis=-1)\n",
        "X.shape"
      ],
      "execution_count": 4,
      "outputs": [
        {
          "output_type": "execute_result",
          "data": {
            "text/plain": [
              "(224, 2)"
            ]
          },
          "metadata": {
            "tags": []
          },
          "execution_count": 4
        }
      ]
    },
    {
      "metadata": {
        "id": "1LVp8HY-FdtO",
        "colab_type": "code",
        "colab": {
          "base_uri": "https://localhost:8080/",
          "height": 34
        },
        "outputId": "4601b766-b480-41c5-9625-80f4fa9f4f26"
      },
      "cell_type": "code",
      "source": [
        "label = np.append(np.zeros(ax.shape[0]), np.ones(bx.shape[0]))\n",
        "label.shape"
      ],
      "execution_count": 5,
      "outputs": [
        {
          "output_type": "execute_result",
          "data": {
            "text/plain": [
              "(224,)"
            ]
          },
          "metadata": {
            "tags": []
          },
          "execution_count": 5
        }
      ]
    },
    {
      "metadata": {
        "id": "hBEVukxkIRn1",
        "colab_type": "code",
        "colab": {
          "base_uri": "https://localhost:8080/",
          "height": 52
        },
        "outputId": "f4756df5-1f88-404c-c327-827cfa9cc7d4"
      },
      "cell_type": "code",
      "source": [
        "f = np.random.rand(X.shape[0]) < 0.8\n",
        "Xtrain = X[f]\n",
        "Xtest  = X[~f]\n",
        "Ytrain = label[f]\n",
        "Ytest  = label[~f]\n",
        "print(Xtrain.shape)\n",
        "print(Xtest.shape)"
      ],
      "execution_count": 6,
      "outputs": [
        {
          "output_type": "stream",
          "text": [
            "(181, 2)\n",
            "(43, 2)\n"
          ],
          "name": "stdout"
        }
      ]
    },
    {
      "metadata": {
        "id": "bUNJ9KNhFdtV",
        "colab_type": "text"
      },
      "cell_type": "markdown",
      "source": [
        "# Learn"
      ]
    },
    {
      "metadata": {
        "id": "bBg_xjdQFdtW",
        "colab_type": "code",
        "colab": {
          "base_uri": "https://localhost:8080/",
          "height": 34
        },
        "outputId": "419011db-694d-4ed8-de62-82103998f182"
      },
      "cell_type": "code",
      "source": [
        "import keras\n",
        "from keras.layers import *\n",
        "import tensorflow as tf"
      ],
      "execution_count": 7,
      "outputs": [
        {
          "output_type": "stream",
          "text": [
            "Using TensorFlow backend.\n"
          ],
          "name": "stderr"
        }
      ]
    },
    {
      "metadata": {
        "id": "90um42sQFdtZ",
        "colab_type": "code",
        "colab": {}
      },
      "cell_type": "code",
      "source": [
        "model = keras.Sequential([\n",
        "    ____\n",
        "]) "
      ],
      "execution_count": 0,
      "outputs": []
    },
    {
      "metadata": {
        "id": "MKdfQAdBHGQk",
        "colab_type": "code",
        "colab": {}
      },
      "cell_type": "code",
      "source": [
        "model.compile(___)"
      ],
      "execution_count": 0,
      "outputs": []
    },
    {
      "metadata": {
        "id": "SC7TJnlCHGqL",
        "colab_type": "code",
        "colab": {}
      },
      "cell_type": "code",
      "source": [
        "model.fit(___) # , shuffle=True)"
      ],
      "execution_count": 0,
      "outputs": []
    },
    {
      "metadata": {
        "id": "JiFByiUzHVqc",
        "colab_type": "code",
        "colab": {}
      },
      "cell_type": "code",
      "source": [
        "test_loss, test_acc = model.evaluate(____)  \n",
        "\n",
        "print('Test accuracy:', test_acc)"
      ],
      "execution_count": 0,
      "outputs": []
    }
  ]
}
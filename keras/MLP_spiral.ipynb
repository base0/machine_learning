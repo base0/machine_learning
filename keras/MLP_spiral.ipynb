{
  "nbformat": 4,
  "nbformat_minor": 0,
  "metadata": {
    "colab": {
      "name": "MLP spiral.ipynb",
      "version": "0.3.2",
      "provenance": [],
      "collapsed_sections": []
    },
    "kernelspec": {
      "display_name": "Python 3",
      "language": "python",
      "name": "python3"
    }
  },
  "cells": [
    {
      "metadata": {
        "id": "-vO_qr2EFdss",
        "colab_type": "code",
        "colab": {}
      },
      "cell_type": "code",
      "source": [
        "import numpy as np\n",
        "import matplotlib.pyplot as plt"
      ],
      "execution_count": 0,
      "outputs": []
    },
    {
      "metadata": {
        "id": "qSnMdos9Fdsw",
        "colab_type": "text"
      },
      "cell_type": "markdown",
      "source": [
        "# spiral"
      ]
    },
    {
      "metadata": {
        "id": "b7cgJGEHFdsx",
        "colab_type": "code",
        "colab": {}
      },
      "cell_type": "code",
      "source": [
        "from math import *\n",
        "theta = np.empty(0)\n",
        "for i in range(7):  \n",
        "    theta = np.append(theta, np.linspace(i*pi/2, (i+1)*pi/2, 4*i + 4))\n",
        "r = theta\n",
        "ax = r * np.cos(theta)\n",
        "ay = r * np.sin(theta)\n",
        "bx = -r * np.cos(theta)\n",
        "by = -r * np.sin(theta)"
      ],
      "execution_count": 0,
      "outputs": []
    },
    {
      "metadata": {
        "id": "OK49wW75bEQd",
        "colab_type": "code",
        "colab": {
          "base_uri": "https://localhost:8080/",
          "height": 286
        },
        "outputId": "49c249c7-323a-4e3d-a2a1-49865c819645"
      },
      "cell_type": "code",
      "source": [
        "plt.figure(figsize=(4,4))\n",
        "plt.scatter(ax, ay)\n",
        "plt.scatter(bx, by)"
      ],
      "execution_count": 3,
      "outputs": [
        {
          "output_type": "execute_result",
          "data": {
            "text/plain": [
              "<matplotlib.collections.PathCollection at 0x7f191a95c588>"
            ]
          },
          "metadata": {
            "tags": []
          },
          "execution_count": 3
        },
        {
          "output_type": "display_data",
          "data": {
            "image/png": "[encoded data removed]",
            "text/plain": [
              "<Figure size 288x288 with 1 Axes>"
            ]
          },
          "metadata": {
            "tags": []
          }
        }
      ]
    },
    {
      "metadata": {
        "id": "r917-JbsFdtN",
        "colab_type": "text"
      },
      "cell_type": "markdown",
      "source": [
        "# combine"
      ]
    },
    {
      "metadata": {
        "id": "1LVp8HY-FdtO",
        "colab_type": "code",
        "outputId": "525985dc-a5b4-4fc7-96f2-c21c014854be",
        "colab": {
          "base_uri": "https://localhost:8080/",
          "height": 34
        }
      },
      "cell_type": "code",
      "source": [
        "label = np.append(np.zeros(ax.shape[0]), np.ones(bx.shape[0]))\n",
        "label.shape"
      ],
      "execution_count": 4,
      "outputs": [
        {
          "output_type": "execute_result",
          "data": {
            "text/plain": [
              "(224,)"
            ]
          },
          "metadata": {
            "tags": []
          },
          "execution_count": 4
        }
      ]
    },
    {
      "metadata": {
        "id": "xz6X6-CgFdtS",
        "colab_type": "code",
        "outputId": "9f419104-bc43-4e64-e32e-3d5535d693bd",
        "colab": {
          "base_uri": "https://localhost:8080/",
          "height": 34
        }
      },
      "cell_type": "code",
      "source": [
        "x = np.append(ax, bx)\n",
        "y = np.append(ay, by)\n",
        "x.shape"
      ],
      "execution_count": 5,
      "outputs": [
        {
          "output_type": "execute_result",
          "data": {
            "text/plain": [
              "(224,)"
            ]
          },
          "metadata": {
            "tags": []
          },
          "execution_count": 5
        }
      ]
    },
    {
      "metadata": {
        "id": "1_QJQKwsGwCk",
        "colab_type": "code",
        "outputId": "e0b7c2bc-7d0c-434c-9de9-6b6a7bfac6d9",
        "colab": {
          "base_uri": "https://localhost:8080/",
          "height": 34
        }
      },
      "cell_type": "code",
      "source": [
        "X = np.stack((x, y), axis=-1)\n",
        "X.shape"
      ],
      "execution_count": 6,
      "outputs": [
        {
          "output_type": "execute_result",
          "data": {
            "text/plain": [
              "(224, 2)"
            ]
          },
          "metadata": {
            "tags": []
          },
          "execution_count": 6
        }
      ]
    },
    {
      "metadata": {
        "id": "hBEVukxkIRn1",
        "colab_type": "code",
        "outputId": "756d8548-6999-48f9-e3b2-3b229cedc664",
        "colab": {
          "base_uri": "https://localhost:8080/",
          "height": 50
        }
      },
      "cell_type": "code",
      "source": [
        "f = np.random.rand(X.shape[0]) < 0.8\n",
        "Xtrain = X[f]\n",
        "Xtest = X[~f]\n",
        "label_train = label[f]\n",
        "label_test = label[~f]\n",
        "print(Xtrain.shape)\n",
        "print(Xtest.shape)"
      ],
      "execution_count": 7,
      "outputs": [
        {
          "output_type": "stream",
          "text": [
            "(173, 2)\n",
            "(51, 2)\n"
          ],
          "name": "stdout"
        }
      ]
    },
    {
      "metadata": {
        "id": "bUNJ9KNhFdtV",
        "colab_type": "text"
      },
      "cell_type": "markdown",
      "source": [
        "# learning"
      ]
    },
    {
      "metadata": {
        "id": "bBg_xjdQFdtW",
        "colab_type": "code",
        "outputId": "703f8d91-5978-431b-d87d-38cae02de93d",
        "colab": {
          "base_uri": "https://localhost:8080/",
          "height": 34
        }
      },
      "cell_type": "code",
      "source": [
        "import keras\n",
        "from keras.layers import *\n",
        "import tensorflow as tf"
      ],
      "execution_count": 8,
      "outputs": [
        {
          "output_type": "stream",
          "text": [
            "Using TensorFlow backend.\n"
          ],
          "name": "stderr"
        }
      ]
    },
    {
      "metadata": {
        "id": "TVMn4tGHGGc9",
        "colab_type": "code",
        "colab": {}
      },
      "cell_type": "code",
      "source": [
        "TOTAL_CLASS = 2"
      ],
      "execution_count": 0,
      "outputs": []
    },
    {
      "metadata": {
        "id": "90um42sQFdtZ",
        "colab_type": "code",
        "colab": {}
      },
      "cell_type": "code",
      "source": [
        "model = keras.Sequential([\n",
        "        Dense(128, activation='relu'),    \n",
        "        Dense(64, activation='relu'),    \n",
        "        Dense(32, activation='relu'),    \n",
        "        Dense(2, activation='softmax'),    \n",
        "]) "
      ],
      "execution_count": 0,
      "outputs": []
    },
    {
      "metadata": {
        "id": "MKdfQAdBHGQk",
        "colab_type": "code",
        "colab": {
          "base_uri": "https://localhost:8080/",
          "height": 87
        },
        "outputId": "0b46dc30-605d-40a7-e869-1e775d968910"
      },
      "cell_type": "code",
      "source": [
        "model.compile(optimizer=tf.train.AdamOptimizer(), \n",
        "              loss='sparse_categorical_crossentropy',\n",
        "              metrics=['accuracy'])"
      ],
      "execution_count": 11,
      "outputs": [
        {
          "output_type": "stream",
          "text": [
            "WARNING:tensorflow:From /usr/local/lib/python3.6/dist-packages/tensorflow/python/framework/op_def_library.py:263: colocate_with (from tensorflow.python.framework.ops) is deprecated and will be removed in a future version.\n",
            "Instructions for updating:\n",
            "Colocations handled automatically by placer.\n"
          ],
          "name": "stdout"
        }
      ]
    },
    {
      "metadata": {
        "id": "SC7TJnlCHGqL",
        "colab_type": "code",
        "outputId": "8ca6add2-b288-4cd0-cfd5-b364177ad8a8",
        "colab": {
          "base_uri": "https://localhost:8080/",
          "height": 6824
        }
      },
      "cell_type": "code",
      "source": [
        "model.fit(Xtrain, label_train, epochs=200) # , shuffle=True)"
      ],
      "execution_count": 12,
      "outputs": [
        {
          "output_type": "stream",
          "text": [
            "WARNING:tensorflow:From /usr/local/lib/python3.6/dist-packages/tensorflow/python/ops/math_ops.py:3066: to_int32 (from tensorflow.python.ops.math_ops) is deprecated and will be removed in a future version.\n",
            "Instructions for updating:\n",
            "Use tf.cast instead.\n",
            "Epoch 1/200\n",
            "173/173 [==============================] - 0s 927us/step - loss: 0.7296 - acc: 0.5376\n",
            "Epoch 2/200\n",
            "173/173 [==============================] - 0s 81us/step - loss: 0.6492 - acc: 0.6301\n",
            "Epoch 3/200\n",
            "173/173 [==============================] - 0s 67us/step - loss: 0.6353 - acc: 0.6127\n",
            "Epoch 4/200\n",
            "173/173 [==============================] - 0s 73us/step - loss: 0.6255 - acc: 0.6243\n",
            "Epoch 5/200\n",
            "173/173 [==============================] - 0s 69us/step - loss: 0.6237 - acc: 0.6416\n",
            "Epoch 6/200\n",
            "173/173 [==============================] - 0s 91us/step - loss: 0.6191 - acc: 0.6358\n",
            "Epoch 7/200\n",
            "173/173 [==============================] - 0s 67us/step - loss: 0.6258 - acc: 0.6474\n",
            "Epoch 8/200\n",
            "173/173 [==============================] - 0s 67us/step - loss: 0.6179 - acc: 0.6416\n",
            "Epoch 9/200\n",
            "173/173 [==============================] - 0s 66us/step - loss: 0.6178 - acc: 0.6474\n",
            "Epoch 10/200\n",
            "173/173 [==============================] - 0s 72us/step - loss: 0.6184 - acc: 0.6358\n",
            "Epoch 11/200\n",
            "173/173 [==============================] - 0s 74us/step - loss: 0.6163 - acc: 0.6416\n",
            "Epoch 12/200\n",
            "173/173 [==============================] - 0s 65us/step - loss: 0.6186 - acc: 0.6358\n",
            "Epoch 13/200\n",
            "173/173 [==============================] - 0s 91us/step - loss: 0.6156 - acc: 0.6474\n",
            "Epoch 14/200\n",
            "173/173 [==============================] - 0s 75us/step - loss: 0.6136 - acc: 0.6416\n",
            "Epoch 15/200\n",
            "173/173 [==============================] - 0s 76us/step - loss: 0.6184 - acc: 0.6474\n",
            "Epoch 16/200\n",
            "173/173 [==============================] - 0s 77us/step - loss: 0.6130 - acc: 0.6474\n",
            "Epoch 17/200\n",
            "173/173 [==============================] - 0s 68us/step - loss: 0.6194 - acc: 0.6358\n",
            "Epoch 18/200\n",
            "173/173 [==============================] - 0s 70us/step - loss: 0.6149 - acc: 0.6416\n",
            "Epoch 19/200\n",
            "173/173 [==============================] - 0s 85us/step - loss: 0.6135 - acc: 0.6358\n",
            "Epoch 20/200\n",
            "173/173 [==============================] - 0s 95us/step - loss: 0.6168 - acc: 0.6358\n",
            "Epoch 21/200\n",
            "173/173 [==============================] - 0s 60us/step - loss: 0.6159 - acc: 0.6358\n",
            "Epoch 22/200\n",
            "173/173 [==============================] - 0s 72us/step - loss: 0.6110 - acc: 0.6474\n",
            "Epoch 23/200\n",
            "173/173 [==============================] - 0s 69us/step - loss: 0.6112 - acc: 0.6590\n",
            "Epoch 24/200\n",
            "173/173 [==============================] - 0s 56us/step - loss: 0.6123 - acc: 0.6474\n",
            "Epoch 25/200\n",
            "173/173 [==============================] - 0s 71us/step - loss: 0.6141 - acc: 0.6358\n",
            "Epoch 26/200\n",
            "173/173 [==============================] - 0s 72us/step - loss: 0.6125 - acc: 0.6416\n",
            "Epoch 27/200\n",
            "173/173 [==============================] - 0s 72us/step - loss: 0.6160 - acc: 0.6358\n",
            "Epoch 28/200\n",
            "173/173 [==============================] - 0s 56us/step - loss: 0.6096 - acc: 0.6243\n",
            "Epoch 29/200\n",
            "173/173 [==============================] - 0s 87us/step - loss: 0.6135 - acc: 0.6358\n",
            "Epoch 30/200\n",
            "173/173 [==============================] - 0s 73us/step - loss: 0.6099 - acc: 0.6474\n",
            "Epoch 31/200\n",
            "173/173 [==============================] - 0s 73us/step - loss: 0.6092 - acc: 0.6474\n",
            "Epoch 32/200\n",
            "173/173 [==============================] - 0s 84us/step - loss: 0.6102 - acc: 0.6358\n",
            "Epoch 33/200\n",
            "173/173 [==============================] - 0s 104us/step - loss: 0.6131 - acc: 0.6474\n",
            "Epoch 34/200\n",
            "173/173 [==============================] - 0s 85us/step - loss: 0.6065 - acc: 0.6416\n",
            "Epoch 35/200\n",
            "173/173 [==============================] - 0s 79us/step - loss: 0.6105 - acc: 0.6416\n",
            "Epoch 36/200\n",
            "173/173 [==============================] - 0s 65us/step - loss: 0.6089 - acc: 0.6301\n",
            "Epoch 37/200\n",
            "173/173 [==============================] - 0s 80us/step - loss: 0.6063 - acc: 0.6358\n",
            "Epoch 38/200\n",
            "173/173 [==============================] - 0s 75us/step - loss: 0.6084 - acc: 0.6243\n",
            "Epoch 39/200\n",
            "173/173 [==============================] - 0s 71us/step - loss: 0.6031 - acc: 0.6358\n",
            "Epoch 40/200\n",
            "173/173 [==============================] - 0s 99us/step - loss: 0.6068 - acc: 0.6474\n",
            "Epoch 41/200\n",
            "173/173 [==============================] - 0s 78us/step - loss: 0.6113 - acc: 0.6532\n",
            "Epoch 42/200\n",
            "173/173 [==============================] - 0s 71us/step - loss: 0.6030 - acc: 0.6301\n",
            "Epoch 43/200\n",
            "173/173 [==============================] - 0s 69us/step - loss: 0.6082 - acc: 0.6243\n",
            "Epoch 44/200\n",
            "173/173 [==============================] - 0s 80us/step - loss: 0.6102 - acc: 0.6301\n",
            "Epoch 45/200\n",
            "173/173 [==============================] - 0s 93us/step - loss: 0.6058 - acc: 0.6416\n",
            "Epoch 46/200\n",
            "173/173 [==============================] - 0s 67us/step - loss: 0.6035 - acc: 0.6532\n",
            "Epoch 47/200\n",
            "173/173 [==============================] - 0s 66us/step - loss: 0.6047 - acc: 0.6358\n",
            "Epoch 48/200\n",
            "173/173 [==============================] - 0s 80us/step - loss: 0.6043 - acc: 0.6301\n",
            "Epoch 49/200\n",
            "173/173 [==============================] - 0s 85us/step - loss: 0.6022 - acc: 0.6127\n",
            "Epoch 50/200\n",
            "173/173 [==============================] - 0s 70us/step - loss: 0.6061 - acc: 0.6358\n",
            "Epoch 51/200\n",
            "173/173 [==============================] - 0s 66us/step - loss: 0.6016 - acc: 0.6301\n",
            "Epoch 52/200\n",
            "173/173 [==============================] - 0s 77us/step - loss: 0.6027 - acc: 0.6301\n",
            "Epoch 53/200\n",
            "173/173 [==============================] - 0s 67us/step - loss: 0.5978 - acc: 0.6590\n",
            "Epoch 54/200\n",
            "173/173 [==============================] - 0s 80us/step - loss: 0.6119 - acc: 0.6763\n",
            "Epoch 55/200\n",
            "173/173 [==============================] - 0s 78us/step - loss: 0.6059 - acc: 0.6705\n",
            "Epoch 56/200\n",
            "173/173 [==============================] - 0s 81us/step - loss: 0.5991 - acc: 0.6474\n",
            "Epoch 57/200\n",
            "173/173 [==============================] - 0s 75us/step - loss: 0.5956 - acc: 0.6301\n",
            "Epoch 58/200\n",
            "173/173 [==============================] - 0s 72us/step - loss: 0.5985 - acc: 0.6532\n",
            "Epoch 59/200\n",
            "173/173 [==============================] - 0s 68us/step - loss: 0.5949 - acc: 0.6474\n",
            "Epoch 60/200\n",
            "173/173 [==============================] - 0s 75us/step - loss: 0.5916 - acc: 0.6243\n",
            "Epoch 61/200\n",
            "173/173 [==============================] - 0s 88us/step - loss: 0.5965 - acc: 0.6243\n",
            "Epoch 62/200\n",
            "173/173 [==============================] - 0s 99us/step - loss: 0.5923 - acc: 0.6358\n",
            "Epoch 63/200\n",
            "173/173 [==============================] - 0s 113us/step - loss: 0.5906 - acc: 0.6243\n",
            "Epoch 64/200\n",
            "173/173 [==============================] - 0s 73us/step - loss: 0.5931 - acc: 0.6243\n",
            "Epoch 65/200\n",
            "173/173 [==============================] - 0s 58us/step - loss: 0.5919 - acc: 0.6243\n",
            "Epoch 66/200\n",
            "173/173 [==============================] - 0s 63us/step - loss: 0.5883 - acc: 0.6243\n",
            "Epoch 67/200\n",
            "173/173 [==============================] - 0s 58us/step - loss: 0.5864 - acc: 0.6127\n",
            "Epoch 68/200\n",
            "173/173 [==============================] - 0s 75us/step - loss: 0.5906 - acc: 0.6243\n",
            "Epoch 69/200\n",
            "173/173 [==============================] - 0s 77us/step - loss: 0.5866 - acc: 0.6416\n",
            "Epoch 70/200\n",
            "173/173 [==============================] - 0s 70us/step - loss: 0.5816 - acc: 0.6416\n",
            "Epoch 71/200\n",
            "173/173 [==============================] - 0s 70us/step - loss: 0.5804 - acc: 0.6416\n",
            "Epoch 72/200\n",
            "173/173 [==============================] - 0s 65us/step - loss: 0.5850 - acc: 0.6416\n",
            "Epoch 73/200\n",
            "173/173 [==============================] - 0s 70us/step - loss: 0.5758 - acc: 0.6243\n",
            "Epoch 74/200\n",
            "173/173 [==============================] - 0s 80us/step - loss: 0.5763 - acc: 0.6185\n",
            "Epoch 75/200\n",
            "173/173 [==============================] - 0s 73us/step - loss: 0.5826 - acc: 0.6185\n",
            "Epoch 76/200\n",
            "173/173 [==============================] - 0s 81us/step - loss: 0.5741 - acc: 0.6243\n",
            "Epoch 77/200\n",
            "173/173 [==============================] - 0s 70us/step - loss: 0.5667 - acc: 0.6474\n",
            "Epoch 78/200\n",
            "173/173 [==============================] - 0s 57us/step - loss: 0.5633 - acc: 0.6474\n",
            "Epoch 79/200\n",
            "173/173 [==============================] - 0s 62us/step - loss: 0.5684 - acc: 0.6243\n",
            "Epoch 80/200\n",
            "173/173 [==============================] - 0s 63us/step - loss: 0.5549 - acc: 0.6705\n",
            "Epoch 81/200\n",
            "173/173 [==============================] - 0s 67us/step - loss: 0.5580 - acc: 0.6301\n",
            "Epoch 82/200\n",
            "173/173 [==============================] - 0s 72us/step - loss: 0.5489 - acc: 0.6532\n",
            "Epoch 83/200\n",
            "173/173 [==============================] - 0s 80us/step - loss: 0.5495 - acc: 0.6532\n",
            "Epoch 84/200\n",
            "173/173 [==============================] - 0s 123us/step - loss: 0.5377 - acc: 0.6705\n",
            "Epoch 85/200\n",
            "173/173 [==============================] - 0s 89us/step - loss: 0.5351 - acc: 0.6821\n",
            "Epoch 86/200\n",
            "173/173 [==============================] - 0s 82us/step - loss: 0.5329 - acc: 0.7110\n",
            "Epoch 87/200\n",
            "173/173 [==============================] - 0s 87us/step - loss: 0.5258 - acc: 0.7110\n",
            "Epoch 88/200\n",
            "173/173 [==============================] - 0s 85us/step - loss: 0.5180 - acc: 0.7168\n",
            "Epoch 89/200\n",
            "173/173 [==============================] - 0s 92us/step - loss: 0.5146 - acc: 0.6936\n",
            "Epoch 90/200\n",
            "173/173 [==============================] - 0s 71us/step - loss: 0.5055 - acc: 0.6879\n",
            "Epoch 91/200\n",
            "173/173 [==============================] - 0s 70us/step - loss: 0.4993 - acc: 0.7052\n",
            "Epoch 92/200\n",
            "173/173 [==============================] - 0s 69us/step - loss: 0.4960 - acc: 0.6994\n",
            "Epoch 93/200\n",
            "173/173 [==============================] - 0s 75us/step - loss: 0.4954 - acc: 0.7168\n",
            "Epoch 94/200\n",
            "173/173 [==============================] - 0s 64us/step - loss: 0.4838 - acc: 0.6994\n",
            "Epoch 95/200\n",
            "173/173 [==============================] - 0s 70us/step - loss: 0.4696 - acc: 0.7399\n",
            "Epoch 96/200\n",
            "173/173 [==============================] - 0s 67us/step - loss: 0.4707 - acc: 0.6994\n",
            "Epoch 97/200\n",
            "173/173 [==============================] - 0s 68us/step - loss: 0.4623 - acc: 0.7341\n",
            "Epoch 98/200\n",
            "173/173 [==============================] - 0s 83us/step - loss: 0.4524 - acc: 0.7341\n",
            "Epoch 99/200\n",
            "173/173 [==============================] - 0s 76us/step - loss: 0.4564 - acc: 0.7572\n",
            "Epoch 100/200\n",
            "173/173 [==============================] - 0s 72us/step - loss: 0.4318 - acc: 0.7399\n",
            "Epoch 101/200\n",
            "173/173 [==============================] - 0s 71us/step - loss: 0.4292 - acc: 0.7514\n",
            "Epoch 102/200\n",
            "173/173 [==============================] - 0s 73us/step - loss: 0.4034 - acc: 0.7919\n",
            "Epoch 103/200\n",
            "173/173 [==============================] - 0s 72us/step - loss: 0.3958 - acc: 0.7919\n",
            "Epoch 104/200\n",
            "173/173 [==============================] - 0s 87us/step - loss: 0.3864 - acc: 0.8150\n",
            "Epoch 105/200\n",
            "173/173 [==============================] - 0s 74us/step - loss: 0.3770 - acc: 0.8092\n",
            "Epoch 106/200\n",
            "173/173 [==============================] - 0s 81us/step - loss: 0.3753 - acc: 0.8092\n",
            "Epoch 107/200\n",
            "173/173 [==============================] - 0s 71us/step - loss: 0.3666 - acc: 0.7919\n",
            "Epoch 108/200\n",
            "173/173 [==============================] - 0s 62us/step - loss: 0.3540 - acc: 0.8266\n",
            "Epoch 109/200\n",
            "173/173 [==============================] - 0s 63us/step - loss: 0.3424 - acc: 0.8497\n",
            "Epoch 110/200\n",
            "173/173 [==============================] - 0s 80us/step - loss: 0.3249 - acc: 0.8613\n",
            "Epoch 111/200\n",
            "173/173 [==============================] - 0s 79us/step - loss: 0.3168 - acc: 0.8671\n",
            "Epoch 112/200\n",
            "173/173 [==============================] - 0s 79us/step - loss: 0.3059 - acc: 0.8728\n",
            "Epoch 113/200\n",
            "173/173 [==============================] - 0s 75us/step - loss: 0.2967 - acc: 0.8786\n",
            "Epoch 114/200\n",
            "173/173 [==============================] - 0s 70us/step - loss: 0.2842 - acc: 0.8960\n",
            "Epoch 115/200\n",
            "173/173 [==============================] - 0s 68us/step - loss: 0.2664 - acc: 0.9017\n",
            "Epoch 116/200\n",
            "173/173 [==============================] - 0s 59us/step - loss: 0.2542 - acc: 0.9191\n",
            "Epoch 117/200\n",
            "173/173 [==============================] - 0s 76us/step - loss: 0.2425 - acc: 0.8960\n",
            "Epoch 118/200\n",
            "173/173 [==============================] - 0s 64us/step - loss: 0.2391 - acc: 0.9595\n",
            "Epoch 119/200\n",
            "173/173 [==============================] - 0s 81us/step - loss: 0.2156 - acc: 0.9595\n",
            "Epoch 120/200\n",
            "173/173 [==============================] - 0s 73us/step - loss: 0.2051 - acc: 0.9711\n",
            "Epoch 121/200\n",
            "173/173 [==============================] - 0s 74us/step - loss: 0.1910 - acc: 0.9884\n",
            "Epoch 122/200\n",
            "173/173 [==============================] - 0s 73us/step - loss: 0.1760 - acc: 0.9827\n",
            "Epoch 123/200\n",
            "173/173 [==============================] - 0s 74us/step - loss: 0.1638 - acc: 0.9827\n",
            "Epoch 124/200\n",
            "173/173 [==============================] - 0s 76us/step - loss: 0.1472 - acc: 0.9942\n",
            "Epoch 125/200\n",
            "173/173 [==============================] - 0s 75us/step - loss: 0.1362 - acc: 0.9942\n",
            "Epoch 126/200\n",
            "173/173 [==============================] - 0s 83us/step - loss: 0.1256 - acc: 1.0000\n",
            "Epoch 127/200\n",
            "173/173 [==============================] - 0s 79us/step - loss: 0.1163 - acc: 1.0000\n",
            "Epoch 128/200\n",
            "173/173 [==============================] - 0s 74us/step - loss: 0.1066 - acc: 1.0000\n",
            "Epoch 129/200\n",
            "173/173 [==============================] - 0s 76us/step - loss: 0.0989 - acc: 1.0000\n",
            "Epoch 130/200\n",
            "173/173 [==============================] - 0s 73us/step - loss: 0.0920 - acc: 1.0000\n",
            "Epoch 131/200\n",
            "173/173 [==============================] - 0s 71us/step - loss: 0.0841 - acc: 1.0000\n",
            "Epoch 132/200\n",
            "173/173 [==============================] - 0s 69us/step - loss: 0.0791 - acc: 1.0000\n",
            "Epoch 133/200\n",
            "173/173 [==============================] - 0s 67us/step - loss: 0.0762 - acc: 0.9942\n",
            "Epoch 134/200\n",
            "173/173 [==============================] - 0s 86us/step - loss: 0.0698 - acc: 1.0000\n",
            "Epoch 135/200\n",
            "173/173 [==============================] - 0s 73us/step - loss: 0.0657 - acc: 1.0000\n",
            "Epoch 136/200\n",
            "173/173 [==============================] - 0s 65us/step - loss: 0.0619 - acc: 1.0000\n",
            "Epoch 137/200\n",
            "173/173 [==============================] - 0s 79us/step - loss: 0.0569 - acc: 1.0000\n",
            "Epoch 138/200\n",
            "173/173 [==============================] - 0s 67us/step - loss: 0.0554 - acc: 1.0000\n",
            "Epoch 139/200\n",
            "173/173 [==============================] - 0s 70us/step - loss: 0.0510 - acc: 1.0000\n",
            "Epoch 140/200\n",
            "173/173 [==============================] - 0s 58us/step - loss: 0.0467 - acc: 1.0000\n",
            "Epoch 141/200\n",
            "173/173 [==============================] - 0s 67us/step - loss: 0.0432 - acc: 1.0000\n",
            "Epoch 142/200\n",
            "173/173 [==============================] - 0s 81us/step - loss: 0.0400 - acc: 1.0000\n",
            "Epoch 143/200\n",
            "173/173 [==============================] - 0s 71us/step - loss: 0.0384 - acc: 1.0000\n",
            "Epoch 144/200\n",
            "173/173 [==============================] - 0s 72us/step - loss: 0.0374 - acc: 1.0000\n",
            "Epoch 145/200\n",
            "173/173 [==============================] - 0s 69us/step - loss: 0.0345 - acc: 1.0000\n",
            "Epoch 146/200\n",
            "173/173 [==============================] - 0s 72us/step - loss: 0.0328 - acc: 1.0000\n",
            "Epoch 147/200\n",
            "173/173 [==============================] - 0s 77us/step - loss: 0.0308 - acc: 1.0000\n",
            "Epoch 148/200\n",
            "173/173 [==============================] - 0s 76us/step - loss: 0.0294 - acc: 1.0000\n",
            "Epoch 149/200\n",
            "173/173 [==============================] - 0s 88us/step - loss: 0.0282 - acc: 1.0000\n",
            "Epoch 150/200\n",
            "173/173 [==============================] - 0s 62us/step - loss: 0.0273 - acc: 1.0000\n",
            "Epoch 151/200\n",
            "173/173 [==============================] - 0s 66us/step - loss: 0.0263 - acc: 1.0000\n",
            "Epoch 152/200\n",
            "173/173 [==============================] - 0s 81us/step - loss: 0.0252 - acc: 1.0000\n",
            "Epoch 153/200\n",
            "173/173 [==============================] - 0s 65us/step - loss: 0.0236 - acc: 1.0000\n",
            "Epoch 154/200\n",
            "173/173 [==============================] - 0s 55us/step - loss: 0.0229 - acc: 1.0000\n",
            "Epoch 155/200\n",
            "173/173 [==============================] - 0s 63us/step - loss: 0.0224 - acc: 1.0000\n",
            "Epoch 156/200\n",
            "173/173 [==============================] - 0s 72us/step - loss: 0.0219 - acc: 1.0000\n",
            "Epoch 157/200\n",
            "173/173 [==============================] - 0s 60us/step - loss: 0.0209 - acc: 1.0000\n",
            "Epoch 158/200\n",
            "173/173 [==============================] - 0s 116us/step - loss: 0.0199 - acc: 1.0000\n",
            "Epoch 159/200\n",
            "173/173 [==============================] - 0s 72us/step - loss: 0.0191 - acc: 1.0000\n",
            "Epoch 160/200\n",
            "173/173 [==============================] - 0s 78us/step - loss: 0.0187 - acc: 1.0000\n",
            "Epoch 161/200\n",
            "173/173 [==============================] - 0s 73us/step - loss: 0.0177 - acc: 1.0000\n",
            "Epoch 162/200\n",
            "173/173 [==============================] - 0s 84us/step - loss: 0.0172 - acc: 1.0000\n",
            "Epoch 163/200\n",
            "173/173 [==============================] - 0s 77us/step - loss: 0.0165 - acc: 1.0000\n",
            "Epoch 164/200\n",
            "173/173 [==============================] - 0s 71us/step - loss: 0.0160 - acc: 1.0000\n",
            "Epoch 165/200\n",
            "173/173 [==============================] - 0s 70us/step - loss: 0.0161 - acc: 1.0000\n",
            "Epoch 166/200\n",
            "173/173 [==============================] - 0s 66us/step - loss: 0.0152 - acc: 1.0000\n",
            "Epoch 167/200\n",
            "173/173 [==============================] - 0s 70us/step - loss: 0.0148 - acc: 1.0000\n",
            "Epoch 168/200\n",
            "173/173 [==============================] - 0s 75us/step - loss: 0.0143 - acc: 1.0000\n",
            "Epoch 169/200\n",
            "173/173 [==============================] - 0s 69us/step - loss: 0.0140 - acc: 1.0000\n",
            "Epoch 170/200\n",
            "173/173 [==============================] - 0s 81us/step - loss: 0.0137 - acc: 1.0000\n",
            "Epoch 171/200\n",
            "173/173 [==============================] - 0s 74us/step - loss: 0.0134 - acc: 1.0000\n",
            "Epoch 172/200\n",
            "173/173 [==============================] - 0s 86us/step - loss: 0.0131 - acc: 1.0000\n",
            "Epoch 173/200\n",
            "173/173 [==============================] - 0s 77us/step - loss: 0.0123 - acc: 1.0000\n",
            "Epoch 174/200\n",
            "173/173 [==============================] - 0s 69us/step - loss: 0.0119 - acc: 1.0000\n",
            "Epoch 175/200\n",
            "173/173 [==============================] - 0s 75us/step - loss: 0.0116 - acc: 1.0000\n",
            "Epoch 176/200\n",
            "173/173 [==============================] - 0s 78us/step - loss: 0.0116 - acc: 1.0000\n",
            "Epoch 177/200\n",
            "173/173 [==============================] - 0s 78us/step - loss: 0.0110 - acc: 1.0000\n",
            "Epoch 178/200\n",
            "173/173 [==============================] - 0s 73us/step - loss: 0.0107 - acc: 1.0000\n",
            "Epoch 179/200\n",
            "173/173 [==============================] - 0s 75us/step - loss: 0.0106 - acc: 1.0000\n",
            "Epoch 180/200\n",
            "173/173 [==============================] - 0s 78us/step - loss: 0.0101 - acc: 1.0000\n",
            "Epoch 181/200\n",
            "173/173 [==============================] - 0s 81us/step - loss: 0.0098 - acc: 1.0000\n",
            "Epoch 182/200\n",
            "173/173 [==============================] - 0s 87us/step - loss: 0.0096 - acc: 1.0000\n",
            "Epoch 183/200\n",
            "173/173 [==============================] - 0s 69us/step - loss: 0.0094 - acc: 1.0000\n",
            "Epoch 184/200\n",
            "173/173 [==============================] - 0s 71us/step - loss: 0.0091 - acc: 1.0000\n",
            "Epoch 185/200\n",
            "173/173 [==============================] - 0s 83us/step - loss: 0.0089 - acc: 1.0000\n",
            "Epoch 186/200\n",
            "173/173 [==============================] - 0s 71us/step - loss: 0.0088 - acc: 1.0000\n",
            "Epoch 187/200\n",
            "173/173 [==============================] - 0s 70us/step - loss: 0.0086 - acc: 1.0000\n",
            "Epoch 188/200\n",
            "173/173 [==============================] - 0s 74us/step - loss: 0.0084 - acc: 1.0000\n",
            "Epoch 189/200\n",
            "173/173 [==============================] - 0s 64us/step - loss: 0.0082 - acc: 1.0000\n",
            "Epoch 190/200\n",
            "173/173 [==============================] - 0s 74us/step - loss: 0.0080 - acc: 1.0000\n",
            "Epoch 191/200\n",
            "173/173 [==============================] - 0s 84us/step - loss: 0.0078 - acc: 1.0000\n",
            "Epoch 192/200\n",
            "173/173 [==============================] - 0s 75us/step - loss: 0.0077 - acc: 1.0000\n",
            "Epoch 193/200\n",
            "173/173 [==============================] - 0s 75us/step - loss: 0.0075 - acc: 1.0000\n",
            "Epoch 194/200\n",
            "173/173 [==============================] - 0s 74us/step - loss: 0.0072 - acc: 1.0000\n",
            "Epoch 195/200\n",
            "173/173 [==============================] - 0s 74us/step - loss: 0.0071 - acc: 1.0000\n",
            "Epoch 196/200\n",
            "173/173 [==============================] - 0s 71us/step - loss: 0.0069 - acc: 1.0000\n",
            "Epoch 197/200\n",
            "173/173 [==============================] - 0s 68us/step - loss: 0.0069 - acc: 1.0000\n",
            "Epoch 198/200\n",
            "173/173 [==============================] - 0s 76us/step - loss: 0.0067 - acc: 1.0000\n",
            "Epoch 199/200\n",
            "173/173 [==============================] - 0s 75us/step - loss: 0.0064 - acc: 1.0000\n",
            "Epoch 200/200\n",
            "173/173 [==============================] - 0s 66us/step - loss: 0.0063 - acc: 1.0000\n"
          ],
          "name": "stdout"
        },
        {
          "output_type": "execute_result",
          "data": {
            "text/plain": [
              "<keras.callbacks.History at 0x7f190249dc88>"
            ]
          },
          "metadata": {
            "tags": []
          },
          "execution_count": 12
        }
      ]
    },
    {
      "metadata": {
        "id": "JiFByiUzHVqc",
        "colab_type": "code",
        "colab": {
          "base_uri": "https://localhost:8080/",
          "height": 50
        },
        "outputId": "bdae0917-b87c-4fc5-d1d1-67c8dbddb1f8"
      },
      "cell_type": "code",
      "source": [
        "test_loss, test_acc = model.evaluate(Xtest, label_test)  \n",
        "\n",
        "print('Test accuracy:', test_acc)"
      ],
      "execution_count": 13,
      "outputs": [
        {
          "output_type": "stream",
          "text": [
            "51/51 [==============================] - 0s 672us/step\n",
            "Test accuracy: 0.9803921568627451\n"
          ],
          "name": "stdout"
        }
      ]
    }
  ]
}
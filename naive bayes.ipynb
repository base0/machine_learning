{
 "cells": [
  {
   "cell_type": "code",
   "execution_count": 49,
   "metadata": {},
   "outputs": [
    {
     "data": {
      "text/html": [
       "<div>\n",
       "<style scoped>\n",
       "    .dataframe tbody tr th:only-of-type {\n",
       "        vertical-align: middle;\n",
       "    }\n",
       "\n",
       "    .dataframe tbody tr th {\n",
       "        vertical-align: top;\n",
       "    }\n",
       "\n",
       "    .dataframe thead th {\n",
       "        text-align: right;\n",
       "    }\n",
       "</style>\n",
       "<table border=\"1\" class=\"dataframe\">\n",
       "  <thead>\n",
       "    <tr style=\"text-align: right;\">\n",
       "      <th></th>\n",
       "      <th>outlook</th>\n",
       "      <th>temperature</th>\n",
       "      <th>humidity</th>\n",
       "      <th>windy</th>\n",
       "      <th>play</th>\n",
       "    </tr>\n",
       "  </thead>\n",
       "  <tbody>\n",
       "    <tr>\n",
       "      <th>0</th>\n",
       "      <td>sunny</td>\n",
       "      <td>cool</td>\n",
       "      <td>normal</td>\n",
       "      <td>False</td>\n",
       "      <td>yes</td>\n",
       "    </tr>\n",
       "    <tr>\n",
       "      <th>1</th>\n",
       "      <td>sunny</td>\n",
       "      <td>mild</td>\n",
       "      <td>normal</td>\n",
       "      <td>True</td>\n",
       "      <td>yes</td>\n",
       "    </tr>\n",
       "    <tr>\n",
       "      <th>2</th>\n",
       "      <td>sunny</td>\n",
       "      <td>hot</td>\n",
       "      <td>high</td>\n",
       "      <td>False</td>\n",
       "      <td>no</td>\n",
       "    </tr>\n",
       "    <tr>\n",
       "      <th>3</th>\n",
       "      <td>sunny</td>\n",
       "      <td>hot</td>\n",
       "      <td>high</td>\n",
       "      <td>True</td>\n",
       "      <td>no</td>\n",
       "    </tr>\n",
       "    <tr>\n",
       "      <th>4</th>\n",
       "      <td>sunny</td>\n",
       "      <td>mild</td>\n",
       "      <td>high</td>\n",
       "      <td>False</td>\n",
       "      <td>no</td>\n",
       "    </tr>\n",
       "    <tr>\n",
       "      <th>5</th>\n",
       "      <td>rainy</td>\n",
       "      <td>mild</td>\n",
       "      <td>high</td>\n",
       "      <td>False</td>\n",
       "      <td>yes</td>\n",
       "    </tr>\n",
       "    <tr>\n",
       "      <th>6</th>\n",
       "      <td>rainy</td>\n",
       "      <td>cool</td>\n",
       "      <td>normal</td>\n",
       "      <td>False</td>\n",
       "      <td>yes</td>\n",
       "    </tr>\n",
       "    <tr>\n",
       "      <th>7</th>\n",
       "      <td>rainy</td>\n",
       "      <td>mild</td>\n",
       "      <td>normal</td>\n",
       "      <td>False</td>\n",
       "      <td>yes</td>\n",
       "    </tr>\n",
       "    <tr>\n",
       "      <th>8</th>\n",
       "      <td>rainy</td>\n",
       "      <td>cool</td>\n",
       "      <td>normal</td>\n",
       "      <td>True</td>\n",
       "      <td>no</td>\n",
       "    </tr>\n",
       "    <tr>\n",
       "      <th>9</th>\n",
       "      <td>rainy</td>\n",
       "      <td>mild</td>\n",
       "      <td>high</td>\n",
       "      <td>True</td>\n",
       "      <td>no</td>\n",
       "    </tr>\n",
       "    <tr>\n",
       "      <th>10</th>\n",
       "      <td>overcast</td>\n",
       "      <td>hot</td>\n",
       "      <td>high</td>\n",
       "      <td>False</td>\n",
       "      <td>yes</td>\n",
       "    </tr>\n",
       "    <tr>\n",
       "      <th>11</th>\n",
       "      <td>overcast</td>\n",
       "      <td>cool</td>\n",
       "      <td>normal</td>\n",
       "      <td>True</td>\n",
       "      <td>yes</td>\n",
       "    </tr>\n",
       "    <tr>\n",
       "      <th>12</th>\n",
       "      <td>overcast</td>\n",
       "      <td>mild</td>\n",
       "      <td>high</td>\n",
       "      <td>True</td>\n",
       "      <td>yes</td>\n",
       "    </tr>\n",
       "    <tr>\n",
       "      <th>13</th>\n",
       "      <td>overcast</td>\n",
       "      <td>hot</td>\n",
       "      <td>normal</td>\n",
       "      <td>False</td>\n",
       "      <td>yes</td>\n",
       "    </tr>\n",
       "  </tbody>\n",
       "</table>\n",
       "</div>"
      ],
      "text/plain": [
       "     outlook temperature humidity  windy play\n",
       "0      sunny        cool   normal  False  yes\n",
       "1      sunny        mild   normal   True  yes\n",
       "2      sunny         hot     high  False   no\n",
       "3      sunny         hot     high   True   no\n",
       "4      sunny        mild     high  False   no\n",
       "5      rainy        mild     high  False  yes\n",
       "6      rainy        cool   normal  False  yes\n",
       "7      rainy        mild   normal  False  yes\n",
       "8      rainy        cool   normal   True   no\n",
       "9      rainy        mild     high   True   no\n",
       "10  overcast         hot     high  False  yes\n",
       "11  overcast        cool   normal   True  yes\n",
       "12  overcast        mild     high   True  yes\n",
       "13  overcast         hot   normal  False  yes"
      ]
     },
     "execution_count": 49,
     "metadata": {},
     "output_type": "execute_result"
    }
   ],
   "source": [
    "import pandas as pd\n",
    "\n",
    "df = pd.read_csv('weather.nominal.csv')\n",
    "df"
   ]
  },
  {
   "cell_type": "code",
   "execution_count": 50,
   "metadata": {},
   "outputs": [
    {
     "data": {
      "text/html": [
       "<div>\n",
       "<style scoped>\n",
       "    .dataframe tbody tr th:only-of-type {\n",
       "        vertical-align: middle;\n",
       "    }\n",
       "\n",
       "    .dataframe tbody tr th {\n",
       "        vertical-align: top;\n",
       "    }\n",
       "\n",
       "    .dataframe thead th {\n",
       "        text-align: right;\n",
       "    }\n",
       "</style>\n",
       "<table border=\"1\" class=\"dataframe\">\n",
       "  <thead>\n",
       "    <tr style=\"text-align: right;\">\n",
       "      <th></th>\n",
       "      <th>outlook</th>\n",
       "      <th>temperature</th>\n",
       "      <th>humidity</th>\n",
       "      <th>windy</th>\n",
       "      <th>play</th>\n",
       "    </tr>\n",
       "  </thead>\n",
       "  <tbody>\n",
       "    <tr>\n",
       "      <th>count</th>\n",
       "      <td>14</td>\n",
       "      <td>14</td>\n",
       "      <td>14</td>\n",
       "      <td>14</td>\n",
       "      <td>14</td>\n",
       "    </tr>\n",
       "    <tr>\n",
       "      <th>unique</th>\n",
       "      <td>3</td>\n",
       "      <td>3</td>\n",
       "      <td>2</td>\n",
       "      <td>2</td>\n",
       "      <td>2</td>\n",
       "    </tr>\n",
       "    <tr>\n",
       "      <th>top</th>\n",
       "      <td>sunny</td>\n",
       "      <td>mild</td>\n",
       "      <td>normal</td>\n",
       "      <td>False</td>\n",
       "      <td>yes</td>\n",
       "    </tr>\n",
       "    <tr>\n",
       "      <th>freq</th>\n",
       "      <td>5</td>\n",
       "      <td>6</td>\n",
       "      <td>7</td>\n",
       "      <td>8</td>\n",
       "      <td>9</td>\n",
       "    </tr>\n",
       "  </tbody>\n",
       "</table>\n",
       "</div>"
      ],
      "text/plain": [
       "       outlook temperature humidity  windy play\n",
       "count       14          14       14     14   14\n",
       "unique       3           3        2      2    2\n",
       "top      sunny        mild   normal  False  yes\n",
       "freq         5           6        7      8    9"
      ]
     },
     "execution_count": 50,
     "metadata": {},
     "output_type": "execute_result"
    }
   ],
   "source": [
    "df.describe(include='all')"
   ]
  },
  {
   "cell_type": "code",
   "execution_count": 51,
   "metadata": {},
   "outputs": [
    {
     "data": {
      "text/plain": [
       "yes    9\n",
       "no     5\n",
       "Name: play, dtype: int64"
      ]
     },
     "execution_count": 51,
     "metadata": {},
     "output_type": "execute_result"
    }
   ],
   "source": [
    "df.play.value_counts()"
   ]
  },
  {
   "cell_type": "code",
   "execution_count": 52,
   "metadata": {},
   "outputs": [],
   "source": [
    "dfy = df[df.play == 'yes']\n",
    "dfn = df[df.play == 'no']"
   ]
  },
  {
   "cell_type": "code",
   "execution_count": 53,
   "metadata": {},
   "outputs": [
    {
     "name": "stdout",
     "output_type": "stream",
     "text": [
      "overcast    4\n",
      "rainy       3\n",
      "sunny       2\n",
      "Name: outlook, dtype: int64\n",
      "------------------------------\n",
      "mild    4\n",
      "cool    3\n",
      "hot     2\n",
      "Name: temperature, dtype: int64\n",
      "------------------------------\n",
      "normal    6\n",
      "high      3\n",
      "Name: humidity, dtype: int64\n",
      "------------------------------\n",
      "False    6\n",
      "True     3\n",
      "Name: windy, dtype: int64\n",
      "------------------------------\n",
      "yes    9\n",
      "Name: play, dtype: int64\n",
      "------------------------------\n"
     ]
    }
   ],
   "source": [
    "for c in dfy.columns:\n",
    "    print(dfy[c].value_counts())\n",
    "    print('-' * 30)"
   ]
  },
  {
   "cell_type": "code",
   "execution_count": 54,
   "metadata": {},
   "outputs": [
    {
     "name": "stdout",
     "output_type": "stream",
     "text": [
      "sunny    3\n",
      "rainy    2\n",
      "Name: outlook, dtype: int64\n",
      "------------------------------\n",
      "mild    2\n",
      "hot     2\n",
      "cool    1\n",
      "Name: temperature, dtype: int64\n",
      "------------------------------\n",
      "high      4\n",
      "normal    1\n",
      "Name: humidity, dtype: int64\n",
      "------------------------------\n",
      "True     3\n",
      "False    2\n",
      "Name: windy, dtype: int64\n",
      "------------------------------\n",
      "no    5\n",
      "Name: play, dtype: int64\n",
      "------------------------------\n"
     ]
    }
   ],
   "source": [
    "for c in dfn.columns:\n",
    "    print(dfn[c].value_counts())\n",
    "    print('-' * 30)"
   ]
  },
  {
   "cell_type": "markdown",
   "metadata": {},
   "source": [
    "# Smoothing"
   ]
  },
  {
   "cell_type": "code",
   "execution_count": 55,
   "metadata": {},
   "outputs": [
    {
     "data": {
      "text/html": [
       "<div>\n",
       "<style scoped>\n",
       "    .dataframe tbody tr th:only-of-type {\n",
       "        vertical-align: middle;\n",
       "    }\n",
       "\n",
       "    .dataframe tbody tr th {\n",
       "        vertical-align: top;\n",
       "    }\n",
       "\n",
       "    .dataframe thead th {\n",
       "        text-align: right;\n",
       "    }\n",
       "</style>\n",
       "<table border=\"1\" class=\"dataframe\">\n",
       "  <thead>\n",
       "    <tr style=\"text-align: right;\">\n",
       "      <th></th>\n",
       "      <th>outlook</th>\n",
       "      <th>temperature</th>\n",
       "      <th>humidity</th>\n",
       "      <th>windy</th>\n",
       "      <th>play</th>\n",
       "    </tr>\n",
       "  </thead>\n",
       "  <tbody>\n",
       "    <tr>\n",
       "      <th>0</th>\n",
       "      <td>sunny</td>\n",
       "      <td>cool</td>\n",
       "      <td>normal</td>\n",
       "      <td>False</td>\n",
       "      <td>yes</td>\n",
       "    </tr>\n",
       "    <tr>\n",
       "      <th>1</th>\n",
       "      <td>sunny</td>\n",
       "      <td>mild</td>\n",
       "      <td>normal</td>\n",
       "      <td>True</td>\n",
       "      <td>yes</td>\n",
       "    </tr>\n",
       "    <tr>\n",
       "      <th>2</th>\n",
       "      <td>sunny</td>\n",
       "      <td>hot</td>\n",
       "      <td>high</td>\n",
       "      <td>False</td>\n",
       "      <td>no</td>\n",
       "    </tr>\n",
       "    <tr>\n",
       "      <th>3</th>\n",
       "      <td>sunny</td>\n",
       "      <td>hot</td>\n",
       "      <td>high</td>\n",
       "      <td>True</td>\n",
       "      <td>no</td>\n",
       "    </tr>\n",
       "    <tr>\n",
       "      <th>4</th>\n",
       "      <td>sunny</td>\n",
       "      <td>mild</td>\n",
       "      <td>high</td>\n",
       "      <td>False</td>\n",
       "      <td>no</td>\n",
       "    </tr>\n",
       "    <tr>\n",
       "      <th>5</th>\n",
       "      <td>rainy</td>\n",
       "      <td>mild</td>\n",
       "      <td>high</td>\n",
       "      <td>False</td>\n",
       "      <td>yes</td>\n",
       "    </tr>\n",
       "    <tr>\n",
       "      <th>6</th>\n",
       "      <td>rainy</td>\n",
       "      <td>cool</td>\n",
       "      <td>normal</td>\n",
       "      <td>False</td>\n",
       "      <td>yes</td>\n",
       "    </tr>\n",
       "    <tr>\n",
       "      <th>7</th>\n",
       "      <td>rainy</td>\n",
       "      <td>mild</td>\n",
       "      <td>normal</td>\n",
       "      <td>False</td>\n",
       "      <td>yes</td>\n",
       "    </tr>\n",
       "    <tr>\n",
       "      <th>8</th>\n",
       "      <td>rainy</td>\n",
       "      <td>cool</td>\n",
       "      <td>normal</td>\n",
       "      <td>True</td>\n",
       "      <td>no</td>\n",
       "    </tr>\n",
       "    <tr>\n",
       "      <th>9</th>\n",
       "      <td>rainy</td>\n",
       "      <td>mild</td>\n",
       "      <td>high</td>\n",
       "      <td>True</td>\n",
       "      <td>no</td>\n",
       "    </tr>\n",
       "    <tr>\n",
       "      <th>10</th>\n",
       "      <td>overcast</td>\n",
       "      <td>hot</td>\n",
       "      <td>high</td>\n",
       "      <td>False</td>\n",
       "      <td>yes</td>\n",
       "    </tr>\n",
       "    <tr>\n",
       "      <th>11</th>\n",
       "      <td>overcast</td>\n",
       "      <td>cool</td>\n",
       "      <td>normal</td>\n",
       "      <td>True</td>\n",
       "      <td>yes</td>\n",
       "    </tr>\n",
       "  </tbody>\n",
       "</table>\n",
       "</div>"
      ],
      "text/plain": [
       "     outlook temperature humidity  windy play\n",
       "0      sunny        cool   normal  False  yes\n",
       "1      sunny        mild   normal   True  yes\n",
       "2      sunny         hot     high  False   no\n",
       "3      sunny         hot     high   True   no\n",
       "4      sunny        mild     high  False   no\n",
       "5      rainy        mild     high  False  yes\n",
       "6      rainy        cool   normal  False  yes\n",
       "7      rainy        mild   normal  False  yes\n",
       "8      rainy        cool   normal   True   no\n",
       "9      rainy        mild     high   True   no\n",
       "10  overcast         hot     high  False  yes\n",
       "11  overcast        cool   normal   True  yes"
      ]
     },
     "execution_count": 55,
     "metadata": {},
     "output_type": "execute_result"
    }
   ],
   "source": [
    "df = df.iloc[:12]\n",
    "df"
   ]
  },
  {
   "cell_type": "code",
   "execution_count": 56,
   "metadata": {},
   "outputs": [],
   "source": [
    "dfy = df[df.play == 'yes']\n",
    "dfn = df[df.play == 'no']"
   ]
  },
  {
   "cell_type": "code",
   "execution_count": 57,
   "metadata": {},
   "outputs": [
    {
     "name": "stdout",
     "output_type": "stream",
     "text": [
      "rainy       3\n",
      "overcast    2\n",
      "sunny       2\n",
      "Name: outlook, dtype: int64\n",
      "------------------------------\n",
      "cool    3\n",
      "mild    3\n",
      "hot     1\n",
      "Name: temperature, dtype: int64\n",
      "------------------------------\n",
      "normal    5\n",
      "high      2\n",
      "Name: humidity, dtype: int64\n",
      "------------------------------\n",
      "False    5\n",
      "True     2\n",
      "Name: windy, dtype: int64\n",
      "------------------------------\n",
      "yes    7\n",
      "Name: play, dtype: int64\n",
      "------------------------------\n"
     ]
    }
   ],
   "source": [
    "for c in dfy.columns:\n",
    "    print(dfy[c].value_counts())\n",
    "    print('-' * 30)"
   ]
  },
  {
   "cell_type": "code",
   "execution_count": 58,
   "metadata": {},
   "outputs": [
    {
     "name": "stdout",
     "output_type": "stream",
     "text": [
      "sunny    3\n",
      "rainy    2\n",
      "Name: outlook, dtype: int64\n",
      "------------------------------\n",
      "mild    2\n",
      "hot     2\n",
      "cool    1\n",
      "Name: temperature, dtype: int64\n",
      "------------------------------\n",
      "high      4\n",
      "normal    1\n",
      "Name: humidity, dtype: int64\n",
      "------------------------------\n",
      "True     3\n",
      "False    2\n",
      "Name: windy, dtype: int64\n",
      "------------------------------\n",
      "no    5\n",
      "Name: play, dtype: int64\n",
      "------------------------------\n"
     ]
    }
   ],
   "source": [
    "for c in dfn.columns:\n",
    "    print(dfn[c].value_counts())\n",
    "    print('-' * 30)"
   ]
  },
  {
   "cell_type": "code",
   "execution_count": 74,
   "metadata": {},
   "outputs": [
    {
     "data": {
      "text/plain": [
       "overcast    1\n",
       "rainy       3\n",
       "sunny       4\n",
       "Name: outlook, dtype: int64"
      ]
     },
     "execution_count": 74,
     "metadata": {},
     "output_type": "execute_result"
    }
   ],
   "source": [
    "s = df.outlook.value_counts()\n",
    "s[:] = 1\n",
    "s\n",
    "s = dfn.outlook.value_counts() + s\n",
    "s.fillna(1, inplace=True)\n",
    "s.astype('int64')"
   ]
  },
  {
   "cell_type": "code",
   "execution_count": 78,
   "metadata": {},
   "outputs": [],
   "source": [
    "def smooth(df, dff, c):\n",
    "    s = df[c].value_counts()\n",
    "    s[:] = 1\n",
    "    s += dff[c].value_counts()\n",
    "    s.fillna(1, inplace=True)\n",
    "    return s.astype('int64')"
   ]
  },
  {
   "cell_type": "code",
   "execution_count": 82,
   "metadata": {},
   "outputs": [
    {
     "name": "stdout",
     "output_type": "stream",
     "text": [
      "sunny       4\n",
      "rainy       3\n",
      "overcast    1\n",
      "Name: outlook, dtype: int64\n",
      "------------------------------\n",
      "sunny       4\n",
      "rainy       3\n",
      "overcast    1\n",
      "Name: outlook, dtype: int64\n",
      "------------------------------\n",
      "sunny       4\n",
      "rainy       3\n",
      "overcast    1\n",
      "Name: outlook, dtype: int64\n",
      "------------------------------\n",
      "sunny       4\n",
      "rainy       3\n",
      "overcast    1\n",
      "Name: outlook, dtype: int64\n",
      "------------------------------\n",
      "sunny       4\n",
      "rainy       3\n",
      "overcast    1\n",
      "Name: outlook, dtype: int64\n",
      "------------------------------\n"
     ]
    }
   ],
   "source": [
    "for c in dfn.columns:\n",
    "    print(smooth(df, dfn, 'outlook'))\n",
    "    print('-' * 30)"
   ]
  },
  {
   "cell_type": "code",
   "execution_count": 81,
   "metadata": {},
   "outputs": [
    {
     "name": "stdout",
     "output_type": "stream",
     "text": [
      "sunny       3\n",
      "rainy       4\n",
      "overcast    3\n",
      "Name: outlook, dtype: int64\n",
      "------------------------------\n",
      "sunny       3\n",
      "rainy       4\n",
      "overcast    3\n",
      "Name: outlook, dtype: int64\n",
      "------------------------------\n",
      "sunny       3\n",
      "rainy       4\n",
      "overcast    3\n",
      "Name: outlook, dtype: int64\n",
      "------------------------------\n",
      "sunny       3\n",
      "rainy       4\n",
      "overcast    3\n",
      "Name: outlook, dtype: int64\n",
      "------------------------------\n",
      "sunny       3\n",
      "rainy       4\n",
      "overcast    3\n",
      "Name: outlook, dtype: int64\n",
      "------------------------------\n"
     ]
    }
   ],
   "source": [
    "for c in dfy.columns:\n",
    "    print(smooth(df, dfy, 'outlook'))\n",
    "    print('-' * 30)"
   ]
  },
  {
   "cell_type": "markdown",
   "metadata": {},
   "source": [
    "# sk learn"
   ]
  },
  {
   "cell_type": "code",
   "execution_count": 87,
   "metadata": {},
   "outputs": [
    {
     "name": "stdout",
     "output_type": "stream",
     "text": [
      "[0 0 0 0 0 0 0]\n",
      "[[0.57142857 0.42857143]\n",
      " [0.57142857 0.42857143]\n",
      " [0.57142857 0.42857143]\n",
      " [0.57142857 0.42857143]\n",
      " [0.57142857 0.42857143]\n",
      " [0.57142857 0.42857143]\n",
      " [0.57142857 0.42857143]]\n"
     ]
    }
   ],
   "source": [
    "    import numpy as np\n",
    "    X = np.array([1, 1, 1, 0, 0, 1, 1])\n",
    "    X = X.reshape(-1,1)\n",
    "    y = np.array([0, 0, 0, 0, 1, 1, 1])\n",
    "\n",
    "    from sklearn.naive_bayes import MultinomialNB\n",
    "    clf = MultinomialNB()\n",
    "    clf.fit(X, y)\n",
    "\n",
    "    print(clf.predict(X))\n",
    "    print(clf.predict_proba(X))\n",
    "    \n",
    "    [0 0 0 0 0 0 0]\n",
    "    [[0.57142857 0.42857143]\n",
    "     [0.57142857 0.42857143]\n",
    "     [0.57142857 0.42857143]\n",
    "     [0.57142857 0.42857143]\n",
    "     [0.57142857 0.42857143]\n",
    "     [0.57142857 0.42857143]\n",
    "     [0.57142857 0.42857143]]"
   ]
  },
  {
   "cell_type": "code",
   "execution_count": null,
   "metadata": {},
   "outputs": [],
   "source": [
    "from sklearn.preprocessing import LabelEncoder\n",
    "\n",
    "X = df.apply(LabelEncoder().fit_transform)\n",
    "y = LabelEncoder().fit_transform(df.play)\n",
    "X"
   ]
  },
  {
   "cell_type": "code",
   "execution_count": null,
   "metadata": {},
   "outputs": [],
   "source": []
  },
  {
   "cell_type": "code",
   "execution_count": null,
   "metadata": {},
   "outputs": [],
   "source": [
    "from sklearn.naive_bayes import MultinomialNB\n",
    "\n",
    "nb = MultinomialNB()\n",
    "nb.fit(X, y)"
   ]
  },
  {
   "cell_type": "code",
   "execution_count": null,
   "metadata": {},
   "outputs": [],
   "source": [
    "nb.predict(X)"
   ]
  },
  {
   "cell_type": "code",
   "execution_count": null,
   "metadata": {},
   "outputs": [],
   "source": [
    "y == nb.predict(X)"
   ]
  },
  {
   "cell_type": "code",
   "execution_count": null,
   "metadata": {},
   "outputs": [],
   "source": [
    "nb.predict_proba(X)"
   ]
  },
  {
   "cell_type": "code",
   "execution_count": null,
   "metadata": {},
   "outputs": [],
   "source": [
    "X = df.apply(LabelEncoder().fit_transform)\n",
    "y = LabelEncoder().fit_transform(df.play)\n",
    "X"
   ]
  },
  {
   "cell_type": "code",
   "execution_count": null,
   "metadata": {},
   "outputs": [],
   "source": [
    "X"
   ]
  },
  {
   "cell_type": "code",
   "execution_count": null,
   "metadata": {},
   "outputs": [],
   "source": [
    "nb.class_count_"
   ]
  },
  {
   "cell_type": "markdown",
   "metadata": {},
   "source": [
    "# Learn with 1 attribute"
   ]
  },
  {
   "cell_type": "code",
   "execution_count": null,
   "metadata": {},
   "outputs": [],
   "source": [
    "X = LabelEncoder().fit_transform(df.temperature)\n",
    "X = X.reshape(-1,1)"
   ]
  },
  {
   "cell_type": "code",
   "execution_count": null,
   "metadata": {},
   "outputs": [],
   "source": [
    "nb.fit(X,y)\n",
    "nb.predict(X)"
   ]
  },
  {
   "cell_type": "code",
   "execution_count": null,
   "metadata": {},
   "outputs": [],
   "source": [
    "nb.predict_proba(X)"
   ]
  },
  {
   "cell_type": "code",
   "execution_count": null,
   "metadata": {},
   "outputs": [],
   "source": []
  }
 ],
 "metadata": {
  "kernelspec": {
   "display_name": "Python 3",
   "language": "python",
   "name": "python3"
  },
  "language_info": {
   "codemirror_mode": {
    "name": "ipython",
    "version": 3
   },
   "file_extension": ".py",
   "mimetype": "text/x-python",
   "name": "python",
   "nbconvert_exporter": "python",
   "pygments_lexer": "ipython3",
   "version": "3.6.5"
  }
 },
 "nbformat": 4,
 "nbformat_minor": 2
}

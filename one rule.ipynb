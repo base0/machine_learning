{
  "nbformat": 4,
  "nbformat_minor": 0,
  "metadata": {
    "kernelspec": {
      "display_name": "Python 3",
      "language": "python",
      "name": "python3"
    },
    "language_info": {
      "codemirror_mode": {
        "name": "ipython",
        "version": 3
      },
      "file_extension": ".py",
      "mimetype": "text/x-python",
      "name": "python",
      "nbconvert_exporter": "python",
      "pygments_lexer": "ipython3",
      "version": "3.6.5"
    },
    "colab": {
      "name": "one rule.ipynb",
      "provenance": []
    }
  },
  "cells": [
    {
      "cell_type": "markdown",
      "metadata": {
        "id": "E4fQU0fu25uu",
        "colab_type": "text"
      },
      "source": [
        "# One Rule"
      ]
    },
    {
      "cell_type": "code",
      "metadata": {
        "id": "lHRz5jkf25uy",
        "colab_type": "code",
        "colab": {}
      },
      "source": [
        "import pandas as pd\n",
        "\n",
        "df = pd.read_csv('http://www.saedsayad.com/datasets/weather_nominal.csv')\n",
        "df"
      ],
      "execution_count": 0,
      "outputs": []
    },
    {
      "cell_type": "code",
      "metadata": {
        "id": "MB1KYYET25u6",
        "colab_type": "code",
        "colab": {}
      },
      "source": [
        "df['play_yes'] = df['Play golf'].apply(lambda s: 0 if s == 'No' else 1)\n",
        "df['play_no']  = df['Play golf'].apply(lambda s: 1 if s == 'No' else 0)\n",
        "\n",
        "for col in df.columns[:4]:\n",
        "    print(df[[col, 'play_yes', 'play_no']].groupby(col).sum())"
      ],
      "execution_count": 0,
      "outputs": []
    },
    {
      "cell_type": "code",
      "metadata": {
        "id": "2z757Y62DlhD",
        "colab_type": "code",
        "colab": {}
      },
      "source": [
        "# find a column with minimum error\n",
        "err = {}\n",
        "for col in df.columns[:4]:\n",
        "    d = df[[col, 'play_yes', 'play_no']].groupby(col).sum()\n",
        "    d['min'] = d.apply(lambda s : s['play_yes'] if s['play_yes'] < s['play_no'] else s['play_no'], axis=1)\n",
        "    err[col] = d['min'].sum()\n",
        "col = min(err, key=err.get)\n",
        "\n",
        "# get a prediction for the column\n",
        "d = df[[col, 'play_yes', 'play_no']].groupby(col).sum()\n",
        "d['predict'] = d.apply(lambda r : 'yes' if r['play_yes'] > r['play_no'] else 'no', axis=1)\n",
        "for index, row in d.iterrows():\n",
        "    print('if %s = %s then %s' % (col, index, row['predict']))"
      ],
      "execution_count": 0,
      "outputs": []
    },
    {
      "cell_type": "markdown",
      "metadata": {
        "id": "0wt0CXtV994b",
        "colab_type": "text"
      },
      "source": [
        "# ดูการทำงานทีละขั้น"
      ]
    },
    {
      "cell_type": "code",
      "metadata": {
        "id": "wGksdUaY25u3",
        "colab_type": "code",
        "colab": {}
      },
      "source": [
        "df['play_yes'] = df['Play golf'].apply(lambda s: 0 if s == 'No' else 1)\n",
        "df['play_no']  = df['Play golf'].apply(lambda s: 1 if s == 'No' else 0)\n",
        "df"
      ],
      "execution_count": 0,
      "outputs": []
    },
    {
      "cell_type": "code",
      "metadata": {
        "id": "QmDCeSme8cC5",
        "colab_type": "code",
        "colab": {}
      },
      "source": [
        "col = 'Outlook'\n",
        "df[[col, 'play_yes', 'play_no']].groupby(col).sum()"
      ],
      "execution_count": 0,
      "outputs": []
    },
    {
      "cell_type": "code",
      "metadata": {
        "id": "xEUQ0wVZ25vA",
        "colab_type": "code",
        "colab": {}
      },
      "source": [
        "col = 'Outlook'\n",
        "d = df[[col, 'play_yes', 'play_no']].groupby(col).sum()\n",
        "d['min'] = d.apply(lambda s : s['play_yes'] if s['play_yes'] < s['play_no'] else s['play_no'], axis=1)\n",
        "d"
      ],
      "execution_count": 0,
      "outputs": []
    },
    {
      "cell_type": "code",
      "metadata": {
        "id": "dUMQYNmZ25u9",
        "colab_type": "code",
        "colab": {}
      },
      "source": [
        "err = {}\n",
        "for col in df.columns[:4]:\n",
        "    d = df[[col, 'play_yes', 'play_no']].groupby(col).sum()\n",
        "    d['min'] = d.apply(lambda s : s['play_yes'] if s['play_yes'] < s['play_no'] else s['play_no'], axis=1)\n",
        "    err[col] = d['min'].sum()\n",
        "err"
      ],
      "execution_count": 0,
      "outputs": []
    },
    {
      "cell_type": "code",
      "metadata": {
        "id": "t8CDSC_v7lMc",
        "colab_type": "code",
        "colab": {}
      },
      "source": [
        "# find a column with minimum error\n",
        "col = min(err, key=err.get)\n",
        "df[[col, 'play_yes', 'play_no']].groupby(col).sum()"
      ],
      "execution_count": 0,
      "outputs": []
    },
    {
      "cell_type": "code",
      "metadata": {
        "id": "NcTTxZSH--o8",
        "colab_type": "code",
        "colab": {}
      },
      "source": [
        "# get a prediction for the column\n",
        "d = df[[col, 'play_yes', 'play_no']].groupby(col).sum()\n",
        "d['predict'] = d.apply(lambda r : 'yes' if r['play_yes'] > r['play_no'] else 'no', axis=1)\n",
        "d"
      ],
      "execution_count": 0,
      "outputs": []
    },
    {
      "cell_type": "code",
      "metadata": {
        "id": "01kmcq39BpQx",
        "colab_type": "code",
        "colab": {}
      },
      "source": [
        "# print rule\n",
        "for index, row in d.iterrows():\n",
        "    print('if %s = %s then %s' % (col, index, row['predict']))"
      ],
      "execution_count": 0,
      "outputs": []
    },
    {
      "cell_type": "markdown",
      "metadata": {
        "id": "PvCmpYh8NUlN",
        "colab_type": "text"
      },
      "source": [
        "# แบบฝึกหัด\n",
        "1. ทดสอบกับ data set ใหม่ที่มี 2 คลาส\n",
        "1. ทดสอบกับ data set ใหม่ที่มี 3 คลาส\n",
        "\n"
      ]
    },
    {
      "cell_type": "code",
      "metadata": {
        "id": "m76101Q1CrOe",
        "colab_type": "code",
        "colab": {}
      },
      "source": [
        ""
      ],
      "execution_count": 0,
      "outputs": []
    }
  ]
}
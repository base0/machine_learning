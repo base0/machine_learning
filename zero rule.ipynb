{
  "nbformat": 4,
  "nbformat_minor": 0,
  "metadata": {
    "kernelspec": {
      "display_name": "Python 3",
      "language": "python",
      "name": "python3"
    },
    "language_info": {
      "codemirror_mode": {
        "name": "ipython",
        "version": 3
      },
      "file_extension": ".py",
      "mimetype": "text/x-python",
      "name": "python",
      "nbconvert_exporter": "python",
      "pygments_lexer": "ipython3",
      "version": "3.6.5"
    },
    "colab": {
      "name": "zero rule.ipynb",
      "provenance": []
    }
  },
  "cells": [
    {
      "cell_type": "markdown",
      "metadata": {
        "id": "rxqIL2Ew063C",
        "colab_type": "text"
      },
      "source": [
        "# Zero Rule"
      ]
    },
    {
      "cell_type": "code",
      "metadata": {
        "id": "FI9hrYRH063F",
        "colab_type": "code",
        "colab": {}
      },
      "source": [
        "import pandas as pd\n",
        "\n",
        "df = pd.read_csv('http://www.saedsayad.com/datasets/weather_nominal.csv')\n",
        "df"
      ],
      "execution_count": 0,
      "outputs": []
    },
    {
      "cell_type": "code",
      "metadata": {
        "id": "xxAuOcEX063J",
        "colab_type": "code",
        "colab": {}
      },
      "source": [
        "df['play_yes'] = df['Play golf'].apply(lambda s: 0 if s == 'no' else 1)\n",
        "df['play_no']  = df['Play golf'].apply(lambda s: 1 if s == 'no' else 0)\n",
        "df.head()"
      ],
      "execution_count": 0,
      "outputs": []
    },
    {
      "cell_type": "code",
      "metadata": {
        "id": "77lNjgwW063L",
        "colab_type": "code",
        "colab": {}
      },
      "source": [
        "# output prediction\n",
        "'yes' if df['play_yes'].sum() > df['play_no'].sum() else 'no'"
      ],
      "execution_count": 0,
      "outputs": []
    },
    {
      "cell_type": "code",
      "metadata": {
        "id": "gWNro2faHSYo",
        "colab_type": "code",
        "colab": {}
      },
      "source": [
        ""
      ],
      "execution_count": 0,
      "outputs": []
    }
  ]
}